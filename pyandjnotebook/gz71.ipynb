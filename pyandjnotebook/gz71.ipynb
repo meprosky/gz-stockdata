{
 "cells": [
  {
   "cell_type": "code",
   "execution_count": 3,
   "metadata": {},
   "outputs": [
    {
     "name": "stdout",
     "output_type": "stream",
     "text": [
      "Main ver: 67\n",
      "Plot ver: 67\n",
      "RW ver: 67\n",
      "Download ver: 71\n",
      "Const ver: 71\n"
     ]
    }
   ],
   "source": [
    "from gz_import import *\n",
    "from gz_mainlib import *\n",
    "from gz_plotlib import *\n",
    "from gz_dwnllib import *\n",
    "from gz_rwlib import *\n",
    "from gz_const import *\n",
    "\n",
    "mainver()\n",
    "plotver()\n",
    "rwver()\n",
    "dwnlver()\n",
    "constver()"
   ]
  },
  {
   "cell_type": "code",
   "execution_count": 4,
   "metadata": {},
   "outputs": [],
   "source": [
    "reloadlibs()\n",
    "from gz_import import *\n",
    "from gz_mainlib import *\n",
    "from gz_plotlib import *\n",
    "from gz_dwnllib import *\n",
    "from gz_rwlib import *\n",
    "from gz_const import *"
   ]
  },
  {
   "cell_type": "code",
   "execution_count": 4,
   "metadata": {},
   "outputs": [],
   "source": [
    "#df11 = yf.download(['AAPL', 'TSLA'], date_start, date_now)\n",
    "#aa, bb = download_yf_tics(['AAPL', 'TSLA']) #, load_index=False)"
   ]
  },
  {
   "cell_type": "code",
   "execution_count": null,
   "metadata": {},
   "outputs": [],
   "source": []
  },
  {
   "cell_type": "code",
   "execution_count": 4,
   "metadata": {},
   "outputs": [
    {
     "data": {
      "text/plain": [
       "['df_brent',\n",
       " 'df_instruments',\n",
       " 'dfm',\n",
       " 'dfm_coint',\n",
       " 'dfm_corr',\n",
       " 'dfm_doclh',\n",
       " 'dfy',\n",
       " 'dfy_coint',\n",
       " 'dfy_corr',\n",
       " 'dfy_doclh',\n",
       " 'l_industry_retrisksharpe',\n",
       " 'sp500_tics',\n",
       " 'us_tics_download',\n",
       " 'us_tics_short',\n",
       " 'yfinfo']"
      ]
     },
     "execution_count": 4,
     "metadata": {},
     "output_type": "execute_result"
    }
   ],
   "source": [
    "hdf5_contain('dat.h5')"
   ]
  },
  {
   "cell_type": "code",
   "execution_count": 3,
   "metadata": {},
   "outputs": [],
   "source": [
    "dfy = pd.read_hdf('dat.h5', 'dfy')\n",
    "dfm = pd.read_hdf('dat.h5', 'dfm')\n",
    "dfy_doclh = pd.read_hdf('dat.h5', 'dfy_doclh')\n",
    "dfm_doclh = pd.read_hdf('dat.h5', 'dfm_doclh')\n",
    "dfy_corr = pd.read_hdf('dat.h5', 'dfy_corr')\n",
    "dfm_corr = pd.read_hdf('dat.h5', 'dfm_corr')\n",
    "dfm_coint = pd.read_hdf('dat.h5', 'dfm_coint')\n",
    "dfy_coint = pd.read_hdf('dat.h5', 'dfy_coint')"
   ]
  },
  {
   "cell_type": "code",
   "execution_count": 4,
   "metadata": {},
   "outputs": [],
   "source": [
    "df_brent = pd.read_hdf('dat.h5', 'df_brent')\n",
    "dfybrent = pd.merge(df_brent, dfy, on='date')\n",
    "dfybrent_corr = correlation_returns(dfybrent)"
   ]
  },
  {
   "cell_type": "code",
   "execution_count": 5,
   "metadata": {},
   "outputs": [
    {
     "data": {
      "text/html": [
       "<div>\n",
       "<style scoped>\n",
       "    .dataframe tbody tr th:only-of-type {\n",
       "        vertical-align: middle;\n",
       "    }\n",
       "\n",
       "    .dataframe tbody tr th {\n",
       "        vertical-align: top;\n",
       "    }\n",
       "\n",
       "    .dataframe thead th {\n",
       "        text-align: right;\n",
       "    }\n",
       "</style>\n",
       "<table border=\"1\" class=\"dataframe\">\n",
       "  <thead>\n",
       "    <tr style=\"text-align: right;\">\n",
       "      <th></th>\n",
       "      <th>date</th>\n",
       "      <th>BRENT</th>\n",
       "      <th>SP500</th>\n",
       "      <th>NASDAQ</th>\n",
       "      <th>AA</th>\n",
       "      <th>ACAD</th>\n",
       "      <th>ABMD</th>\n",
       "      <th>AAPL</th>\n",
       "      <th>ABBV</th>\n",
       "      <th>ADS</th>\n",
       "      <th>...</th>\n",
       "      <th>ZYXI</th>\n",
       "      <th>WMB</th>\n",
       "      <th>YUM</th>\n",
       "      <th>WMT</th>\n",
       "      <th>XOM</th>\n",
       "      <th>WFC</th>\n",
       "      <th>XRX</th>\n",
       "      <th>SXT</th>\n",
       "      <th>XLNX</th>\n",
       "      <th>EXPD</th>\n",
       "    </tr>\n",
       "  </thead>\n",
       "  <tbody>\n",
       "    <tr>\n",
       "      <th>0</th>\n",
       "      <td>2020-01-02</td>\n",
       "      <td>66.250000</td>\n",
       "      <td>3257.850098</td>\n",
       "      <td>9092.190430</td>\n",
       "      <td>21.373323</td>\n",
       "      <td>41.110001</td>\n",
       "      <td>168.809998</td>\n",
       "      <td>73.988464</td>\n",
       "      <td>80.968925</td>\n",
       "      <td>109.656036</td>\n",
       "      <td>...</td>\n",
       "      <td>7.92</td>\n",
       "      <td>20.607679</td>\n",
       "      <td>98.979515</td>\n",
       "      <td>115.619484</td>\n",
       "      <td>62.684341</td>\n",
       "      <td>50.977924</td>\n",
       "      <td>33.857018</td>\n",
       "      <td>62.200893</td>\n",
       "      <td>100.115349</td>\n",
       "      <td>76.997917</td>\n",
       "    </tr>\n",
       "    <tr>\n",
       "      <th>1</th>\n",
       "      <td>2020-01-03</td>\n",
       "      <td>68.599998</td>\n",
       "      <td>3234.850098</td>\n",
       "      <td>9020.769531</td>\n",
       "      <td>21.453148</td>\n",
       "      <td>40.349998</td>\n",
       "      <td>166.820007</td>\n",
       "      <td>73.269157</td>\n",
       "      <td>80.200363</td>\n",
       "      <td>107.608765</td>\n",
       "      <td>...</td>\n",
       "      <td>8.35</td>\n",
       "      <td>20.695408</td>\n",
       "      <td>98.669495</td>\n",
       "      <td>114.598793</td>\n",
       "      <td>62.180397</td>\n",
       "      <td>50.664944</td>\n",
       "      <td>33.416958</td>\n",
       "      <td>61.333286</td>\n",
       "      <td>97.810677</td>\n",
       "      <td>76.526199</td>\n",
       "    </tr>\n",
       "    <tr>\n",
       "      <th>2</th>\n",
       "      <td>2020-01-06</td>\n",
       "      <td>68.910004</td>\n",
       "      <td>3246.280029</td>\n",
       "      <td>9071.469727</td>\n",
       "      <td>20.954239</td>\n",
       "      <td>42.810001</td>\n",
       "      <td>179.039993</td>\n",
       "      <td>73.852974</td>\n",
       "      <td>80.833290</td>\n",
       "      <td>108.096207</td>\n",
       "      <td>...</td>\n",
       "      <td>8.42</td>\n",
       "      <td>20.967371</td>\n",
       "      <td>98.611382</td>\n",
       "      <td>114.365509</td>\n",
       "      <td>62.657814</td>\n",
       "      <td>50.361446</td>\n",
       "      <td>32.912724</td>\n",
       "      <td>61.218872</td>\n",
       "      <td>95.771927</td>\n",
       "      <td>75.504150</td>\n",
       "    </tr>\n",
       "    <tr>\n",
       "      <th>3</th>\n",
       "      <td>2020-01-07</td>\n",
       "      <td>68.269997</td>\n",
       "      <td>3237.179932</td>\n",
       "      <td>9068.580078</td>\n",
       "      <td>21.273540</td>\n",
       "      <td>42.180000</td>\n",
       "      <td>180.350006</td>\n",
       "      <td>73.505646</td>\n",
       "      <td>80.372154</td>\n",
       "      <td>107.482033</td>\n",
       "      <td>...</td>\n",
       "      <td>8.54</td>\n",
       "      <td>20.967371</td>\n",
       "      <td>98.785759</td>\n",
       "      <td>113.305931</td>\n",
       "      <td>62.145023</td>\n",
       "      <td>49.944134</td>\n",
       "      <td>32.958569</td>\n",
       "      <td>60.494270</td>\n",
       "      <td>97.958405</td>\n",
       "      <td>75.307594</td>\n",
       "    </tr>\n",
       "    <tr>\n",
       "      <th>4</th>\n",
       "      <td>2020-01-08</td>\n",
       "      <td>65.440002</td>\n",
       "      <td>3253.050049</td>\n",
       "      <td>9129.240234</td>\n",
       "      <td>20.415413</td>\n",
       "      <td>44.410000</td>\n",
       "      <td>178.690002</td>\n",
       "      <td>74.688072</td>\n",
       "      <td>80.941788</td>\n",
       "      <td>107.443024</td>\n",
       "      <td>...</td>\n",
       "      <td>8.47</td>\n",
       "      <td>20.642771</td>\n",
       "      <td>98.960144</td>\n",
       "      <td>112.917099</td>\n",
       "      <td>61.207855</td>\n",
       "      <td>50.095886</td>\n",
       "      <td>32.940231</td>\n",
       "      <td>60.418003</td>\n",
       "      <td>97.682640</td>\n",
       "      <td>75.061913</td>\n",
       "    </tr>\n",
       "    <tr>\n",
       "      <th>...</th>\n",
       "      <td>...</td>\n",
       "      <td>...</td>\n",
       "      <td>...</td>\n",
       "      <td>...</td>\n",
       "      <td>...</td>\n",
       "      <td>...</td>\n",
       "      <td>...</td>\n",
       "      <td>...</td>\n",
       "      <td>...</td>\n",
       "      <td>...</td>\n",
       "      <td>...</td>\n",
       "      <td>...</td>\n",
       "      <td>...</td>\n",
       "      <td>...</td>\n",
       "      <td>...</td>\n",
       "      <td>...</td>\n",
       "      <td>...</td>\n",
       "      <td>...</td>\n",
       "      <td>...</td>\n",
       "      <td>...</td>\n",
       "      <td>...</td>\n",
       "    </tr>\n",
       "    <tr>\n",
       "      <th>462</th>\n",
       "      <td>2021-11-01</td>\n",
       "      <td>84.709999</td>\n",
       "      <td>4613.669922</td>\n",
       "      <td>15595.919922</td>\n",
       "      <td>46.730000</td>\n",
       "      <td>20.530001</td>\n",
       "      <td>349.989990</td>\n",
       "      <td>148.742920</td>\n",
       "      <td>114.809998</td>\n",
       "      <td>90.889999</td>\n",
       "      <td>...</td>\n",
       "      <td>12.59</td>\n",
       "      <td>28.540001</td>\n",
       "      <td>126.529999</td>\n",
       "      <td>149.789993</td>\n",
       "      <td>65.629997</td>\n",
       "      <td>51.511112</td>\n",
       "      <td>18.580000</td>\n",
       "      <td>95.480003</td>\n",
       "      <td>185.389999</td>\n",
       "      <td>125.839996</td>\n",
       "    </tr>\n",
       "    <tr>\n",
       "      <th>463</th>\n",
       "      <td>2021-11-02</td>\n",
       "      <td>84.720001</td>\n",
       "      <td>4630.649902</td>\n",
       "      <td>15649.599609</td>\n",
       "      <td>47.080002</td>\n",
       "      <td>19.180000</td>\n",
       "      <td>349.760010</td>\n",
       "      <td>149.801376</td>\n",
       "      <td>116.529999</td>\n",
       "      <td>86.660004</td>\n",
       "      <td>...</td>\n",
       "      <td>12.53</td>\n",
       "      <td>28.389999</td>\n",
       "      <td>124.419998</td>\n",
       "      <td>149.720001</td>\n",
       "      <td>64.820000</td>\n",
       "      <td>51.102692</td>\n",
       "      <td>19.200001</td>\n",
       "      <td>96.980003</td>\n",
       "      <td>188.899994</td>\n",
       "      <td>121.910004</td>\n",
       "    </tr>\n",
       "    <tr>\n",
       "      <th>464</th>\n",
       "      <td>2021-11-03</td>\n",
       "      <td>81.989998</td>\n",
       "      <td>4660.569824</td>\n",
       "      <td>15811.580078</td>\n",
       "      <td>47.430000</td>\n",
       "      <td>20.370001</td>\n",
       "      <td>358.019989</td>\n",
       "      <td>151.269241</td>\n",
       "      <td>117.570000</td>\n",
       "      <td>87.250000</td>\n",
       "      <td>...</td>\n",
       "      <td>13.85</td>\n",
       "      <td>28.299999</td>\n",
       "      <td>124.050003</td>\n",
       "      <td>150.179993</td>\n",
       "      <td>63.930000</td>\n",
       "      <td>51.799999</td>\n",
       "      <td>19.440001</td>\n",
       "      <td>96.440002</td>\n",
       "      <td>191.570007</td>\n",
       "      <td>127.699997</td>\n",
       "    </tr>\n",
       "    <tr>\n",
       "      <th>465</th>\n",
       "      <td>2021-11-04</td>\n",
       "      <td>80.540001</td>\n",
       "      <td>4680.060059</td>\n",
       "      <td>15940.309570</td>\n",
       "      <td>46.369999</td>\n",
       "      <td>20.020000</td>\n",
       "      <td>363.070007</td>\n",
       "      <td>150.740005</td>\n",
       "      <td>117.059998</td>\n",
       "      <td>87.169998</td>\n",
       "      <td>...</td>\n",
       "      <td>14.21</td>\n",
       "      <td>28.280001</td>\n",
       "      <td>125.400002</td>\n",
       "      <td>151.279999</td>\n",
       "      <td>64.410004</td>\n",
       "      <td>50.619999</td>\n",
       "      <td>18.850000</td>\n",
       "      <td>96.580002</td>\n",
       "      <td>198.139999</td>\n",
       "      <td>130.729996</td>\n",
       "    </tr>\n",
       "    <tr>\n",
       "      <th>466</th>\n",
       "      <td>2021-11-05</td>\n",
       "      <td>82.739998</td>\n",
       "      <td>4697.529785</td>\n",
       "      <td>15971.589844</td>\n",
       "      <td>47.860001</td>\n",
       "      <td>20.020000</td>\n",
       "      <td>361.709991</td>\n",
       "      <td>151.279999</td>\n",
       "      <td>117.180000</td>\n",
       "      <td>91.919998</td>\n",
       "      <td>...</td>\n",
       "      <td>14.07</td>\n",
       "      <td>28.559999</td>\n",
       "      <td>126.680000</td>\n",
       "      <td>150.229996</td>\n",
       "      <td>65.019997</td>\n",
       "      <td>50.439999</td>\n",
       "      <td>19.530001</td>\n",
       "      <td>98.050003</td>\n",
       "      <td>198.509995</td>\n",
       "      <td>125.169998</td>\n",
       "    </tr>\n",
       "  </tbody>\n",
       "</table>\n",
       "<p>467 rows × 352 columns</p>\n",
       "</div>"
      ],
      "text/plain": [
       "          date      BRENT        SP500        NASDAQ         AA       ACAD  \\\n",
       "0   2020-01-02  66.250000  3257.850098   9092.190430  21.373323  41.110001   \n",
       "1   2020-01-03  68.599998  3234.850098   9020.769531  21.453148  40.349998   \n",
       "2   2020-01-06  68.910004  3246.280029   9071.469727  20.954239  42.810001   \n",
       "3   2020-01-07  68.269997  3237.179932   9068.580078  21.273540  42.180000   \n",
       "4   2020-01-08  65.440002  3253.050049   9129.240234  20.415413  44.410000   \n",
       "..         ...        ...          ...           ...        ...        ...   \n",
       "462 2021-11-01  84.709999  4613.669922  15595.919922  46.730000  20.530001   \n",
       "463 2021-11-02  84.720001  4630.649902  15649.599609  47.080002  19.180000   \n",
       "464 2021-11-03  81.989998  4660.569824  15811.580078  47.430000  20.370001   \n",
       "465 2021-11-04  80.540001  4680.060059  15940.309570  46.369999  20.020000   \n",
       "466 2021-11-05  82.739998  4697.529785  15971.589844  47.860001  20.020000   \n",
       "\n",
       "           ABMD        AAPL        ABBV         ADS  ...   ZYXI        WMB  \\\n",
       "0    168.809998   73.988464   80.968925  109.656036  ...   7.92  20.607679   \n",
       "1    166.820007   73.269157   80.200363  107.608765  ...   8.35  20.695408   \n",
       "2    179.039993   73.852974   80.833290  108.096207  ...   8.42  20.967371   \n",
       "3    180.350006   73.505646   80.372154  107.482033  ...   8.54  20.967371   \n",
       "4    178.690002   74.688072   80.941788  107.443024  ...   8.47  20.642771   \n",
       "..          ...         ...         ...         ...  ...    ...        ...   \n",
       "462  349.989990  148.742920  114.809998   90.889999  ...  12.59  28.540001   \n",
       "463  349.760010  149.801376  116.529999   86.660004  ...  12.53  28.389999   \n",
       "464  358.019989  151.269241  117.570000   87.250000  ...  13.85  28.299999   \n",
       "465  363.070007  150.740005  117.059998   87.169998  ...  14.21  28.280001   \n",
       "466  361.709991  151.279999  117.180000   91.919998  ...  14.07  28.559999   \n",
       "\n",
       "            YUM         WMT        XOM        WFC        XRX        SXT  \\\n",
       "0     98.979515  115.619484  62.684341  50.977924  33.857018  62.200893   \n",
       "1     98.669495  114.598793  62.180397  50.664944  33.416958  61.333286   \n",
       "2     98.611382  114.365509  62.657814  50.361446  32.912724  61.218872   \n",
       "3     98.785759  113.305931  62.145023  49.944134  32.958569  60.494270   \n",
       "4     98.960144  112.917099  61.207855  50.095886  32.940231  60.418003   \n",
       "..          ...         ...        ...        ...        ...        ...   \n",
       "462  126.529999  149.789993  65.629997  51.511112  18.580000  95.480003   \n",
       "463  124.419998  149.720001  64.820000  51.102692  19.200001  96.980003   \n",
       "464  124.050003  150.179993  63.930000  51.799999  19.440001  96.440002   \n",
       "465  125.400002  151.279999  64.410004  50.619999  18.850000  96.580002   \n",
       "466  126.680000  150.229996  65.019997  50.439999  19.530001  98.050003   \n",
       "\n",
       "           XLNX        EXPD  \n",
       "0    100.115349   76.997917  \n",
       "1     97.810677   76.526199  \n",
       "2     95.771927   75.504150  \n",
       "3     97.958405   75.307594  \n",
       "4     97.682640   75.061913  \n",
       "..          ...         ...  \n",
       "462  185.389999  125.839996  \n",
       "463  188.899994  121.910004  \n",
       "464  191.570007  127.699997  \n",
       "465  198.139999  130.729996  \n",
       "466  198.509995  125.169998  \n",
       "\n",
       "[467 rows x 352 columns]"
      ]
     },
     "execution_count": 5,
     "metadata": {},
     "output_type": "execute_result"
    }
   ],
   "source": [
    "dfybrent"
   ]
  },
  {
   "cell_type": "code",
   "execution_count": 6,
   "metadata": {},
   "outputs": [
    {
     "data": {
      "text/plain": [
       "['Advertising Agencies',\n",
       " 'Aerospace & Defense',\n",
       " 'Agricultural Inputs',\n",
       " 'Airlines',\n",
       " 'Aluminum',\n",
       " 'Apparel Manufacturing',\n",
       " 'Apparel Retail',\n",
       " 'Asset Management',\n",
       " 'Auto & Truck Dealerships',\n",
       " 'Auto Manufacturers',\n",
       " 'Auto Parts',\n",
       " 'Banks—Diversified',\n",
       " 'Banks—Regional',\n",
       " 'Beverages—Brewers',\n",
       " 'Beverages—Non-Alcoholic',\n",
       " 'Beverages—Wineries & Distilleries',\n",
       " 'Biotechnology',\n",
       " 'Broadcasting',\n",
       " 'Building Materials',\n",
       " 'Building Products & Equipment',\n",
       " 'Business Equipment & Supplies',\n",
       " 'Capital Markets',\n",
       " 'Chemicals',\n",
       " 'Communication Equipment',\n",
       " 'Computer Hardware',\n",
       " 'Confectioners',\n",
       " 'Conglomerates',\n",
       " 'Consulting Services',\n",
       " 'Consumer Electronics',\n",
       " 'Copper',\n",
       " 'Credit Services',\n",
       " 'Department Stores',\n",
       " 'Diagnostics & Research',\n",
       " 'Discount Stores',\n",
       " 'Drug Manufacturers—General',\n",
       " 'Drug Manufacturers—Specialty & Generic',\n",
       " 'Education & Training Services',\n",
       " 'Electrical Equipment & Parts',\n",
       " 'Electronic Components',\n",
       " 'Electronic Gaming & Multimedia',\n",
       " 'Electronics & Computer Distribution',\n",
       " 'Engineering & Construction',\n",
       " 'Entertainment',\n",
       " 'Farm & Heavy Construction Machinery',\n",
       " 'Farm Products',\n",
       " 'Financial Conglomerates',\n",
       " 'Financial Data & Stock Exchanges',\n",
       " 'Food Distribution',\n",
       " 'Footwear & Accessories',\n",
       " 'Furnishings, Fixtures & Appliances',\n",
       " 'Gambling',\n",
       " 'Gold',\n",
       " 'Grocery Stores',\n",
       " 'Health Information Services',\n",
       " 'Healthcare Plans',\n",
       " 'Home Improvement Retail',\n",
       " 'Household & Personal Products',\n",
       " 'Industrial Distribution',\n",
       " 'Information Technology Services',\n",
       " 'Insurance Brokers',\n",
       " 'Insurance—Diversified',\n",
       " 'Insurance—Life',\n",
       " 'Insurance—Property & Casualty',\n",
       " 'Insurance—Reinsurance',\n",
       " 'Insurance—Specialty',\n",
       " 'Integrated Freight & Logistics',\n",
       " 'Internet Content & Information',\n",
       " 'Internet Retail',\n",
       " 'Leisure',\n",
       " 'Lodging',\n",
       " 'Lumber & Wood Production',\n",
       " 'Luxury Goods',\n",
       " 'Marine Shipping',\n",
       " 'Medical Care Facilities',\n",
       " 'Medical Devices',\n",
       " 'Medical Distribution',\n",
       " 'Medical Instruments & Supplies',\n",
       " 'Metal Fabrication',\n",
       " 'Mortgage Finance',\n",
       " 'Oil & Gas Drilling',\n",
       " 'Oil & Gas E&P',\n",
       " 'Oil & Gas Equipment & Services',\n",
       " 'Oil & Gas Integrated',\n",
       " 'Oil & Gas Midstream',\n",
       " 'Oil & Gas Refining & Marketing',\n",
       " 'Other Industrial Metals & Mining',\n",
       " 'Packaged Foods',\n",
       " 'Packaging & Containers',\n",
       " 'Paper & Paper Products',\n",
       " 'Personal Services',\n",
       " 'Pharmaceutical Retailers',\n",
       " 'Publishing',\n",
       " 'REIT—Diversified',\n",
       " 'REIT—Healthcare Facilities',\n",
       " 'REIT—Hotel & Motel',\n",
       " 'REIT—Industrial',\n",
       " 'REIT—Office',\n",
       " 'REIT—Residential',\n",
       " 'REIT—Retail',\n",
       " 'REIT—Specialty',\n",
       " 'Railroads',\n",
       " 'Real Estate Services',\n",
       " 'Real Estate—Diversified',\n",
       " 'Recreational Vehicles',\n",
       " 'Rental & Leasing Services',\n",
       " 'Residential Construction',\n",
       " 'Resorts & Casinos',\n",
       " 'Restaurants',\n",
       " 'Scientific & Technical Instruments',\n",
       " 'Security & Protection Services',\n",
       " 'Semiconductor Equipment & Materials',\n",
       " 'Semiconductors',\n",
       " 'Software—Application',\n",
       " 'Software—Infrastructure',\n",
       " 'Solar',\n",
       " 'Specialty Business Services',\n",
       " 'Specialty Chemicals',\n",
       " 'Specialty Industrial Machinery',\n",
       " 'Specialty Retail',\n",
       " 'Staffing & Employment Services',\n",
       " 'Steel',\n",
       " 'Telecom Services',\n",
       " 'Textile Manufacturing',\n",
       " 'Tobacco',\n",
       " 'Tools & Accessories',\n",
       " 'Travel Services',\n",
       " 'Trucking',\n",
       " 'Utilities—Diversified',\n",
       " 'Utilities—Independent Power Producers',\n",
       " 'Utilities—Regulated Electric',\n",
       " 'Utilities—Regulated Gas',\n",
       " 'Utilities—Regulated Water',\n",
       " 'Waste Management']"
      ]
     },
     "execution_count": 6,
     "metadata": {},
     "output_type": "execute_result"
    }
   ],
   "source": [
    "l_industries"
   ]
  },
  {
   "cell_type": "code",
   "execution_count": 8,
   "metadata": {},
   "outputs": [
    {
     "data": {
      "text/plain": [
       "['Basic Materials',\n",
       " 'Communication Services',\n",
       " 'Consumer Cyclical',\n",
       " 'Consumer Defensive',\n",
       " 'Energy',\n",
       " 'Financial Services',\n",
       " 'Healthcare',\n",
       " 'Industrials',\n",
       " 'Real Estate',\n",
       " 'Technology',\n",
       " 'Utilities']"
      ]
     },
     "execution_count": 8,
     "metadata": {},
     "output_type": "execute_result"
    }
   ],
   "source": [
    "l_sectors"
   ]
  },
  {
   "cell_type": "code",
   "execution_count": 7,
   "metadata": {},
   "outputs": [
    {
     "name": "stdout",
     "output_type": "stream",
     "text": [
      "Start load SP500, NASDAQ index... loaded\n",
      "Load: 302. Errs(0): \n",
      "Print thread stopped\n"
     ]
    }
   ],
   "source": [
    "temp_br1 = d_sector_tics['Energy'] + d_sector_tics['Utilities'] + d_sector_tics['Industrials']\n",
    "temp_br1\n",
    "dfbr1,_,_,_,_ = download_yahoo_mt(temp_br1, days_nodata=555)"
   ]
  },
  {
   "cell_type": "code",
   "execution_count": 128,
   "metadata": {},
   "outputs": [],
   "source": [
    "#df_brent.drop(444, axis=0, inplace=True)"
   ]
  },
  {
   "cell_type": "code",
   "execution_count": 8,
   "metadata": {},
   "outputs": [],
   "source": [
    "dfbr1 = pd.merge(df_brent, dfbr1, on='date')"
   ]
  },
  {
   "cell_type": "code",
   "execution_count": null,
   "metadata": {},
   "outputs": [],
   "source": []
  },
  {
   "cell_type": "code",
   "execution_count": 12,
   "metadata": {},
   "outputs": [
    {
     "data": {
      "text/plain": [
       "[]"
      ]
     },
     "execution_count": 12,
     "metadata": {},
     "output_type": "execute_result"
    }
   ],
   "source": [
    "nan_cols = dfbr1.columns[dfbr1.isnull().any()].tolist()\n",
    "nan_cols"
   ]
  },
  {
   "cell_type": "code",
   "execution_count": 11,
   "metadata": {},
   "outputs": [],
   "source": [
    "dfbr1.drop(nan_cols, axis=1, inplace=True)"
   ]
  },
  {
   "cell_type": "code",
   "execution_count": 185,
   "metadata": {},
   "outputs": [],
   "source": [
    "#dfbr1"
   ]
  },
  {
   "cell_type": "code",
   "execution_count": 186,
   "metadata": {},
   "outputs": [],
   "source": [
    "#dfbr1.columns[dfbr1.isnull().any()].tolist()"
   ]
  },
  {
   "cell_type": "code",
   "execution_count": 14,
   "metadata": {},
   "outputs": [],
   "source": [
    "dfbr1_corr = correlation_returns(dfbr1)\n",
    "#dfbr1_corr\n"
   ]
  },
  {
   "cell_type": "code",
   "execution_count": 17,
   "metadata": {},
   "outputs": [
    {
     "data": {
      "text/plain": [
       "{'APA',\n",
       " 'BRENT',\n",
       " 'CLR',\n",
       " 'COP',\n",
       " 'DVN',\n",
       " 'EOG',\n",
       " 'ET',\n",
       " 'FANG',\n",
       " 'HAL',\n",
       " 'HES',\n",
       " 'MGY',\n",
       " 'MRO',\n",
       " 'MUR',\n",
       " 'NOV',\n",
       " 'OIS',\n",
       " 'OKE',\n",
       " 'OVV',\n",
       " 'OXY',\n",
       " 'PUMP',\n",
       " 'PXD',\n",
       " 'SLB'}"
      ]
     },
     "execution_count": 17,
     "metadata": {},
     "output_type": "execute_result"
    }
   ],
   "source": [
    "lcorr_br = dfbr1_corr.loc[dfbr1_corr['BRENT'] > abs(0.5), 'BRENT'].index.tolist()\n",
    "lcorr_sp = dfbr1_corr.loc[dfbr1_corr['SP500'] > abs(0.1), 'SP500'].index.tolist()\n",
    "lbr1 = set(lcorr_br) & set(lcorr_sp)\n",
    "l_brenttics = sorted(dfbr1_corr[lbr1].index)\n",
    "lbr1\n"
   ]
  },
  {
   "cell_type": "code",
   "execution_count": 199,
   "metadata": {},
   "outputs": [
    {
     "data": {
      "text/plain": [
       "Index(['date', 'SP500', 'NASDAQ', 'ABMD', 'ABBV', 'AAPL', 'ACAD', 'ADM', 'ACN',\n",
       "       'AERI',\n",
       "       ...\n",
       "       'WFC', 'KIM', 'ZYXI', 'YUM', 'XOM', 'STAG', 'DRE', 'XRX', 'SXT',\n",
       "       'EXPD'],\n",
       "      dtype='object', length=351)"
      ]
     },
     "execution_count": 199,
     "metadata": {},
     "output_type": "execute_result"
    }
   ],
   "source": [
    "dfy.columns"
   ]
  },
  {
   "cell_type": "code",
   "execution_count": 27,
   "metadata": {},
   "outputs": [
    {
     "data": {
      "text/plain": [
       "{'OVV': 1.05,\n",
       " 'PUMP': 1.0,\n",
       " 'APA': 0.91,\n",
       " 'CLR': 0.91,\n",
       " 'OXY': 0.88,\n",
       " 'OII': 0.86,\n",
       " 'DVN': 0.79,\n",
       " 'HAL': 0.74,\n",
       " 'OKE': 0.71,\n",
       " 'CHX': 0.7,\n",
       " 'EOG': 0.61,\n",
       " 'HP': 0.61,\n",
       " 'PLAY': 0.61,\n",
       " 'SLB': 0.61,\n",
       " 'COP': 0.59,\n",
       " 'PBF': 0.59,\n",
       " 'CHEF': 0.55,\n",
       " 'CNK': 0.53,\n",
       " 'ET': 0.53,\n",
       " 'SIG': 0.51,\n",
       " 'PFGC': 0.5,\n",
       " 'ENDP': 0.48,\n",
       " 'RRGB': 0.47,\n",
       " 'BJRI': 0.46,\n",
       " 'DXC': 0.45,\n",
       " 'BKR': 0.44,\n",
       " 'RCL': 0.44,\n",
       " 'AA': 0.43,\n",
       " 'CCL': 0.43,\n",
       " 'REGI': 0.43,\n",
       " 'MAC': 0.42,\n",
       " 'MPC': 0.42,\n",
       " 'SPR': 0.42,\n",
       " 'CVX': 0.41,\n",
       " 'FCX': 0.41,\n",
       " 'MFGP': 0.41,\n",
       " 'PSX': 0.41,\n",
       " 'SPG': 0.41,\n",
       " 'ADS': 0.39,\n",
       " 'MOS': 0.39,\n",
       " 'USFD': 0.39,\n",
       " 'VTR': 0.39,\n",
       " 'VLO': 0.39,\n",
       " 'CLF': 0.38,\n",
       " 'CPRI': 0.38,\n",
       " 'KEY': 0.38,\n",
       " 'LYB': 0.38,\n",
       " 'XOM': 0.38,\n",
       " 'CFG': 0.37,\n",
       " 'DFS': 0.37,\n",
       " 'HA': 0.37,\n",
       " 'WMB': 0.37,\n",
       " 'RF': 0.36,\n",
       " 'AIG': 0.35,\n",
       " 'BA': 0.35,\n",
       " 'DOW': 0.35,\n",
       " 'KMI': 0.35,\n",
       " 'PTR': 0.35,\n",
       " 'URI': 0.35,\n",
       " 'WYNN': 0.35,\n",
       " 'XRX': 0.35,\n",
       " 'C': 0.34,\n",
       " 'ETRN': 0.34,\n",
       " 'TTM': 0.34,\n",
       " 'COTY': 0.33,\n",
       " 'ENPH': 0.33,\n",
       " 'GT': 0.33,\n",
       " 'M': 0.33,\n",
       " 'UAL': 0.33,\n",
       " 'WELL': 0.33,\n",
       " 'DRI': 0.32,\n",
       " 'RRC': 0.32,\n",
       " 'SAVE': 0.32,\n",
       " 'WDC': 0.32,\n",
       " 'EMR': 0.31,\n",
       " 'GOSS': 0.31,\n",
       " 'KBH': 0.31,\n",
       " 'KIM': 0.31,\n",
       " 'EXPE': 0.3,\n",
       " 'PCG': 0.3,\n",
       " 'PVH': 0.3,\n",
       " 'TRIP': 0.3,\n",
       " 'AXP': 0.29,\n",
       " 'HIG': 0.29,\n",
       " 'LYFT': 0.29,\n",
       " 'SYY': 0.29,\n",
       " 'ARWR': 0.28,\n",
       " 'ATRA': 0.28,\n",
       " 'AVGO': 0.28,\n",
       " 'BAC': 0.28,\n",
       " 'GM': 0.28,\n",
       " 'HCA': 0.28,\n",
       " 'JWN': 0.28,\n",
       " 'MS': 0.28,\n",
       " 'PRU': 0.28,\n",
       " 'TSLA': 0.28,\n",
       " 'UBER': 0.28,\n",
       " 'MU': 0.27,\n",
       " 'VALE': 0.27,\n",
       " 'WFC': 0.27,\n",
       " 'ALK': 0.26,\n",
       " 'AYX': 0.26,\n",
       " 'DAL': 0.26,\n",
       " 'GE': 0.26,\n",
       " 'GS': 0.26,\n",
       " 'IVZ': 0.26,\n",
       " 'JPM': 0.26,\n",
       " 'LGIH': 0.26,\n",
       " 'MBT': 0.26,\n",
       " 'TTD': 0.26,\n",
       " 'TWOU': 0.26,\n",
       " 'YY': 0.26,\n",
       " 'AMAT': 0.25,\n",
       " 'GPS': 0.25,\n",
       " 'HBAN': 0.25,\n",
       " 'HPQ': 0.25,\n",
       " 'LRCX': 0.25,\n",
       " 'MA': 0.25,\n",
       " 'MET': 0.25,\n",
       " 'PINS': 0.25,\n",
       " 'ZYNE': 0.25,\n",
       " 'BUD': 0.24,\n",
       " 'CAT': 0.24,\n",
       " 'H': 0.24,\n",
       " 'LVS': 0.24,\n",
       " 'PBI': 0.24,\n",
       " 'USB': 0.24,\n",
       " 'AERI': 0.23,\n",
       " 'BK': 0.23,\n",
       " 'EVH': 0.23,\n",
       " 'FNKO': 0.23,\n",
       " 'GPN': 0.23,\n",
       " 'GTHX': 0.23,\n",
       " 'HPE': 0.23,\n",
       " 'LOW': 0.23,\n",
       " 'NRG': 0.23,\n",
       " 'ROST': 0.23,\n",
       " 'SNAP': 0.23,\n",
       " 'SEDG': 0.23,\n",
       " 'SP': 0.23,\n",
       " 'ANAB': 0.22,\n",
       " 'BKNG': 0.22,\n",
       " 'BSX': 0.22,\n",
       " 'DHI': 0.22,\n",
       " 'F': 0.22,\n",
       " 'FTNT': 0.22,\n",
       " 'LEN': 0.22,\n",
       " 'LPL': 0.22,\n",
       " 'NTNX': 0.22,\n",
       " 'SAGE': 0.22,\n",
       " 'SQ': 0.22,\n",
       " 'BIDU': 0.21,\n",
       " 'BXP': 0.21,\n",
       " 'CME': 0.21,\n",
       " 'IRBT': 0.21,\n",
       " 'NVDA': 0.21,\n",
       " 'O': 0.21,\n",
       " 'QCOM': 0.21,\n",
       " 'QRVO': 0.21,\n",
       " 'TER': 0.21,\n",
       " 'TROW': 0.21,\n",
       " 'TWTR': 0.21,\n",
       " 'DIS': 0.2,\n",
       " 'FSLR': 0.2,\n",
       " 'HON': 0.2,\n",
       " 'HRTX': 0.2,\n",
       " 'HOG': 0.2,\n",
       " 'INGR': 0.2,\n",
       " 'INTC': 0.2,\n",
       " 'MAR': 0.2,\n",
       " 'MDT': 0.2,\n",
       " 'MSTR': 0.2,\n",
       " 'SBUX': 0.2,\n",
       " 'SCHW': 0.2,\n",
       " 'SPGI': 0.2,\n",
       " 'TSN': 0.2,\n",
       " 'UAA': 0.2,\n",
       " 'TXN': 0.2,\n",
       " 'VEON': 0.2,\n",
       " 'W': 0.2,\n",
       " 'V': 0.2,\n",
       " 'WRK': 0.2,\n",
       " 'BBY': 0.19,\n",
       " 'BEN': 0.19,\n",
       " 'CNP': 0.19,\n",
       " 'IBN': 0.19,\n",
       " 'LUV': 0.19,\n",
       " 'MLCO': 0.19,\n",
       " 'PPC': 0.19,\n",
       " 'RTX': 0.19,\n",
       " 'VREX': 0.19,\n",
       " 'ZGNX': 0.19,\n",
       " 'ADSK': 0.18,\n",
       " 'DXCM': 0.18,\n",
       " 'FDX': 0.18,\n",
       " 'GLW': 0.18,\n",
       " 'HII': 0.18,\n",
       " 'IOVA': 0.18,\n",
       " 'LTHM': 0.18,\n",
       " 'PBCT': 0.18,\n",
       " 'PHM': 0.18,\n",
       " 'RL': 0.18,\n",
       " 'WU': 0.18,\n",
       " 'ADBE': 0.17,\n",
       " 'ADM': 0.17,\n",
       " 'ALB': 0.17,\n",
       " 'CNC': 0.17,\n",
       " 'CMCSA': 0.17,\n",
       " 'CRM': 0.17,\n",
       " 'DKNG': 0.17,\n",
       " 'GOOGL': 0.17,\n",
       " 'GOOG': 0.17,\n",
       " 'HD': 0.17,\n",
       " 'IBM': 0.17,\n",
       " 'JP': 0.17,\n",
       " 'LEVI': 0.17,\n",
       " 'MDB': 0.17,\n",
       " 'MCD': 0.17,\n",
       " 'MTCH': 0.17,\n",
       " 'OMC': 0.17,\n",
       " 'PM': 0.17,\n",
       " 'PYPL': 0.17,\n",
       " 'SRPT': 0.17,\n",
       " 'TJX': 0.17,\n",
       " 'WB': 0.17,\n",
       " 'XLNX': 0.17,\n",
       " 'STAG': 0.17,\n",
       " 'ACAD': 0.16,\n",
       " 'ACN': 0.16,\n",
       " 'AMD': 0.16,\n",
       " 'EQT': 0.16,\n",
       " 'FB': 0.16,\n",
       " 'HLT': 0.16,\n",
       " 'MSFT': 0.16,\n",
       " 'NTES': 0.16,\n",
       " 'UNH': 0.16,\n",
       " 'Z': 0.16,\n",
       " 'SXT': 0.16,\n",
       " 'AAPL': 0.15,\n",
       " 'BTI': 0.15,\n",
       " 'CSCO': 0.15,\n",
       " 'EHTH': 0.15,\n",
       " 'GD': 0.15,\n",
       " 'EXC': 0.15,\n",
       " 'HAS': 0.15,\n",
       " 'ILMN': 0.15,\n",
       " 'LMT': 0.15,\n",
       " 'LHX': 0.15,\n",
       " 'NTAP': 0.15,\n",
       " 'SWN': 0.15,\n",
       " 'TMUS': 0.15,\n",
       " 'TSM': 0.15,\n",
       " 'VIAC': 0.15,\n",
       " 'ZYXI': 0.15,\n",
       " 'ANET': 0.14,\n",
       " 'CRWD': 0.14,\n",
       " 'DDOG': 0.14,\n",
       " 'EIX': 0.14,\n",
       " 'GRMN': 0.14,\n",
       " 'JCOM': 0.14,\n",
       " 'JD': 0.14,\n",
       " 'MNST': 0.14,\n",
       " 'NKE': 0.14,\n",
       " 'SNPS': 0.14,\n",
       " 'STX': 0.14,\n",
       " 'ABBV': 0.13,\n",
       " 'DDS': 0.13,\n",
       " 'DISCA': 0.13,\n",
       " 'EA': 0.13,\n",
       " 'JOYY': 0.13,\n",
       " 'KO': 0.13,\n",
       " 'MAS': 0.13,\n",
       " 'MMM': 0.13,\n",
       " 'MOMO': 0.13,\n",
       " 'PPL': 0.13,\n",
       " 'SPCE': 0.13,\n",
       " 'VRTX': 0.13,\n",
       " 'YUM': 0.13,\n",
       " 'AMGN': 0.12,\n",
       " 'AMT': 0.12,\n",
       " 'EPAM': 0.12,\n",
       " 'INCY': 0.12,\n",
       " 'KHC': 0.12,\n",
       " 'PEP': 0.12,\n",
       " 'RACE': 0.12,\n",
       " 'TWLO': 0.12,\n",
       " 'LSTR': 0.12,\n",
       " 'EXPD': 0.12,\n",
       " 'ARE': 0.11,\n",
       " 'BABA': 0.11,\n",
       " 'CAH': 0.11,\n",
       " 'MDLZ': 0.11,\n",
       " 'NDAQ': 0.11,\n",
       " 'ORCL': 0.11,\n",
       " 'T': 0.11,\n",
       " 'UPWK': 0.11,\n",
       " 'ABMD': 0.1,\n",
       " 'ATVI': 0.1,\n",
       " 'BYND': 0.1,\n",
       " 'IDXX': 0.1,\n",
       " 'IRM': 0.1,\n",
       " 'MO': 0.1,\n",
       " 'MRK': 0.1,\n",
       " 'ROKU': 0.1,\n",
       " 'SHI': 0.1,\n",
       " 'SNY': 0.1,\n",
       " 'AMZN': 0.09,\n",
       " 'BMY': 0.09,\n",
       " 'CVS': 0.09,\n",
       " 'DHR': 0.09,\n",
       " 'ETSY': 0.09,\n",
       " 'LLY': 0.09,\n",
       " 'NEM': 0.09,\n",
       " 'REGN': 0.09,\n",
       " 'UPS': 0.09,\n",
       " 'WM': 0.09,\n",
       " 'DRE': 0.09,\n",
       " 'BIIB': 0.08,\n",
       " 'GILD': 0.08,\n",
       " 'NET': 0.08,\n",
       " 'PG': 0.08,\n",
       " 'SMAR': 0.08,\n",
       " 'SO': 0.08,\n",
       " 'ABT': 0.07,\n",
       " 'JNJ': 0.07,\n",
       " 'NFLX': 0.07,\n",
       " 'TAL': 0.07,\n",
       " 'VZ': 0.07,\n",
       " 'NEE': 0.06,\n",
       " 'TGT': 0.06,\n",
       " 'TTWO': 0.06,\n",
       " 'WBA': 0.06,\n",
       " 'ZS': 0.06,\n",
       " 'BLL': 0.05,\n",
       " 'D': 0.05,\n",
       " 'EBAY': 0.05,\n",
       " 'HEAR': 0.05,\n",
       " 'KMB': 0.04,\n",
       " 'WMT': 0.04,\n",
       " 'CTXS': 0.01,\n",
       " 'ED': 0.01,\n",
       " 'KR': 0.01,\n",
       " 'VIPS': -0.0,\n",
       " 'DOCU': -0.01,\n",
       " 'MRNA': -0.01,\n",
       " 'TDOC': -0.04,\n",
       " 'PTON': -0.05,\n",
       " 'ZM': -0.05}"
      ]
     },
     "execution_count": 27,
     "metadata": {},
     "output_type": "execute_result"
    }
   ],
   "source": [
    "d_beta_br = {x:round(beta(dfybrent, x, 'BRENT'),2) for x in dfybrent.columns[4:]}\n",
    "d_beta_br\n",
    "dict(sorted(d_beta_br.items(), key=lambda item: item[1], reverse=True))"
   ]
  },
  {
   "cell_type": "code",
   "execution_count": 25,
   "metadata": {},
   "outputs": [
    {
     "data": {
      "text/plain": [
       "{'CHEF': 2.16,\n",
       " 'PBF': 2.16,\n",
       " 'PLAY': 2.1,\n",
       " 'OII': 2.04,\n",
       " 'OVV': 1.91,\n",
       " 'SIG': 1.89,\n",
       " 'CCL': 1.88,\n",
       " 'RRGB': 1.87,\n",
       " 'DXC': 1.86,\n",
       " 'BJRI': 1.85,\n",
       " 'APA': 1.84,\n",
       " 'CHX': 1.82,\n",
       " 'DFS': 1.8,\n",
       " 'HAL': 1.79,\n",
       " 'OXY': 1.78,\n",
       " 'SAVE': 1.78,\n",
       " 'PFGC': 1.77,\n",
       " 'RCL': 1.76,\n",
       " 'HP': 1.75,\n",
       " 'CLR': 1.72,\n",
       " 'BA': 1.69,\n",
       " 'PVH': 1.69,\n",
       " 'PUMP': 1.68,\n",
       " 'ADS': 1.67,\n",
       " 'DVN': 1.66,\n",
       " 'CPRI': 1.63,\n",
       " 'W': 1.63,\n",
       " 'IVZ': 1.62,\n",
       " 'SPR': 1.62,\n",
       " 'FCX': 1.61,\n",
       " 'KEY': 1.59,\n",
       " 'MPC': 1.59,\n",
       " 'REGI': 1.59,\n",
       " 'CFG': 1.57,\n",
       " 'LRCX': 1.57,\n",
       " 'OKE': 1.57,\n",
       " 'CLF': 1.56,\n",
       " 'ENPH': 1.56,\n",
       " 'GPS': 1.56,\n",
       " 'DDS': 1.55,\n",
       " 'DRI': 1.55,\n",
       " 'KBH': 1.55,\n",
       " 'UAL': 1.55,\n",
       " 'LTHM': 1.54,\n",
       " 'PRU': 1.54,\n",
       " 'JWN': 1.53,\n",
       " 'AA': 1.52,\n",
       " 'AMAT': 1.52,\n",
       " 'USFD': 1.52,\n",
       " 'C': 1.51,\n",
       " 'SPG': 1.49,\n",
       " 'AIG': 1.48,\n",
       " 'EVH': 1.48,\n",
       " 'RF': 1.48,\n",
       " 'WYNN': 1.48,\n",
       " 'SQ': 1.47,\n",
       " 'URI': 1.47,\n",
       " 'VTR': 1.47,\n",
       " 'HOG': 1.46,\n",
       " 'LGIH': 1.46,\n",
       " 'LYB': 1.46,\n",
       " 'SLB': 1.46,\n",
       " 'VLO': 1.46,\n",
       " 'COTY': 1.44,\n",
       " 'WDC': 1.44,\n",
       " 'AXP': 1.43,\n",
       " 'BKR': 1.43,\n",
       " 'PINS': 1.43,\n",
       " 'ALK': 1.42,\n",
       " 'COP': 1.42,\n",
       " 'MET': 1.41,\n",
       " 'TTM': 1.41,\n",
       " 'LYFT': 1.4,\n",
       " 'MS': 1.4,\n",
       " 'SEDG': 1.4,\n",
       " 'TTD': 1.4,\n",
       " 'GTHX': 1.38,\n",
       " 'FNKO': 1.37,\n",
       " 'HA': 1.37,\n",
       " 'NVDA': 1.37,\n",
       " 'GPN': 1.36,\n",
       " 'MAC': 1.36,\n",
       " 'PBI': 1.36,\n",
       " 'SPCE': 1.36,\n",
       " 'BAC': 1.35,\n",
       " 'QRVO': 1.35,\n",
       " 'M': 1.34,\n",
       " 'WFC': 1.34,\n",
       " 'WELL': 1.34,\n",
       " 'MU': 1.33,\n",
       " 'TER': 1.33,\n",
       " 'WRK': 1.33,\n",
       " 'CVX': 1.32,\n",
       " 'MOS': 1.32,\n",
       " 'PSX': 1.32,\n",
       " 'VALE': 1.32,\n",
       " 'DOW': 1.31,\n",
       " 'PHM': 1.31,\n",
       " 'XRX': 1.31,\n",
       " 'DAL': 1.3,\n",
       " 'NTNX': 1.3,\n",
       " 'SYY': 1.3,\n",
       " 'EXPE': 1.29,\n",
       " 'TSLA': 1.29,\n",
       " 'Z': 1.29,\n",
       " 'EOG': 1.28,\n",
       " 'GLW': 1.28,\n",
       " 'LEN': 1.28,\n",
       " 'AVGO': 1.27,\n",
       " 'UAA': 1.27,\n",
       " 'KIM': 1.27,\n",
       " 'GT': 1.26,\n",
       " 'HBAN': 1.26,\n",
       " 'USB': 1.26,\n",
       " 'GM': 1.24,\n",
       " 'GS': 1.24,\n",
       " 'JPM': 1.24,\n",
       " 'MA': 1.24,\n",
       " 'ENDP': 1.23,\n",
       " 'EPAM': 1.23,\n",
       " 'CNP': 1.21,\n",
       " 'GE': 1.21,\n",
       " 'IOVA': 1.21,\n",
       " 'PYPL': 1.21,\n",
       " 'ALB': 1.2,\n",
       " 'ATRA': 1.2,\n",
       " 'CNK': 1.2,\n",
       " 'PBCT': 1.2,\n",
       " 'RTX': 1.2,\n",
       " 'SP': 1.2,\n",
       " 'ADSK': 1.19,\n",
       " 'AYX': 1.19,\n",
       " 'PCG': 1.19,\n",
       " 'QCOM': 1.19,\n",
       " 'TROW': 1.19,\n",
       " 'AMD': 1.18,\n",
       " 'DHI': 1.18,\n",
       " 'INTC': 1.18,\n",
       " 'TWTR': 1.18,\n",
       " 'EMR': 1.17,\n",
       " 'STAG': 1.17,\n",
       " 'AAPL': 1.15,\n",
       " 'EXC': 1.15,\n",
       " 'HCA': 1.15,\n",
       " 'HIG': 1.15,\n",
       " 'LOW': 1.15,\n",
       " 'MFGP': 1.15,\n",
       " 'ROST': 1.15,\n",
       " 'TWOU': 1.15,\n",
       " 'HPQ': 1.14,\n",
       " 'LEVI': 1.14,\n",
       " 'TRIP': 1.14,\n",
       " 'VIAC': 1.14,\n",
       " 'BBY': 1.13,\n",
       " 'BEN': 1.13,\n",
       " 'BXP': 1.13,\n",
       " 'O': 1.13,\n",
       " 'SAGE': 1.13,\n",
       " 'TXN': 1.13,\n",
       " 'UBER': 1.13,\n",
       " 'ARWR': 1.12,\n",
       " 'BKNG': 1.12,\n",
       " 'MSFT': 1.12,\n",
       " 'V': 1.12,\n",
       " 'WMB': 1.12,\n",
       " 'ADBE': 1.11,\n",
       " 'HPE': 1.11,\n",
       " 'SBUX': 1.11,\n",
       " 'SCHW': 1.11,\n",
       " 'F': 1.1,\n",
       " 'SPGI': 1.1,\n",
       " 'TJX': 1.1,\n",
       " 'LUV': 1.09,\n",
       " 'LVS': 1.09,\n",
       " 'MAR': 1.08,\n",
       " 'RL': 1.08,\n",
       " 'UNH': 1.08,\n",
       " 'XOM': 1.08,\n",
       " 'BK': 1.07,\n",
       " 'FDX': 1.07,\n",
       " 'KMI': 1.07,\n",
       " 'DRE': 1.07,\n",
       " 'HD': 1.06,\n",
       " 'HON': 1.06,\n",
       " 'NTAP': 1.06,\n",
       " 'SNPS': 1.06,\n",
       " 'SNAP': 1.06,\n",
       " 'XLNX': 1.06,\n",
       " 'ACN': 1.05,\n",
       " 'ETSY': 1.05,\n",
       " 'H': 1.05,\n",
       " 'CRM': 1.04,\n",
       " 'EHTH': 1.04,\n",
       " 'FTNT': 1.04,\n",
       " 'IBN': 1.04,\n",
       " 'ANET': 1.03,\n",
       " 'CNC': 1.03,\n",
       " 'DIS': 1.03,\n",
       " 'LPL': 1.03,\n",
       " 'NRG': 1.03,\n",
       " 'FB': 1.02,\n",
       " 'HAS': 1.02,\n",
       " 'RRC': 1.02,\n",
       " 'VREX': 1.02,\n",
       " 'DKNG': 1.01,\n",
       " 'ET': 1.01,\n",
       " 'BSX': 1.0,\n",
       " 'NDAQ': 1.0,\n",
       " 'AERI': 0.99,\n",
       " 'GOOGL': 0.99,\n",
       " 'HRTX': 0.99,\n",
       " 'CAT': 0.98,\n",
       " 'GOOG': 0.98,\n",
       " 'CME': 0.97,\n",
       " 'CSCO': 0.97,\n",
       " 'GOSS': 0.97,\n",
       " 'MTCH': 0.97,\n",
       " 'OMC': 0.97,\n",
       " 'PPL': 0.97,\n",
       " 'SMAR': 0.96,\n",
       " 'TSM': 0.96,\n",
       " 'ANAB': 0.95,\n",
       " 'AMT': 0.95,\n",
       " 'ARE': 0.95,\n",
       " 'EIX': 0.95,\n",
       " 'IBM': 0.95,\n",
       " 'MDB': 0.95,\n",
       " 'MDT': 0.95,\n",
       " 'MLCO': 0.95,\n",
       " 'ROKU': 0.95,\n",
       " 'SXT': 0.95,\n",
       " 'ADM': 0.94,\n",
       " 'MAS': 0.94,\n",
       " 'NKE': 0.94,\n",
       " 'SO': 0.94,\n",
       " 'STX': 0.94,\n",
       " 'ZGNX': 0.94,\n",
       " 'ZYXI': 0.94,\n",
       " 'GRMN': 0.92,\n",
       " 'HLT': 0.92,\n",
       " 'CAH': 0.91,\n",
       " 'CMCSA': 0.91,\n",
       " 'MCD': 0.91,\n",
       " 'NEE': 0.91,\n",
       " 'KHC': 0.9,\n",
       " 'MSTR': 0.9,\n",
       " 'ORCL': 0.9,\n",
       " 'BUD': 0.89,\n",
       " 'FSLR': 0.89,\n",
       " 'GD': 0.89,\n",
       " 'ILMN': 0.89,\n",
       " 'IRM': 0.89,\n",
       " 'MNST': 0.89,\n",
       " 'RACE': 0.89,\n",
       " 'PPC': 0.88,\n",
       " 'YUM': 0.88,\n",
       " 'D': 0.87,\n",
       " 'INGR': 0.87,\n",
       " 'LHX': 0.87,\n",
       " 'MBT': 0.87,\n",
       " 'DXCM': 0.86,\n",
       " 'ETRN': 0.86,\n",
       " 'IDXX': 0.86,\n",
       " 'PM': 0.86,\n",
       " 'TWLO': 0.86,\n",
       " 'JCOM': 0.85,\n",
       " 'PEP': 0.85,\n",
       " 'TMUS': 0.85,\n",
       " 'LSTR': 0.85,\n",
       " 'SRPT': 0.84,\n",
       " 'ZYNE': 0.84,\n",
       " 'LMT': 0.83,\n",
       " 'YY': 0.83,\n",
       " 'WU': 0.83,\n",
       " 'ABT': 0.82,\n",
       " 'BYND': 0.82,\n",
       " 'CRWD': 0.82,\n",
       " 'DDOG': 0.82,\n",
       " 'DISCA': 0.82,\n",
       " 'HII': 0.82,\n",
       " 'IRBT': 0.82,\n",
       " 'JD': 0.82,\n",
       " 'BIDU': 0.81,\n",
       " 'BIIB': 0.81,\n",
       " 'HEAR': 0.81,\n",
       " 'MDLZ': 0.8,\n",
       " 'AMGN': 0.79,\n",
       " 'PTR': 0.79,\n",
       " 'T': 0.79,\n",
       " 'VRTX': 0.79,\n",
       " 'WBA': 0.79,\n",
       " 'BLL': 0.78,\n",
       " 'CVS': 0.78,\n",
       " 'KO': 0.78,\n",
       " 'MMM': 0.78,\n",
       " 'UPS': 0.78,\n",
       " 'WM': 0.78,\n",
       " 'EQT': 0.77,\n",
       " 'DHR': 0.76,\n",
       " 'JOYY': 0.76,\n",
       " 'VEON': 0.75,\n",
       " 'ACAD': 0.74,\n",
       " 'MO': 0.74,\n",
       " 'MOMO': 0.73,\n",
       " 'TSN': 0.73,\n",
       " 'AMZN': 0.72,\n",
       " 'EXPD': 0.72,\n",
       " 'ABBV': 0.71,\n",
       " 'LLY': 0.71,\n",
       " 'NET': 0.71,\n",
       " 'BTI': 0.7,\n",
       " 'TGT': 0.7,\n",
       " 'NFLX': 0.69,\n",
       " 'DOCU': 0.68,\n",
       " 'INCY': 0.68,\n",
       " 'NTES': 0.68,\n",
       " 'PG': 0.68,\n",
       " 'UPWK': 0.68,\n",
       " 'WB': 0.68,\n",
       " 'EBAY': 0.66,\n",
       " 'JNJ': 0.66,\n",
       " 'MRK': 0.66,\n",
       " 'ABMD': 0.65,\n",
       " 'ATVI': 0.65,\n",
       " 'ED': 0.64,\n",
       " 'BABA': 0.63,\n",
       " 'TTWO': 0.63,\n",
       " 'ZS': 0.63,\n",
       " 'BMY': 0.6,\n",
       " 'SNY': 0.6,\n",
       " 'EA': 0.59,\n",
       " 'REGN': 0.57,\n",
       " 'CTXS': 0.56,\n",
       " 'TAL': 0.55,\n",
       " 'KMB': 0.53,\n",
       " 'SHI': 0.53,\n",
       " 'WMT': 0.52,\n",
       " 'VZ': 0.51,\n",
       " 'GILD': 0.47,\n",
       " 'NEM': 0.44,\n",
       " 'JP': 0.39,\n",
       " 'VIPS': 0.34,\n",
       " 'TDOC': 0.33,\n",
       " 'PTON': 0.31,\n",
       " 'SWN': 0.29,\n",
       " 'KR': 0.22,\n",
       " 'MRNA': 0.07,\n",
       " 'ZM': -0.04}"
      ]
     },
     "execution_count": 25,
     "metadata": {},
     "output_type": "execute_result"
    }
   ],
   "source": [
    "d_betasp500 = {x:round(beta(dfy, x, 'SP500'),2) for x in dfy.columns[3:]}\n",
    "d_betasp500\n",
    "dict(sorted(d_betasp500.items(), key=lambda item: item[1], reverse=True))   "
   ]
  },
  {
   "cell_type": "code",
   "execution_count": 9,
   "metadata": {},
   "outputs": [
    {
     "data": {
      "text/plain": [
       "{'zip': '07054',\n",
       " 'sector': 'Energy',\n",
       " 'fullTimeEmployees': 3729,\n",
       " 'longBusinessSummary': 'PBF Energy Inc., together with its subsidiaries, engages in refining and supplying petroleum products. The company operates in two segments, Refining and Logistics. It produces gasoline, ultra-low-sulfur diesel, heating oil, diesel fuel, jet fuel, lubricants, petrochemicals, and asphalt, as well as unbranded transportation fuels, petrochemical feedstocks, blending components, and other petroleum products. The company sells its products in Northeast, Midwest, Gulf Coast, and West Coast of the United States, as well as in other regions of the United States, Canada, and Mexico. It also offers various rail, truck, and marine terminaling services, as well as pipeline transportation and storage services. The company owns and operates six oil refineries and related assets. PBF Energy Inc. was founded in 2008 and is based in Parsippany, New Jersey.',\n",
       " 'city': 'Parsippany',\n",
       " 'phone': '973 455 7500',\n",
       " 'state': 'NJ',\n",
       " 'country': 'United States',\n",
       " 'companyOfficers': [],\n",
       " 'website': 'http://www.pbfenergy.com',\n",
       " 'maxAge': 86400,\n",
       " 'address1': 'One Sylvan Way',\n",
       " 'industry': 'Oil & Gas Refining & Marketing',\n",
       " 'address2': 'Second Floor',\n",
       " 'ticker': 'PBF'}"
      ]
     },
     "execution_count": 9,
     "metadata": {},
     "output_type": "execute_result"
    }
   ],
   "source": [
    "yfinfo['PBF']"
   ]
  },
  {
   "cell_type": "code",
   "execution_count": 194,
   "metadata": {},
   "outputs": [
    {
     "data": {
      "text/plain": [
       "{'BRENT': 0.78,\n",
       " 'ET': 1.02,\n",
       " 'EOG': 1.29,\n",
       " 'MGY': 1.35,\n",
       " 'HES': 1.43,\n",
       " 'COP': 1.43,\n",
       " 'PXD': 1.44,\n",
       " 'SLB': 1.46,\n",
       " 'MRO': 1.46,\n",
       " 'OIS': 1.46,\n",
       " 'FANG': 1.52,\n",
       " 'OKE': 1.58,\n",
       " 'NOV': 1.62,\n",
       " 'DVN': 1.66,\n",
       " 'PUMP': 1.69,\n",
       " 'MUR': 1.72,\n",
       " 'CLR': 1.73,\n",
       " 'HAL': 1.79,\n",
       " 'OXY': 1.79,\n",
       " 'APA': 1.84,\n",
       " 'OVV': 1.91}"
      ]
     },
     "execution_count": 194,
     "metadata": {},
     "output_type": "execute_result"
    }
   ],
   "source": [
    "#for x in l_brenttics:\n",
    "#    print(x, 'beta SP500', round(beta(dfybrent, x, 'SP500'),2))\n",
    "\n",
    "d_betasp500 = {x:round(beta(dfbr1, x, 'SP500'),2) for x in lbr1}\n",
    "d_betasp500\n",
    "dict(sorted(d_betasp500.items(), key=lambda item: item[1]))    "
   ]
  },
  {
   "cell_type": "code",
   "execution_count": 23,
   "metadata": {},
   "outputs": [
    {
     "data": {
      "text/plain": [
       "dict_keys(['BRENT', 'APA', 'BKR', 'CHX', 'CLR', 'COP', 'CVX', 'DOW', 'DVN', 'ET', 'EMR', 'EOG', 'HAL', 'HP', 'KMI', 'MBT', 'OII', 'OKE', 'OVV', 'OXY', 'PTR', 'PUMP', 'PSX', 'SLB', 'WMB', 'XOM'])"
      ]
     },
     "execution_count": 23,
     "metadata": {},
     "output_type": "execute_result"
    }
   ],
   "source": [
    "lbrentcorr.to_dict().keys()"
   ]
  },
  {
   "cell_type": "code",
   "execution_count": 25,
   "metadata": {},
   "outputs": [
    {
     "name": "stdout",
     "output_type": "stream",
     "text": [
      "BRENT beta brent 1.0\n",
      "APA beta brent 0.89\n",
      "BKR beta brent 0.43\n",
      "CHX beta brent 0.69\n",
      "CLR beta brent 0.89\n",
      "COP beta brent 0.57\n",
      "CVX beta brent 0.41\n",
      "DOW beta brent 0.35\n",
      "DVN beta brent 0.77\n",
      "ET beta brent 0.52\n",
      "EMR beta brent 0.31\n",
      "EOG beta brent 0.59\n",
      "HAL beta brent 0.72\n",
      "HP beta brent 0.6\n",
      "KMI beta brent 0.34\n",
      "MBT beta brent 0.26\n",
      "OII beta brent 0.84\n",
      "OKE beta brent 0.7\n",
      "OVV beta brent 1.03\n",
      "OXY beta brent 0.87\n",
      "PTR beta brent 0.34\n",
      "PUMP beta brent 0.99\n",
      "PSX beta brent 0.41\n",
      "SLB beta brent 0.59\n",
      "WMB beta brent 0.37\n",
      "XOM beta brent 0.37\n"
     ]
    }
   ],
   "source": [
    "beta_brent = []\n",
    "for x,y in lbrentcorr.to_dict().items():\n",
    "    print(x, 'beta brent', round(beta(dfybrent, x, 'BRENT'),2))"
   ]
  },
  {
   "cell_type": "code",
   "execution_count": 4,
   "metadata": {},
   "outputs": [],
   "source": [
    "#hdf5_contain('dat.h5')\n",
    "#hdf5_writejson('dat.h5', 'yfinfo', yf_dict_new)\n",
    "#hdf5_rewrite('dat.h5', 'datnew.h5')"
   ]
  },
  {
   "cell_type": "code",
   "execution_count": 7,
   "metadata": {},
   "outputs": [],
   "source": [
    "#dfy"
   ]
  },
  {
   "cell_type": "code",
   "execution_count": 7,
   "metadata": {},
   "outputs": [
    {
     "data": {
      "text/plain": [
       "['Basic Materials',\n",
       " 'Communication Services',\n",
       " 'Consumer Cyclical',\n",
       " 'Consumer Defensive',\n",
       " 'Energy',\n",
       " 'Financial Services',\n",
       " 'Healthcare',\n",
       " 'Industrials',\n",
       " 'Real Estate',\n",
       " 'Technology',\n",
       " 'Utilities']"
      ]
     },
     "execution_count": 7,
     "metadata": {},
     "output_type": "execute_result"
    }
   ],
   "source": [
    "l_sectors"
   ]
  },
  {
   "cell_type": "code",
   "execution_count": 8,
   "metadata": {},
   "outputs": [
    {
     "data": {
      "text/plain": [
       "['Advertising Agencies',\n",
       " 'Aerospace & Defense',\n",
       " 'Agricultural Inputs',\n",
       " 'Airlines',\n",
       " 'Aluminum',\n",
       " 'Apparel Manufacturing',\n",
       " 'Apparel Retail',\n",
       " 'Asset Management',\n",
       " 'Auto & Truck Dealerships',\n",
       " 'Auto Manufacturers',\n",
       " 'Auto Parts',\n",
       " 'Banks—Diversified',\n",
       " 'Banks—Regional',\n",
       " 'Beverages—Brewers',\n",
       " 'Beverages—Non-Alcoholic',\n",
       " 'Beverages—Wineries & Distilleries',\n",
       " 'Biotechnology',\n",
       " 'Broadcasting',\n",
       " 'Building Materials',\n",
       " 'Building Products & Equipment',\n",
       " 'Business Equipment & Supplies',\n",
       " 'Capital Markets',\n",
       " 'Chemicals',\n",
       " 'Communication Equipment',\n",
       " 'Computer Hardware',\n",
       " 'Confectioners',\n",
       " 'Conglomerates',\n",
       " 'Consulting Services',\n",
       " 'Consumer Electronics',\n",
       " 'Copper',\n",
       " 'Credit Services',\n",
       " 'Department Stores',\n",
       " 'Diagnostics & Research',\n",
       " 'Discount Stores',\n",
       " 'Drug Manufacturers—General',\n",
       " 'Drug Manufacturers—Specialty & Generic',\n",
       " 'Education & Training Services',\n",
       " 'Electrical Equipment & Parts',\n",
       " 'Electronic Components',\n",
       " 'Electronic Gaming & Multimedia',\n",
       " 'Electronics & Computer Distribution',\n",
       " 'Engineering & Construction',\n",
       " 'Entertainment',\n",
       " 'Farm & Heavy Construction Machinery',\n",
       " 'Farm Products',\n",
       " 'Financial Conglomerates',\n",
       " 'Financial Data & Stock Exchanges',\n",
       " 'Food Distribution',\n",
       " 'Footwear & Accessories',\n",
       " 'Furnishings, Fixtures & Appliances',\n",
       " 'Gambling',\n",
       " 'Gold',\n",
       " 'Grocery Stores',\n",
       " 'Health Information Services',\n",
       " 'Healthcare Plans',\n",
       " 'Home Improvement Retail',\n",
       " 'Household & Personal Products',\n",
       " 'Industrial Distribution',\n",
       " 'Information Technology Services',\n",
       " 'Insurance Brokers',\n",
       " 'Insurance—Diversified',\n",
       " 'Insurance—Life',\n",
       " 'Insurance—Property & Casualty',\n",
       " 'Insurance—Reinsurance',\n",
       " 'Insurance—Specialty',\n",
       " 'Integrated Freight & Logistics',\n",
       " 'Internet Content & Information',\n",
       " 'Internet Retail',\n",
       " 'Leisure',\n",
       " 'Lodging',\n",
       " 'Lumber & Wood Production',\n",
       " 'Luxury Goods',\n",
       " 'Marine Shipping',\n",
       " 'Medical Care Facilities',\n",
       " 'Medical Devices',\n",
       " 'Medical Distribution',\n",
       " 'Medical Instruments & Supplies',\n",
       " 'Metal Fabrication',\n",
       " 'Mortgage Finance',\n",
       " 'Oil & Gas Drilling',\n",
       " 'Oil & Gas E&P',\n",
       " 'Oil & Gas Equipment & Services',\n",
       " 'Oil & Gas Integrated',\n",
       " 'Oil & Gas Midstream',\n",
       " 'Oil & Gas Refining & Marketing',\n",
       " 'Other Industrial Metals & Mining',\n",
       " 'Packaged Foods',\n",
       " 'Packaging & Containers',\n",
       " 'Paper & Paper Products',\n",
       " 'Personal Services',\n",
       " 'Pharmaceutical Retailers',\n",
       " 'Publishing',\n",
       " 'REIT—Diversified',\n",
       " 'REIT—Healthcare Facilities',\n",
       " 'REIT—Hotel & Motel',\n",
       " 'REIT—Industrial',\n",
       " 'REIT—Office',\n",
       " 'REIT—Residential',\n",
       " 'REIT—Retail',\n",
       " 'REIT—Specialty',\n",
       " 'Railroads',\n",
       " 'Real Estate Services',\n",
       " 'Real Estate—Diversified',\n",
       " 'Recreational Vehicles',\n",
       " 'Rental & Leasing Services',\n",
       " 'Residential Construction',\n",
       " 'Resorts & Casinos',\n",
       " 'Restaurants',\n",
       " 'Scientific & Technical Instruments',\n",
       " 'Security & Protection Services',\n",
       " 'Semiconductor Equipment & Materials',\n",
       " 'Semiconductors',\n",
       " 'Software—Application',\n",
       " 'Software—Infrastructure',\n",
       " 'Solar',\n",
       " 'Specialty Business Services',\n",
       " 'Specialty Chemicals',\n",
       " 'Specialty Industrial Machinery',\n",
       " 'Specialty Retail',\n",
       " 'Staffing & Employment Services',\n",
       " 'Steel',\n",
       " 'Telecom Services',\n",
       " 'Textile Manufacturing',\n",
       " 'Tobacco',\n",
       " 'Tools & Accessories',\n",
       " 'Travel Services',\n",
       " 'Trucking',\n",
       " 'Utilities—Diversified',\n",
       " 'Utilities—Independent Power Producers',\n",
       " 'Utilities—Regulated Electric',\n",
       " 'Utilities—Regulated Gas',\n",
       " 'Utilities—Regulated Water',\n",
       " 'Waste Management']"
      ]
     },
     "execution_count": 8,
     "metadata": {},
     "output_type": "execute_result"
    }
   ],
   "source": [
    "l_industries"
   ]
  },
  {
   "cell_type": "code",
   "execution_count": null,
   "metadata": {},
   "outputs": [],
   "source": [
    "#{x:list(set(f1) & set(y)) for x,y in d_industry_tics.items() if len(set(f1) & set(y)) > 0}"
   ]
  },
  {
   "cell_type": "code",
   "execution_count": 46,
   "metadata": {},
   "outputs": [
    {
     "data": {
      "text/plain": [
       "['APA',\n",
       " 'BKR',\n",
       " 'CHK',\n",
       " 'CHX',\n",
       " 'CLR',\n",
       " 'COG',\n",
       " 'COP',\n",
       " 'CVX',\n",
       " 'DK',\n",
       " 'DNOW',\n",
       " 'DRQ',\n",
       " 'DVN',\n",
       " 'EOG',\n",
       " 'EQT',\n",
       " 'ET',\n",
       " 'ETRN',\n",
       " 'FANG',\n",
       " 'FTI',\n",
       " 'HAL',\n",
       " 'HES',\n",
       " 'HFC',\n",
       " 'HP',\n",
       " 'KMI',\n",
       " 'MGY',\n",
       " 'MPC',\n",
       " 'MRC',\n",
       " 'MRO',\n",
       " 'MUR',\n",
       " 'NOV',\n",
       " 'OII',\n",
       " 'OIS',\n",
       " 'OKE',\n",
       " 'OVV',\n",
       " 'OXY',\n",
       " 'PBF',\n",
       " 'PSX',\n",
       " 'PTR',\n",
       " 'PUMP',\n",
       " 'PXD',\n",
       " 'REGI',\n",
       " 'REX',\n",
       " 'RIG',\n",
       " 'RRC',\n",
       " 'SHI',\n",
       " 'SLB',\n",
       " 'SWN',\n",
       " 'VLO',\n",
       " 'WHD',\n",
       " 'WMB',\n",
       " 'WTTR',\n",
       " 'XEC',\n",
       " 'XOM']"
      ]
     },
     "execution_count": 46,
     "metadata": {},
     "output_type": "execute_result"
    }
   ],
   "source": [
    "d_sector_tics['Energy']"
   ]
  },
  {
   "cell_type": "code",
   "execution_count": 11,
   "metadata": {},
   "outputs": [
    {
     "name": "stdout",
     "output_type": "stream",
     "text": [
      "['AMWD', 'FBHS', 'LEG', 'MHK', 'MLHR', 'SNBR', 'TPX', 'WHR']\n"
     ]
    }
   ],
   "source": [
    "temp_tics = d_industry_tics['Furnishings, Fixtures & Appliances']\n",
    "print(temp_tics)"
   ]
  },
  {
   "cell_type": "code",
   "execution_count": 12,
   "metadata": {},
   "outputs": [
    {
     "data": {
      "text/plain": [
       "set()"
      ]
     },
     "execution_count": 12,
     "metadata": {},
     "output_type": "execute_result"
    }
   ],
   "source": [
    "set(temp_tics) & set(us_tics_download)"
   ]
  },
  {
   "cell_type": "code",
   "execution_count": null,
   "metadata": {},
   "outputs": [],
   "source": [
    "#'GOED' in all_us_ticks"
   ]
  },
  {
   "cell_type": "code",
   "execution_count": null,
   "metadata": {},
   "outputs": [],
   "source": [
    "#yfinfo['JNJ']\n",
    "#temp_tics = temp_tics[:5]"
   ]
  },
  {
   "cell_type": "code",
   "execution_count": 13,
   "metadata": {},
   "outputs": [
    {
     "name": "stdout",
     "output_type": "stream",
     "text": [
      "Start load SP500, NASDAQ index... loaded\n",
      "Load: 10 . Errs(0): \n",
      "Print thread stopped\n"
     ]
    }
   ],
   "source": [
    "df_temp,_,_,_,_ = download_yahoo_mt(temp_tics, days_nodata=555)"
   ]
  },
  {
   "cell_type": "code",
   "execution_count": 14,
   "metadata": {},
   "outputs": [
    {
     "data": {
      "image/png": "[encoded data removed]",
      "text/plain": [
       "<Figure size 360x216 with 1 Axes>"
      ]
     },
     "metadata": {
      "needs_background": "light"
     },
     "output_type": "display_data"
    },
    {
     "data": {
      "image/png": "[encoded data removed]",
      "text/plain": [
       "<Figure size 360x216 with 1 Axes>"
      ]
     },
     "metadata": {
      "needs_background": "light"
     },
     "output_type": "display_data"
    },
    {
     "data": {
      "image/png": "[encoded data removed]",
      "text/plain": [
       "<Figure size 360x216 with 1 Axes>"
      ]
     },
     "metadata": {
      "needs_background": "light"
     },
     "output_type": "display_data"
    },
    {
     "data": {
      "image/png": "[encoded data removed]",
      "text/plain": [
       "<Figure size 360x216 with 1 Axes>"
      ]
     },
     "metadata": {
      "needs_background": "light"
     },
     "output_type": "display_data"
    },
    {
     "data": {
      "image/png": "[encoded data removed]",
      "text/plain": [
       "<Figure size 360x216 with 1 Axes>"
      ]
     },
     "metadata": {
      "needs_background": "light"
     },
     "output_type": "display_data"
    },
    {
     "data": {
      "image/png": "[encoded data removed]",
      "text/plain": [
       "<Figure size 360x216 with 1 Axes>"
      ]
     },
     "metadata": {
      "needs_background": "light"
     },
     "output_type": "display_data"
    },
    {
     "data": {
      "image/png": "[encoded data removed]",
      "text/plain": [
       "<Figure size 360x216 with 1 Axes>"
      ]
     },
     "metadata": {
      "needs_background": "light"
     },
     "output_type": "display_data"
    },
    {
     "data": {
      "image/png": "[encoded data removed]",
      "text/plain": [
       "<Figure size 360x216 with 1 Axes>"
      ]
     },
     "metadata": {
      "needs_background": "light"
     },
     "output_type": "display_data"
    }
   ],
   "source": [
    "plot_LR_tics_d(df_temp, temp_tics)"
   ]
  },
  {
   "cell_type": "code",
   "execution_count": null,
   "metadata": {},
   "outputs": [],
   "source": [
    "download_ticker_info('TWST')"
   ]
  },
  {
   "cell_type": "code",
   "execution_count": null,
   "metadata": {},
   "outputs": [],
   "source": []
  },
  {
   "cell_type": "code",
   "execution_count": null,
   "metadata": {},
   "outputs": [],
   "source": [
    " set(all_us_ticks) & set(diag)"
   ]
  },
  {
   "cell_type": "code",
   "execution_count": null,
   "metadata": {},
   "outputs": [],
   "source": [
    "resl = hdf5_readjson('dat.h5', 'l_industry_retrisksharpe')\n",
    "for x in resl:\n",
    "    if x[3] < 0.2:\n",
    "        print(x)"
   ]
  },
  {
   "cell_type": "code",
   "execution_count": null,
   "metadata": {},
   "outputs": [],
   "source": [
    "l_temp = sorted(sum([y for x,y in d_industry_tics.items() if 'Pharmaceutical Retailers' in x],[]))\n",
    "l_tempshort = list(set(l_temp) & set(us_tics_short))\n",
    "l_tempshort\n",
    "print(l_tempshort)\n",
    "return_risk_portfolio(dfy, l_tempshort, [])"
   ]
  },
  {
   "cell_type": "code",
   "execution_count": null,
   "metadata": {},
   "outputs": [],
   "source": [
    "plot_LR_tics_d(dfy, l_tempshort)"
   ]
  },
  {
   "cell_type": "code",
   "execution_count": null,
   "metadata": {},
   "outputs": [],
   "source": [
    "plot_LR_tics_d(dfy, 'TSLA')"
   ]
  },
  {
   "cell_type": "code",
   "execution_count": null,
   "metadata": {},
   "outputs": [],
   "source": [
    "#plot_LR_tics_d(dfy[-80:], l_tempshort, g_size_d=(10,4), num_interval=12)"
   ]
  },
  {
   "cell_type": "code",
   "execution_count": null,
   "metadata": {},
   "outputs": [],
   "source": [
    "'''\n",
    "resl = []\n",
    "for x in l_industries:\n",
    "    ...\n",
    "    #df_temp,_,_,_,_ = download_yahoo_mt(d_industry_tics[x], load_index=False, \n",
    "                                           #t1 = datetime.date(2020,1,1), t2 = now)\n",
    "    #ret, risk, sharpe = return_risk_portfolio(df_temp, cols_wo_dates(df_temp), [])\n",
    "    #resl.append([x,ret,risk, sharpe])\n",
    "    #print('Industry', x, 'ret:', ret, 'risk:', risk, 'sharpe', sharpe\n",
    "'''"
   ]
  },
  {
   "cell_type": "code",
   "execution_count": null,
   "metadata": {
    "scrolled": true
   },
   "outputs": [],
   "source": []
  },
  {
   "cell_type": "code",
   "execution_count": 14,
   "metadata": {},
   "outputs": [],
   "source": [
    "dfy21 = dfy[dfy['date'] > '2021-01-01']\n",
    "dfy21_corr = correlation_returns(dfy21)"
   ]
  },
  {
   "cell_type": "code",
   "execution_count": 15,
   "metadata": {},
   "outputs": [
    {
     "data": {
      "text/html": [
       "<div>\n",
       "<style scoped>\n",
       "    .dataframe tbody tr th:only-of-type {\n",
       "        vertical-align: middle;\n",
       "    }\n",
       "\n",
       "    .dataframe tbody tr th {\n",
       "        vertical-align: top;\n",
       "    }\n",
       "\n",
       "    .dataframe thead th {\n",
       "        text-align: right;\n",
       "    }\n",
       "</style>\n",
       "<table border=\"1\" class=\"dataframe\">\n",
       "  <thead>\n",
       "    <tr style=\"text-align: right;\">\n",
       "      <th></th>\n",
       "      <th>SP500</th>\n",
       "      <th>NASDAQ</th>\n",
       "      <th>ACAD</th>\n",
       "      <th>ABMD</th>\n",
       "      <th>AA</th>\n",
       "      <th>ADBE</th>\n",
       "      <th>ABBV</th>\n",
       "      <th>ADS</th>\n",
       "      <th>AERI</th>\n",
       "      <th>ADSK</th>\n",
       "      <th>...</th>\n",
       "      <th>WMB</th>\n",
       "      <th>XRX</th>\n",
       "      <th>XOM</th>\n",
       "      <th>STAG</th>\n",
       "      <th>ZYXI</th>\n",
       "      <th>KIM</th>\n",
       "      <th>SXT</th>\n",
       "      <th>DRE</th>\n",
       "      <th>LSTR</th>\n",
       "      <th>EXPD</th>\n",
       "    </tr>\n",
       "  </thead>\n",
       "  <tbody>\n",
       "    <tr>\n",
       "      <th>SP500</th>\n",
       "      <td>1.000000</td>\n",
       "      <td>0.825885</td>\n",
       "      <td>0.013346</td>\n",
       "      <td>0.361967</td>\n",
       "      <td>0.336331</td>\n",
       "      <td>0.588688</td>\n",
       "      <td>0.395653</td>\n",
       "      <td>0.374087</td>\n",
       "      <td>0.233357</td>\n",
       "      <td>0.640336</td>\n",
       "      <td>...</td>\n",
       "      <td>0.333720</td>\n",
       "      <td>0.434915</td>\n",
       "      <td>0.317170</td>\n",
       "      <td>0.481961</td>\n",
       "      <td>0.151469</td>\n",
       "      <td>0.444824</td>\n",
       "      <td>0.494590</td>\n",
       "      <td>0.433732</td>\n",
       "      <td>0.458630</td>\n",
       "      <td>0.520047</td>\n",
       "    </tr>\n",
       "    <tr>\n",
       "      <th>NASDAQ</th>\n",
       "      <td>0.825885</td>\n",
       "      <td>1.000000</td>\n",
       "      <td>-0.054700</td>\n",
       "      <td>0.549657</td>\n",
       "      <td>0.171140</td>\n",
       "      <td>0.819213</td>\n",
       "      <td>0.326152</td>\n",
       "      <td>0.157217</td>\n",
       "      <td>0.374956</td>\n",
       "      <td>0.688937</td>\n",
       "      <td>...</td>\n",
       "      <td>0.100344</td>\n",
       "      <td>0.368640</td>\n",
       "      <td>0.055569</td>\n",
       "      <td>0.486215</td>\n",
       "      <td>0.230225</td>\n",
       "      <td>0.290622</td>\n",
       "      <td>0.296136</td>\n",
       "      <td>0.503409</td>\n",
       "      <td>0.359572</td>\n",
       "      <td>0.396366</td>\n",
       "    </tr>\n",
       "    <tr>\n",
       "      <th>ACAD</th>\n",
       "      <td>0.013346</td>\n",
       "      <td>-0.054700</td>\n",
       "      <td>1.000000</td>\n",
       "      <td>-0.027826</td>\n",
       "      <td>0.042815</td>\n",
       "      <td>-0.094179</td>\n",
       "      <td>0.101038</td>\n",
       "      <td>0.126033</td>\n",
       "      <td>0.077015</td>\n",
       "      <td>-0.030294</td>\n",
       "      <td>...</td>\n",
       "      <td>0.229158</td>\n",
       "      <td>0.057263</td>\n",
       "      <td>0.160215</td>\n",
       "      <td>0.085316</td>\n",
       "      <td>-0.042207</td>\n",
       "      <td>0.182800</td>\n",
       "      <td>0.101183</td>\n",
       "      <td>0.041061</td>\n",
       "      <td>0.085182</td>\n",
       "      <td>0.014405</td>\n",
       "    </tr>\n",
       "    <tr>\n",
       "      <th>ABMD</th>\n",
       "      <td>0.361967</td>\n",
       "      <td>0.549657</td>\n",
       "      <td>-0.027826</td>\n",
       "      <td>1.000000</td>\n",
       "      <td>-0.109096</td>\n",
       "      <td>0.586708</td>\n",
       "      <td>0.225559</td>\n",
       "      <td>-0.123660</td>\n",
       "      <td>0.263937</td>\n",
       "      <td>0.396938</td>\n",
       "      <td>...</td>\n",
       "      <td>-0.136744</td>\n",
       "      <td>0.130708</td>\n",
       "      <td>-0.238278</td>\n",
       "      <td>0.330737</td>\n",
       "      <td>0.113604</td>\n",
       "      <td>0.103105</td>\n",
       "      <td>0.016590</td>\n",
       "      <td>0.357575</td>\n",
       "      <td>0.118108</td>\n",
       "      <td>0.140528</td>\n",
       "    </tr>\n",
       "    <tr>\n",
       "      <th>AA</th>\n",
       "      <td>0.336331</td>\n",
       "      <td>0.171140</td>\n",
       "      <td>0.042815</td>\n",
       "      <td>-0.109096</td>\n",
       "      <td>1.000000</td>\n",
       "      <td>-0.053741</td>\n",
       "      <td>0.036828</td>\n",
       "      <td>0.548225</td>\n",
       "      <td>0.006948</td>\n",
       "      <td>0.180529</td>\n",
       "      <td>...</td>\n",
       "      <td>0.508402</td>\n",
       "      <td>0.417755</td>\n",
       "      <td>0.546358</td>\n",
       "      <td>-0.040548</td>\n",
       "      <td>0.194314</td>\n",
       "      <td>0.369126</td>\n",
       "      <td>0.319086</td>\n",
       "      <td>-0.095929</td>\n",
       "      <td>0.443617</td>\n",
       "      <td>0.214635</td>\n",
       "    </tr>\n",
       "    <tr>\n",
       "      <th>...</th>\n",
       "      <td>...</td>\n",
       "      <td>...</td>\n",
       "      <td>...</td>\n",
       "      <td>...</td>\n",
       "      <td>...</td>\n",
       "      <td>...</td>\n",
       "      <td>...</td>\n",
       "      <td>...</td>\n",
       "      <td>...</td>\n",
       "      <td>...</td>\n",
       "      <td>...</td>\n",
       "      <td>...</td>\n",
       "      <td>...</td>\n",
       "      <td>...</td>\n",
       "      <td>...</td>\n",
       "      <td>...</td>\n",
       "      <td>...</td>\n",
       "      <td>...</td>\n",
       "      <td>...</td>\n",
       "      <td>...</td>\n",
       "      <td>...</td>\n",
       "    </tr>\n",
       "    <tr>\n",
       "      <th>KIM</th>\n",
       "      <td>0.444824</td>\n",
       "      <td>0.290622</td>\n",
       "      <td>0.182800</td>\n",
       "      <td>0.103105</td>\n",
       "      <td>0.369126</td>\n",
       "      <td>0.106555</td>\n",
       "      <td>0.114332</td>\n",
       "      <td>0.456415</td>\n",
       "      <td>0.254929</td>\n",
       "      <td>0.085392</td>\n",
       "      <td>...</td>\n",
       "      <td>0.362885</td>\n",
       "      <td>0.465202</td>\n",
       "      <td>0.314077</td>\n",
       "      <td>0.483711</td>\n",
       "      <td>0.285451</td>\n",
       "      <td>1.000000</td>\n",
       "      <td>0.384614</td>\n",
       "      <td>0.356851</td>\n",
       "      <td>0.550593</td>\n",
       "      <td>0.390228</td>\n",
       "    </tr>\n",
       "    <tr>\n",
       "      <th>SXT</th>\n",
       "      <td>0.494590</td>\n",
       "      <td>0.296136</td>\n",
       "      <td>0.101183</td>\n",
       "      <td>0.016590</td>\n",
       "      <td>0.319086</td>\n",
       "      <td>0.021479</td>\n",
       "      <td>0.156441</td>\n",
       "      <td>0.337731</td>\n",
       "      <td>-0.025774</td>\n",
       "      <td>0.299600</td>\n",
       "      <td>...</td>\n",
       "      <td>0.378574</td>\n",
       "      <td>0.369474</td>\n",
       "      <td>0.335985</td>\n",
       "      <td>0.217541</td>\n",
       "      <td>0.001975</td>\n",
       "      <td>0.384614</td>\n",
       "      <td>1.000000</td>\n",
       "      <td>0.128955</td>\n",
       "      <td>0.388327</td>\n",
       "      <td>0.407597</td>\n",
       "    </tr>\n",
       "    <tr>\n",
       "      <th>DRE</th>\n",
       "      <td>0.433732</td>\n",
       "      <td>0.503409</td>\n",
       "      <td>0.041061</td>\n",
       "      <td>0.357575</td>\n",
       "      <td>-0.095929</td>\n",
       "      <td>0.574857</td>\n",
       "      <td>0.209595</td>\n",
       "      <td>-0.117326</td>\n",
       "      <td>0.239524</td>\n",
       "      <td>0.124834</td>\n",
       "      <td>...</td>\n",
       "      <td>-0.046246</td>\n",
       "      <td>0.295904</td>\n",
       "      <td>-0.181357</td>\n",
       "      <td>0.792614</td>\n",
       "      <td>0.120588</td>\n",
       "      <td>0.356851</td>\n",
       "      <td>0.128955</td>\n",
       "      <td>1.000000</td>\n",
       "      <td>0.348754</td>\n",
       "      <td>0.370812</td>\n",
       "    </tr>\n",
       "    <tr>\n",
       "      <th>LSTR</th>\n",
       "      <td>0.458630</td>\n",
       "      <td>0.359572</td>\n",
       "      <td>0.085182</td>\n",
       "      <td>0.118108</td>\n",
       "      <td>0.443617</td>\n",
       "      <td>0.202079</td>\n",
       "      <td>0.185530</td>\n",
       "      <td>0.363719</td>\n",
       "      <td>0.236997</td>\n",
       "      <td>0.147970</td>\n",
       "      <td>...</td>\n",
       "      <td>0.232963</td>\n",
       "      <td>0.357366</td>\n",
       "      <td>0.260554</td>\n",
       "      <td>0.408716</td>\n",
       "      <td>0.185043</td>\n",
       "      <td>0.550593</td>\n",
       "      <td>0.388327</td>\n",
       "      <td>0.348754</td>\n",
       "      <td>1.000000</td>\n",
       "      <td>0.512640</td>\n",
       "    </tr>\n",
       "    <tr>\n",
       "      <th>EXPD</th>\n",
       "      <td>0.520047</td>\n",
       "      <td>0.396366</td>\n",
       "      <td>0.014405</td>\n",
       "      <td>0.140528</td>\n",
       "      <td>0.214635</td>\n",
       "      <td>0.307224</td>\n",
       "      <td>0.252029</td>\n",
       "      <td>0.236586</td>\n",
       "      <td>0.170000</td>\n",
       "      <td>0.257008</td>\n",
       "      <td>...</td>\n",
       "      <td>0.238995</td>\n",
       "      <td>0.271468</td>\n",
       "      <td>0.188675</td>\n",
       "      <td>0.412984</td>\n",
       "      <td>0.144013</td>\n",
       "      <td>0.390228</td>\n",
       "      <td>0.407597</td>\n",
       "      <td>0.370812</td>\n",
       "      <td>0.512640</td>\n",
       "      <td>1.000000</td>\n",
       "    </tr>\n",
       "  </tbody>\n",
       "</table>\n",
       "<p>351 rows × 351 columns</p>\n",
       "</div>"
      ],
      "text/plain": [
       "           SP500    NASDAQ      ACAD      ABMD        AA      ADBE      ABBV  \\\n",
       "SP500   1.000000  0.825885  0.013346  0.361967  0.336331  0.588688  0.395653   \n",
       "NASDAQ  0.825885  1.000000 -0.054700  0.549657  0.171140  0.819213  0.326152   \n",
       "ACAD    0.013346 -0.054700  1.000000 -0.027826  0.042815 -0.094179  0.101038   \n",
       "ABMD    0.361967  0.549657 -0.027826  1.000000 -0.109096  0.586708  0.225559   \n",
       "AA      0.336331  0.171140  0.042815 -0.109096  1.000000 -0.053741  0.036828   \n",
       "...          ...       ...       ...       ...       ...       ...       ...   \n",
       "KIM     0.444824  0.290622  0.182800  0.103105  0.369126  0.106555  0.114332   \n",
       "SXT     0.494590  0.296136  0.101183  0.016590  0.319086  0.021479  0.156441   \n",
       "DRE     0.433732  0.503409  0.041061  0.357575 -0.095929  0.574857  0.209595   \n",
       "LSTR    0.458630  0.359572  0.085182  0.118108  0.443617  0.202079  0.185530   \n",
       "EXPD    0.520047  0.396366  0.014405  0.140528  0.214635  0.307224  0.252029   \n",
       "\n",
       "             ADS      AERI      ADSK  ...       WMB       XRX       XOM  \\\n",
       "SP500   0.374087  0.233357  0.640336  ...  0.333720  0.434915  0.317170   \n",
       "NASDAQ  0.157217  0.374956  0.688937  ...  0.100344  0.368640  0.055569   \n",
       "ACAD    0.126033  0.077015 -0.030294  ...  0.229158  0.057263  0.160215   \n",
       "ABMD   -0.123660  0.263937  0.396938  ... -0.136744  0.130708 -0.238278   \n",
       "AA      0.548225  0.006948  0.180529  ...  0.508402  0.417755  0.546358   \n",
       "...          ...       ...       ...  ...       ...       ...       ...   \n",
       "KIM     0.456415  0.254929  0.085392  ...  0.362885  0.465202  0.314077   \n",
       "SXT     0.337731 -0.025774  0.299600  ...  0.378574  0.369474  0.335985   \n",
       "DRE    -0.117326  0.239524  0.124834  ... -0.046246  0.295904 -0.181357   \n",
       "LSTR    0.363719  0.236997  0.147970  ...  0.232963  0.357366  0.260554   \n",
       "EXPD    0.236586  0.170000  0.257008  ...  0.238995  0.271468  0.188675   \n",
       "\n",
       "            STAG      ZYXI       KIM       SXT       DRE      LSTR      EXPD  \n",
       "SP500   0.481961  0.151469  0.444824  0.494590  0.433732  0.458630  0.520047  \n",
       "NASDAQ  0.486215  0.230225  0.290622  0.296136  0.503409  0.359572  0.396366  \n",
       "ACAD    0.085316 -0.042207  0.182800  0.101183  0.041061  0.085182  0.014405  \n",
       "ABMD    0.330737  0.113604  0.103105  0.016590  0.357575  0.118108  0.140528  \n",
       "AA     -0.040548  0.194314  0.369126  0.319086 -0.095929  0.443617  0.214635  \n",
       "...          ...       ...       ...       ...       ...       ...       ...  \n",
       "KIM     0.483711  0.285451  1.000000  0.384614  0.356851  0.550593  0.390228  \n",
       "SXT     0.217541  0.001975  0.384614  1.000000  0.128955  0.388327  0.407597  \n",
       "DRE     0.792614  0.120588  0.356851  0.128955  1.000000  0.348754  0.370812  \n",
       "LSTR    0.408716  0.185043  0.550593  0.388327  0.348754  1.000000  0.512640  \n",
       "EXPD    0.412984  0.144013  0.390228  0.407597  0.370812  0.512640  1.000000  \n",
       "\n",
       "[351 rows x 351 columns]"
      ]
     },
     "execution_count": 15,
     "metadata": {},
     "output_type": "execute_result"
    }
   ],
   "source": [
    "dfy21_corr"
   ]
  },
  {
   "cell_type": "code",
   "execution_count": null,
   "metadata": {},
   "outputs": [],
   "source": []
  },
  {
   "cell_type": "code",
   "execution_count": null,
   "metadata": {},
   "outputs": [],
   "source": [
    "dfy_coint.columns[2:]\n",
    "dfy_corr.columns[2:]"
   ]
  },
  {
   "cell_type": "code",
   "execution_count": null,
   "metadata": {},
   "outputs": [],
   "source": [
    "return_risk_stock(dfy[-180:], 'SPCE')"
   ]
  },
  {
   "cell_type": "code",
   "execution_count": null,
   "metadata": {},
   "outputs": [],
   "source": [
    "for x,y in permutations(dfy_coint.columns[2:],2):\n",
    "    indstr1 =  get_dictkey(d_industry_tics, x)\n",
    "    indstr2 =  get_dictkey(d_industry_tics, y)\n",
    "    #ret_x,risk_x,_ = return_risk_stock(dfy, x)\n",
    "    #ret_y,risk_y,_ = return_risk_stock(dfy, y)\n",
    "    \n",
    "    c = dfy_coint.loc[x, y]\n",
    "    \n",
    "    lr_spred = LR_spred(dfy[x], dfy[y]).iloc[-1]\n",
    "    \n",
    "    if c < 0.01 and abs(lr_spred) > 0.2:\n",
    "        print(round(dfy_coint.loc[x, y], 2), x, y, indstr1, indstr2)\n",
    "        #round(dfy_coint.loc[x,y],3)) #, round(risk_x,3), round(risk_y,3))\n",
    "        plot_spred_d(dfy, x, y)"
   ]
  },
  {
   "cell_type": "code",
   "execution_count": 18,
   "metadata": {},
   "outputs": [],
   "source": [
    "dfy_corr2 = correlation_returns(dfy[-180:])"
   ]
  },
  {
   "cell_type": "raw",
   "metadata": {},
   "source": [
    "dfy_corr2"
   ]
  },
  {
   "cell_type": "code",
   "execution_count": null,
   "metadata": {},
   "outputs": [],
   "source": []
  },
  {
   "cell_type": "code",
   "execution_count": null,
   "metadata": {},
   "outputs": [],
   "source": []
  },
  {
   "cell_type": "code",
   "execution_count": 16,
   "metadata": {
    "scrolled": false
   },
   "outputs": [
    {
     "name": "stdout",
     "output_type": "stream",
     "text": [
      "0.79 ADBE MSFT ['Software—Infrastructure'] ['Software—Infrastructure']\n",
      "0.82 ADBE SNPS ['Software—Infrastructure'] ['Software—Infrastructure']\n",
      "0.87 AMD XLNX ['Semiconductors'] ['Semiconductors']\n",
      "0.94 AMAT LRCX ['Semiconductor Equipment & Materials'] ['Semiconductor Equipment & Materials']\n",
      "0.84 AMAT TER ['Semiconductor Equipment & Materials'] ['Semiconductor Equipment & Materials']\n",
      "0.87 ALK DAL ['Airlines'] ['Airlines']\n",
      "0.83 ALK LUV ['Airlines'] ['Airlines']\n",
      "0.81 ALK SAVE ['Airlines'] ['Airlines']\n",
      "0.83 ALK UAL ['Airlines'] ['Airlines']\n",
      "0.8 APA CLR ['Oil & Gas E&P'] ['Oil & Gas E&P']\n",
      "0.81 APA COP ['Oil & Gas E&P'] ['Oil & Gas E&P']\n",
      "0.78 APA EOG ['Oil & Gas E&P'] ['Oil & Gas E&P']\n",
      "0.84 APA DVN ['Oil & Gas E&P'] ['Oil & Gas E&P']\n",
      "0.8 APA OVV ['Oil & Gas E&P'] ['Oil & Gas E&P']\n",
      "0.85 APA OXY ['Oil & Gas E&P'] ['Oil & Gas E&P']\n",
      "0.81 AVGO QRVO ['Semiconductors'] ['Semiconductors']\n",
      "0.83 AVGO TXN ['Semiconductors'] ['Semiconductors']\n",
      "0.76 AXP DFS ['Credit Services'] ['Credit Services']\n",
      "0.78 BKR HAL ['Oil & Gas Equipment & Services'] ['Oil & Gas Equipment & Services']\n",
      "0.79 BKR SLB ['Oil & Gas Equipment & Services'] ['Oil & Gas Equipment & Services']\n",
      "0.76 BA SPR ['Aerospace & Defense'] ['Aerospace & Defense']\n",
      "0.82 C BAC ['Banks—Diversified'] ['Banks—Diversified']\n",
      "0.78 C JPM ['Banks—Diversified'] ['Banks—Diversified']\n",
      "0.76 C WFC ['Banks—Diversified'] ['Banks—Diversified']\n",
      "0.82 BAC C ['Banks—Diversified'] ['Banks—Diversified']\n",
      "0.89 BAC JPM ['Banks—Diversified'] ['Banks—Diversified']\n",
      "0.79 BAC WFC ['Banks—Diversified'] ['Banks—Diversified']\n",
      "0.77 CHX HAL ['Oil & Gas Equipment & Services'] ['Oil & Gas Equipment & Services']\n",
      "0.81 CHX OII ['Oil & Gas Equipment & Services'] ['Oil & Gas Equipment & Services']\n",
      "0.76 CHX PUMP ['Oil & Gas Equipment & Services'] ['Oil & Gas Equipment & Services']\n",
      "0.77 CHX SLB ['Oil & Gas Equipment & Services'] ['Oil & Gas Equipment & Services']\n",
      "0.91 CCL RCL ['Travel Services'] ['Travel Services']\n",
      "0.85 CFG HBAN ['Banks—Regional'] ['Banks—Regional']\n",
      "0.94 CFG KEY ['Banks—Regional'] ['Banks—Regional']\n",
      "0.77 CFG PBCT ['Banks—Regional'] ['Banks—Regional']\n",
      "0.93 CFG RF ['Banks—Regional'] ['Banks—Regional']\n",
      "0.87 CFG USB ['Banks—Regional'] ['Banks—Regional']\n",
      "0.8 CLR APA ['Oil & Gas E&P'] ['Oil & Gas E&P']\n",
      "0.81 CLR COP ['Oil & Gas E&P'] ['Oil & Gas E&P']\n",
      "0.83 CLR EOG ['Oil & Gas E&P'] ['Oil & Gas E&P']\n",
      "0.85 CLR DVN ['Oil & Gas E&P'] ['Oil & Gas E&P']\n",
      "0.82 CLR OVV ['Oil & Gas E&P'] ['Oil & Gas E&P']\n",
      "0.81 CLR OXY ['Oil & Gas E&P'] ['Oil & Gas E&P']\n",
      "0.77 CRWD ZS ['Software—Infrastructure'] ['Software—Infrastructure']\n",
      "0.87 DAL ALK ['Airlines'] ['Airlines']\n",
      "0.75 DAL HA ['Airlines'] ['Airlines']\n",
      "0.87 DAL LUV ['Airlines'] ['Airlines']\n",
      "0.76 DAL SAVE ['Airlines'] ['Airlines']\n",
      "0.88 DAL UAL ['Airlines'] ['Airlines']\n",
      "0.81 COP APA ['Oil & Gas E&P'] ['Oil & Gas E&P']\n",
      "0.81 COP CLR ['Oil & Gas E&P'] ['Oil & Gas E&P']\n",
      "0.89 COP EOG ['Oil & Gas E&P'] ['Oil & Gas E&P']\n",
      "0.88 COP DVN ['Oil & Gas E&P'] ['Oil & Gas E&P']\n",
      "0.81 COP OVV ['Oil & Gas E&P'] ['Oil & Gas E&P']\n",
      "0.83 COP OXY ['Oil & Gas E&P'] ['Oil & Gas E&P']\n",
      "0.91 CVX XOM ['Oil & Gas Integrated'] ['Oil & Gas Integrated']\n",
      "0.84 D ED ['Utilities—Regulated Electric'] ['Utilities—Regulated Electric']\n",
      "0.77 D SO ['Utilities—Regulated Electric'] ['Utilities—Regulated Electric']\n",
      "0.84 DISCA VIAC ['Entertainment'] ['Entertainment']\n",
      "0.76 DFS AXP ['Credit Services'] ['Credit Services']\n",
      "0.83 ENPH SEDG ['Solar'] ['Solar']\n",
      "0.79 EMR HON ['Specialty Industrial Machinery'] ['Specialty Industrial Machinery']\n",
      "0.84 ED D ['Utilities—Regulated Electric'] ['Utilities—Regulated Electric']\n",
      "0.89 DHI KBH ['Residential Construction'] ['Residential Construction']\n",
      "0.76 DHI LGIH ['Residential Construction'] ['Residential Construction']\n",
      "0.9 DHI LEN ['Residential Construction'] ['Residential Construction']\n",
      "0.87 DHI PHM ['Residential Construction'] ['Residential Construction']\n",
      "0.78 EOG APA ['Oil & Gas E&P'] ['Oil & Gas E&P']\n",
      "0.83 EOG CLR ['Oil & Gas E&P'] ['Oil & Gas E&P']\n",
      "0.89 EOG COP ['Oil & Gas E&P'] ['Oil & Gas E&P']\n",
      "0.83 EOG DVN ['Oil & Gas E&P'] ['Oil & Gas E&P']\n",
      "0.77 EOG OVV ['Oil & Gas E&P'] ['Oil & Gas E&P']\n",
      "0.8 EOG OXY ['Oil & Gas E&P'] ['Oil & Gas E&P']\n",
      "0.84 DVN APA ['Oil & Gas E&P'] ['Oil & Gas E&P']\n",
      "0.85 DVN CLR ['Oil & Gas E&P'] ['Oil & Gas E&P']\n",
      "0.88 DVN COP ['Oil & Gas E&P'] ['Oil & Gas E&P']\n",
      "0.83 DVN EOG ['Oil & Gas E&P'] ['Oil & Gas E&P']\n",
      "0.83 DVN OVV ['Oil & Gas E&P'] ['Oil & Gas E&P']\n",
      "0.84 DVN OXY ['Oil & Gas E&P'] ['Oil & Gas E&P']\n",
      "0.76 F GM ['Auto Manufacturers'] ['Auto Manufacturers']\n",
      "0.97 GOOG GOOGL ['Internet Content & Information'] ['Internet Content & Information']\n",
      "0.76 GM F ['Auto Manufacturers'] ['Auto Manufacturers']\n",
      "0.97 GOOGL GOOG ['Internet Content & Information'] ['Internet Content & Information']\n",
      "0.88 GS MS ['Capital Markets'] ['Capital Markets']\n",
      "0.78 GD HII ['Aerospace & Defense'] ['Aerospace & Defense']\n",
      "0.75 HA DAL ['Airlines'] ['Airlines']\n",
      "0.85 HBAN CFG ['Banks—Regional'] ['Banks—Regional']\n",
      "0.89 HBAN KEY ['Banks—Regional'] ['Banks—Regional']\n",
      "0.86 HBAN RF ['Banks—Regional'] ['Banks—Regional']\n",
      "0.81 HBAN USB ['Banks—Regional'] ['Banks—Regional']\n",
      "0.86 H HLT ['Lodging'] ['Lodging']\n",
      "0.89 H MAR ['Lodging'] ['Lodging']\n",
      "0.78 HII GD ['Aerospace & Defense'] ['Aerospace & Defense']\n",
      "0.86 HLT H ['Lodging'] ['Lodging']\n",
      "0.86 HLT MAR ['Lodging'] ['Lodging']\n",
      "0.79 HON EMR ['Specialty Industrial Machinery'] ['Specialty Industrial Machinery']\n",
      "0.78 HAL BKR ['Oil & Gas Equipment & Services'] ['Oil & Gas Equipment & Services']\n",
      "0.77 HAL CHX ['Oil & Gas Equipment & Services'] ['Oil & Gas Equipment & Services']\n",
      "0.79 HAL OII ['Oil & Gas Equipment & Services'] ['Oil & Gas Equipment & Services']\n",
      "0.8 HAL PUMP ['Oil & Gas Equipment & Services'] ['Oil & Gas Equipment & Services']\n",
      "0.87 HAL SLB ['Oil & Gas Equipment & Services'] ['Oil & Gas Equipment & Services']\n",
      "0.75 HD LOW ['Home Improvement Retail'] ['Home Improvement Retail']\n",
      "0.94 KEY CFG ['Banks—Regional'] ['Banks—Regional']\n",
      "0.89 KEY HBAN ['Banks—Regional'] ['Banks—Regional']\n",
      "0.8 KEY PBCT ['Banks—Regional'] ['Banks—Regional']\n",
      "0.94 KEY RF ['Banks—Regional'] ['Banks—Regional']\n",
      "0.88 KEY USB ['Banks—Regional'] ['Banks—Regional']\n",
      "0.78 JPM C ['Banks—Diversified'] ['Banks—Diversified']\n",
      "0.89 JPM BAC ['Banks—Diversified'] ['Banks—Diversified']\n",
      "0.75 JPM WFC ['Banks—Diversified'] ['Banks—Diversified']\n",
      "0.89 KBH DHI ['Residential Construction'] ['Residential Construction']\n",
      "0.85 KBH LEN ['Residential Construction'] ['Residential Construction']\n",
      "0.85 KBH PHM ['Residential Construction'] ['Residential Construction']\n",
      "0.76 LGIH DHI ['Residential Construction'] ['Residential Construction']\n",
      "0.76 LGIH LEN ['Residential Construction'] ['Residential Construction']\n",
      "0.76 LGIH PHM ['Residential Construction'] ['Residential Construction']\n",
      "0.75 KMI OKE ['Oil & Gas Midstream'] ['Oil & Gas Midstream']\n",
      "0.82 KMI WMB ['Oil & Gas Midstream'] ['Oil & Gas Midstream']\n",
      "0.9 LEN DHI ['Residential Construction'] ['Residential Construction']\n",
      "0.85 LEN KBH ['Residential Construction'] ['Residential Construction']\n",
      "0.76 LEN LGIH ['Residential Construction'] ['Residential Construction']\n",
      "0.85 LEN PHM ['Residential Construction'] ['Residential Construction']\n",
      "0.94 LRCX AMAT ['Semiconductor Equipment & Materials'] ['Semiconductor Equipment & Materials']\n",
      "0.88 LRCX TER ['Semiconductor Equipment & Materials'] ['Semiconductor Equipment & Materials']\n",
      "0.8 LVS MLCO ['Resorts & Casinos'] ['Resorts & Casinos']\n",
      "0.88 LVS WYNN ['Resorts & Casinos'] ['Resorts & Casinos']\n",
      "0.75 LOW HD ['Home Improvement Retail'] ['Home Improvement Retail']\n",
      "0.85 MA V ['Credit Services'] ['Credit Services']\n",
      "0.89 MAR H ['Lodging'] ['Lodging']\n",
      "0.86 MAR HLT ['Lodging'] ['Lodging']\n",
      "0.9 MET PRU ['Insurance—Life'] ['Insurance—Life']\n",
      "0.83 LUV ALK ['Airlines'] ['Airlines']\n",
      "0.87 LUV DAL ['Airlines'] ['Airlines']\n",
      "0.8 LUV UAL ['Airlines'] ['Airlines']\n",
      "0.8 MLCO LVS ['Resorts & Casinos'] ['Resorts & Casinos']\n",
      "0.77 MLCO WYNN ['Resorts & Casinos'] ['Resorts & Casinos']\n",
      "0.86 MPC PSX ['Oil & Gas Refining & Marketing'] ['Oil & Gas Refining & Marketing']\n",
      "0.88 MPC VLO ['Oil & Gas Refining & Marketing'] ['Oil & Gas Refining & Marketing']\n",
      "0.79 MSFT ADBE ['Software—Infrastructure'] ['Software—Infrastructure']\n",
      "0.75 OKE KMI ['Oil & Gas Midstream'] ['Oil & Gas Midstream']\n",
      "0.78 OKE WMB ['Oil & Gas Midstream'] ['Oil & Gas Midstream']\n"
     ]
    },
    {
     "name": "stdout",
     "output_type": "stream",
     "text": [
      "0.88 MS GS ['Capital Markets'] ['Capital Markets']\n",
      "0.81 OII CHX ['Oil & Gas Equipment & Services'] ['Oil & Gas Equipment & Services']\n",
      "0.79 OII HAL ['Oil & Gas Equipment & Services'] ['Oil & Gas Equipment & Services']\n",
      "0.79 OII SLB ['Oil & Gas Equipment & Services'] ['Oil & Gas Equipment & Services']\n",
      "0.78 PFGC USFD ['Food Distribution'] ['Food Distribution']\n",
      "0.77 PBCT CFG ['Banks—Regional'] ['Banks—Regional']\n",
      "0.8 PBCT KEY ['Banks—Regional'] ['Banks—Regional']\n",
      "0.8 PBCT RF ['Banks—Regional'] ['Banks—Regional']\n",
      "0.8 OVV APA ['Oil & Gas E&P'] ['Oil & Gas E&P']\n",
      "0.82 OVV CLR ['Oil & Gas E&P'] ['Oil & Gas E&P']\n",
      "0.81 OVV COP ['Oil & Gas E&P'] ['Oil & Gas E&P']\n",
      "0.77 OVV EOG ['Oil & Gas E&P'] ['Oil & Gas E&P']\n",
      "0.83 OVV DVN ['Oil & Gas E&P'] ['Oil & Gas E&P']\n",
      "0.83 OVV OXY ['Oil & Gas E&P'] ['Oil & Gas E&P']\n",
      "0.75 PBF VLO ['Oil & Gas Refining & Marketing'] ['Oil & Gas Refining & Marketing']\n",
      "0.76 PUMP CHX ['Oil & Gas Equipment & Services'] ['Oil & Gas Equipment & Services']\n",
      "0.8 PUMP HAL ['Oil & Gas Equipment & Services'] ['Oil & Gas Equipment & Services']\n",
      "0.75 PUMP SLB ['Oil & Gas Equipment & Services'] ['Oil & Gas Equipment & Services']\n",
      "0.85 OXY APA ['Oil & Gas E&P'] ['Oil & Gas E&P']\n",
      "0.81 OXY CLR ['Oil & Gas E&P'] ['Oil & Gas E&P']\n",
      "0.83 OXY COP ['Oil & Gas E&P'] ['Oil & Gas E&P']\n",
      "0.8 OXY EOG ['Oil & Gas E&P'] ['Oil & Gas E&P']\n",
      "0.84 OXY DVN ['Oil & Gas E&P'] ['Oil & Gas E&P']\n",
      "0.83 OXY OVV ['Oil & Gas E&P'] ['Oil & Gas E&P']\n",
      "0.81 QRVO AVGO ['Semiconductors'] ['Semiconductors']\n",
      "0.84 QRVO QCOM ['Semiconductors'] ['Semiconductors']\n",
      "0.76 QRVO TSM ['Semiconductors'] ['Semiconductors']\n",
      "0.87 PHM DHI ['Residential Construction'] ['Residential Construction']\n",
      "0.85 PHM KBH ['Residential Construction'] ['Residential Construction']\n",
      "0.76 PHM LGIH ['Residential Construction'] ['Residential Construction']\n",
      "0.85 PHM LEN ['Residential Construction'] ['Residential Construction']\n",
      "0.84 QCOM QRVO ['Semiconductors'] ['Semiconductors']\n",
      "0.86 PSX MPC ['Oil & Gas Refining & Marketing'] ['Oil & Gas Refining & Marketing']\n",
      "0.88 PSX VLO ['Oil & Gas Refining & Marketing'] ['Oil & Gas Refining & Marketing']\n",
      "0.79 PVH RL ['Apparel Manufacturing'] ['Apparel Manufacturing']\n",
      "0.9 PRU MET ['Insurance—Life'] ['Insurance—Life']\n",
      "0.83 SEDG ENPH ['Solar'] ['Solar']\n",
      "0.81 SAVE ALK ['Airlines'] ['Airlines']\n",
      "0.76 SAVE DAL ['Airlines'] ['Airlines']\n",
      "0.79 RL PVH ['Apparel Manufacturing'] ['Apparel Manufacturing']\n",
      "0.91 RCL CCL ['Travel Services'] ['Travel Services']\n",
      "0.93 RF CFG ['Banks—Regional'] ['Banks—Regional']\n",
      "0.86 RF HBAN ['Banks—Regional'] ['Banks—Regional']\n",
      "0.94 RF KEY ['Banks—Regional'] ['Banks—Regional']\n",
      "0.8 RF PBCT ['Banks—Regional'] ['Banks—Regional']\n",
      "0.87 RF USB ['Banks—Regional'] ['Banks—Regional']\n",
      "0.82 SNPS ADBE ['Software—Infrastructure'] ['Software—Infrastructure']\n",
      "0.82 RRC SWN ['Oil & Gas E&P'] ['Oil & Gas E&P']\n",
      "0.79 SLB BKR ['Oil & Gas Equipment & Services'] ['Oil & Gas Equipment & Services']\n",
      "0.77 SLB CHX ['Oil & Gas Equipment & Services'] ['Oil & Gas Equipment & Services']\n",
      "0.87 SLB HAL ['Oil & Gas Equipment & Services'] ['Oil & Gas Equipment & Services']\n",
      "0.79 SLB OII ['Oil & Gas Equipment & Services'] ['Oil & Gas Equipment & Services']\n",
      "0.75 SLB PUMP ['Oil & Gas Equipment & Services'] ['Oil & Gas Equipment & Services']\n",
      "0.81 ROST TJX ['Apparel Retail'] ['Apparel Retail']\n",
      "0.77 SO D ['Utilities—Regulated Electric'] ['Utilities—Regulated Electric']\n",
      "0.76 SPR BA ['Aerospace & Defense'] ['Aerospace & Defense']\n",
      "0.77 SPG KIM ['REIT—Retail'] ['REIT—Retail']\n",
      "0.84 TER AMAT ['Semiconductor Equipment & Materials'] ['Semiconductor Equipment & Materials']\n",
      "0.88 TER LRCX ['Semiconductor Equipment & Materials'] ['Semiconductor Equipment & Materials']\n",
      "0.82 SWN RRC ['Oil & Gas E&P'] ['Oil & Gas E&P']\n",
      "0.81 TJX ROST ['Apparel Retail'] ['Apparel Retail']\n",
      "0.76 TSM QRVO ['Semiconductors'] ['Semiconductors']\n",
      "0.78 USFD PFGC ['Food Distribution'] ['Food Distribution']\n",
      "0.83 UAL ALK ['Airlines'] ['Airlines']\n",
      "0.88 UAL DAL ['Airlines'] ['Airlines']\n",
      "0.8 UAL LUV ['Airlines'] ['Airlines']\n",
      "0.84 VIAC DISCA ['Entertainment'] ['Entertainment']\n",
      "0.85 V MA ['Credit Services'] ['Credit Services']\n",
      "0.83 TXN AVGO ['Semiconductors'] ['Semiconductors']\n",
      "0.88 VLO MPC ['Oil & Gas Refining & Marketing'] ['Oil & Gas Refining & Marketing']\n",
      "0.75 VLO PBF ['Oil & Gas Refining & Marketing'] ['Oil & Gas Refining & Marketing']\n",
      "0.88 VLO PSX ['Oil & Gas Refining & Marketing'] ['Oil & Gas Refining & Marketing']\n",
      "0.87 USB CFG ['Banks—Regional'] ['Banks—Regional']\n",
      "0.81 USB HBAN ['Banks—Regional'] ['Banks—Regional']\n",
      "0.88 USB KEY ['Banks—Regional'] ['Banks—Regional']\n",
      "0.87 USB RF ['Banks—Regional'] ['Banks—Regional']\n",
      "0.87 VTR WELL ['REIT—Healthcare Facilities'] ['REIT—Healthcare Facilities']\n",
      "0.77 ZS CRWD ['Software—Infrastructure'] ['Software—Infrastructure']\n",
      "0.87 WELL VTR ['REIT—Healthcare Facilities'] ['REIT—Healthcare Facilities']\n",
      "0.87 XLNX AMD ['Semiconductors'] ['Semiconductors']\n",
      "0.88 WYNN LVS ['Resorts & Casinos'] ['Resorts & Casinos']\n",
      "0.77 WYNN MLCO ['Resorts & Casinos'] ['Resorts & Casinos']\n",
      "0.76 WFC C ['Banks—Diversified'] ['Banks—Diversified']\n",
      "0.79 WFC BAC ['Banks—Diversified'] ['Banks—Diversified']\n",
      "0.75 WFC JPM ['Banks—Diversified'] ['Banks—Diversified']\n",
      "0.82 WMB KMI ['Oil & Gas Midstream'] ['Oil & Gas Midstream']\n",
      "0.78 WMB OKE ['Oil & Gas Midstream'] ['Oil & Gas Midstream']\n",
      "0.91 XOM CVX ['Oil & Gas Integrated'] ['Oil & Gas Integrated']\n",
      "0.79 STAG DRE ['REIT—Industrial'] ['REIT—Industrial']\n",
      "0.77 KIM SPG ['REIT—Retail'] ['REIT—Retail']\n",
      "0.79 DRE STAG ['REIT—Industrial'] ['REIT—Industrial']\n"
     ]
    }
   ],
   "source": [
    "for x,y in permutations(dfy21_corr.columns[3:],2):\n",
    "    indstr1 =  get_dictkey(d_industry_tics, x)\n",
    "    indstr2 =  get_dictkey(d_industry_tics, y)\n",
    "    ret_x,risk_x,ksh_x = return_risk_stock(dfy, x)\n",
    "    ret_y,risk_y,ksh_y = return_risk_stock(dfy, y)\n",
    "    \n",
    "    if indstr1 == [] or indstr2 == []:\n",
    "        continue\n",
    "    \n",
    "    corr = dfy21_corr.loc[x, y]\n",
    "    \n",
    "    if x != y and corr > 0.75 and corr < 0.99 and indstr1 == indstr2:\n",
    "        #and (ksh_x > 1 or ksh_y > 1): # and 'Bank' not in ''.join(indstr1+indstr2): # and risk_x > 0.7:\n",
    "        #dfy_coint.loc[x,y] < 0.05: # and risk_x > 0.9:\n",
    "        \n",
    "        print(round(corr, 2), x, y, indstr1, indstr2)\n",
    "              #,round(ret_x,2), round(risk_x,2), round(ret_y,2), round(risk_y,2))\n",
    "        #round(dfy_coint.loc[x,y],3)) #, round(risk_x,3), round(risk_y,3))\n",
    "        #plot_LR_rel2tic_d(dfy, x, y)\n",
    "                    \n",
    "            "
   ]
  },
  {
   "cell_type": "code",
   "execution_count": 12,
   "metadata": {},
   "outputs": [],
   "source": [
    "#reloadlibs()\n",
    "#dfa,dfb = download_yf_tics('AAPL')"
   ]
  },
  {
   "cell_type": "code",
   "execution_count": 45,
   "metadata": {},
   "outputs": [
    {
     "name": "stdout",
     "output_type": "stream",
     "text": [
      "Start load MOEX, RTSI index... loaded\n",
      "Load: 4  . Errs(0): \n",
      "Print thread stopped\n"
     ]
    }
   ],
   "source": [
    "#''.join(indstr1+indstr2)\n",
    "df1, dfm_corr1, dfm_doclh1, nloaded_moex1, err_moex1 = download_moex_mt(['YNDX', 'MAIL'], days_nodata = 250)\n",
    "\n",
    "#dfm_corr.loc['YNDX', 'MAIL']"
   ]
  },
  {
   "cell_type": "code",
   "execution_count": null,
   "metadata": {},
   "outputs": [],
   "source": []
  },
  {
   "cell_type": "code",
   "execution_count": 13,
   "metadata": {},
   "outputs": [
    {
     "data": {
      "text/plain": [
       "0.8064981531828703"
      ]
     },
     "execution_count": 13,
     "metadata": {},
     "output_type": "execute_result"
    }
   ],
   "source": [
    "dfy_corr.loc['H','CCL']"
   ]
  },
  {
   "cell_type": "code",
   "execution_count": 47,
   "metadata": {},
   "outputs": [
    {
     "data": {
      "text/plain": [
       "0.4694434287591542"
      ]
     },
     "execution_count": 47,
     "metadata": {},
     "output_type": "execute_result"
    }
   ],
   "source": [
    "dfm_corr.loc['MGNT','FIVE']"
   ]
  },
  {
   "cell_type": "code",
   "execution_count": 34,
   "metadata": {},
   "outputs": [
    {
     "data": {
      "image/png": "[encoded data removed]",
      "text/plain": [
       "<Figure size 360x216 with 1 Axes>"
      ]
     },
     "metadata": {
      "needs_background": "light"
     },
     "output_type": "display_data"
    }
   ],
   "source": [
    "plot_LR_rel2tic_d(dfy, 'USFD', 'PFGC')"
   ]
  },
  {
   "cell_type": "code",
   "execution_count": 14,
   "metadata": {},
   "outputs": [
    {
     "name": "stdout",
     "output_type": "stream",
     "text": [
      "0.82 LNZLP LNZL\n",
      "0.74 PMSBP PMSB\n",
      "0.86 CNTLP CNTL\n",
      "0.74 PMSB PMSBP\n",
      "0.75 TGKD TGKDP\n",
      "0.86 CNTL CNTLP\n",
      "0.86 TGKB TGKBP\n",
      "0.75 SIBN TATNP\n",
      "0.77 SIBN TATN\n",
      "0.75 SIBN LKOH\n",
      "0.76 SIBN ROSN\n",
      "0.75 TATNP SIBN\n",
      "0.95 TATNP TATN\n",
      "0.77 TATNP LKOH\n",
      "0.79 TATNP ROSN\n",
      "0.71 RSTI FEES\n",
      "0.72 RSTI RSTIP\n",
      "0.76 PLZL POLY\n",
      "0.78 CHMF NLMK\n",
      "0.93 SBERP SBER\n",
      "0.71 FEES RSTI\n",
      "0.93 SBER SBERP\n",
      "0.77 TATN SIBN\n",
      "0.95 TATN TATNP\n",
      "0.82 TATN LKOH\n",
      "0.81 TATN ROSN\n",
      "0.75 LKOH SIBN\n",
      "0.77 LKOH TATNP\n",
      "0.82 LKOH TATN\n",
      "0.79 LKOH ROSN\n",
      "0.75 TGKDP TGKD\n",
      "0.82 LNZL LNZLP\n",
      "0.75 BANEP BANE\n",
      "0.86 TGKBP TGKB\n",
      "0.76 POLY PLZL\n",
      "0.75 BANE BANEP\n",
      "0.78 NLMK CHMF\n",
      "0.72 RSTIP RSTI\n",
      "0.76 ROSN SIBN\n",
      "0.79 ROSN TATNP\n",
      "0.81 ROSN TATN\n",
      "0.79 ROSN LKOH\n"
     ]
    }
   ],
   "source": [
    "for x,y in permutations(dfm_corr.columns[3:],2):\n",
    "    #indstr1 =  get_dictkey(d_industry_tics, x)\n",
    "    #indstr2 =  get_dictkey(d_industry_tics, y)\n",
    "    #ret_x,risk_x,_ = return_risk_stock(dfy, x)\n",
    "    #ret_y,risk_y,_ = return_risk_stock(dfy, y)\n",
    "    \n",
    "    if x != y and dfm_corr.loc[x, y] > 0.69: # and risk_x > 0.9:\n",
    "        print(round(dfm_corr.loc[x, y], 2), x, y) #, round(risk_x,3), round(risk_y,3))"
   ]
  },
  {
   "cell_type": "code",
   "execution_count": null,
   "metadata": {},
   "outputs": [],
   "source": [
    "dfy_corr.loc['RRGB','BJRI']"
   ]
  },
  {
   "cell_type": "code",
   "execution_count": 4,
   "metadata": {},
   "outputs": [
    {
     "data": {
      "image/png": "[encoded data removed]",
      "text/plain": [
       "<Figure size 360x216 with 1 Axes>"
      ]
     },
     "metadata": {
      "needs_background": "light"
     },
     "output_type": "display_data"
    }
   ],
   "source": [
    "plot_LR_rel2tic_d(dfy, 'DHI', 'LEN')"
   ]
  },
  {
   "cell_type": "code",
   "execution_count": null,
   "metadata": {},
   "outputs": [],
   "source": []
  },
  {
   "cell_type": "code",
   "execution_count": null,
   "metadata": {},
   "outputs": [],
   "source": [
    "coint_interest =[['ALK', 'AXP'], ['BK','LEVI'],['CPRI', 'NTAP'],['DXC','MAR'], ['EMR','BKNG'], ['HA','ADS'], ['HEAR','PYPL'],\n",
    "                 ['HAS','MDT'], ['JP','HEAR'], ['LVS','WELL'], ['MFGP', 'LHX'],\n",
    "                 ['OVV','BEN'], ['PCG','NEM'], ['TOT', 'CVS'], ['VIPS','MRNA'],\n",
    "                 ['ZGNX','ADBE'], ['ZGNX','AMGN'], ['VIAC', 'MSTR'], ['ZYNE', 'VLO']] "
   ]
  },
  {
   "cell_type": "code",
   "execution_count": null,
   "metadata": {},
   "outputs": [],
   "source": [
    "for p in coint_interest:\n",
    "    x = p[0]\n",
    "    y = p[1]\n",
    "    plot_spred_d(dfy[:-40], x, y) #, legend = x+'/'+y)\n",
    "    plot_LR_tics_d(dfy, [x,y], grid=True)\n",
    "    "
   ]
  },
  {
   "cell_type": "code",
   "execution_count": null,
   "metadata": {},
   "outputs": [],
   "source": [
    "for x, y in permutations(dfy_coint.columns, 2):\n",
    "    co = dfy_coint.loc[x, y]\n",
    "    spred = LR_spred(dfy[x], dfy[y])\n",
    "    lel = spred.iloc[-1]\n",
    "    \n",
    "    if co < 0.01 and abs(lel) > 0.1:\n",
    "        fco = 'co={0:.3f}'.format(co)\n",
    "        print(x,y, fco)\n",
    "        plot_spred_d(dfy, x, y) #, legend = x+'/'+y)"
   ]
  },
  {
   "cell_type": "code",
   "execution_count": null,
   "metadata": {},
   "outputs": [],
   "source": [
    "'COST' in all_us_ticks"
   ]
  },
  {
   "cell_type": "code",
   "execution_count": null,
   "metadata": {},
   "outputs": [],
   "source": [
    "yfinfo['LOW']"
   ]
  },
  {
   "cell_type": "code",
   "execution_count": null,
   "metadata": {},
   "outputs": [],
   "source": [
    "for xy in coint_interest:\n",
    "    x, y  = xy[0], xy[1]\n",
    "    co = dfy_coint.loc[x, y]\n",
    "    spred = LR_spred(dfy[x], dfy[y])\n",
    "    lel = spred.iloc[-1]\n",
    "    \n",
    "    if co < 0.001: # and abs(lel) > 0.2:\n",
    "        fco = 'co={0:.3f}'.format(co)\n",
    "        print(x,y, fco)\n",
    "        plot_spred_d(dfy, x, y) #, legend = x+'/'+y)"
   ]
  },
  {
   "cell_type": "code",
   "execution_count": null,
   "metadata": {},
   "outputs": [],
   "source": [
    "plot_spred_d(dfy, 'EHTH', 'RRC')"
   ]
  },
  {
   "cell_type": "code",
   "execution_count": null,
   "metadata": {},
   "outputs": [],
   "source": [
    "for x, y in permutations(dfm_coint.columns, 2):\n",
    "    co = dfm_coint.loc[x, y]\n",
    "    spred = LR_spred(dfm[x], dfm[y])\n",
    "    lel = spred.iloc[-1]\n",
    "    \n",
    "    if co < 0.001: # and abs(lel) > 0.2:\n",
    "        fco = 'co={0:.3f}'.format(co)\n",
    "        print(x,y, fco)\n",
    "        plot_spred_d(dfm, x, y) #, legend = x+'/'+y)"
   ]
  },
  {
   "cell_type": "code",
   "execution_count": null,
   "metadata": {},
   "outputs": [],
   "source": [
    "plot_LR_tics_d(dfy[-70:], cols_wo_dates(dfy))"
   ]
  },
  {
   "cell_type": "code",
   "execution_count": null,
   "metadata": {},
   "outputs": [],
   "source": [
    "for x in cols_wo_dates(dfy):\n",
    "    plot_LR_rel2tic_d(dfy[-120:], x, 'SP500')"
   ]
  },
  {
   "cell_type": "code",
   "execution_count": null,
   "metadata": {},
   "outputs": [],
   "source": []
  },
  {
   "cell_type": "code",
   "execution_count": null,
   "metadata": {},
   "outputs": [],
   "source": [
    "invest_idea_usd(dfy, ['TSLA', 'AAPL'], ['F', 'MDT'], datetime.datetime(2021,3,3), \n",
    "                datetime.datetime(2021,5,6), vol_short_entry=4000)"
   ]
  },
  {
   "cell_type": "code",
   "execution_count": null,
   "metadata": {},
   "outputs": [],
   "source": []
  },
  {
   "cell_type": "code",
   "execution_count": null,
   "metadata": {},
   "outputs": [],
   "source": [
    "for x, y in permutations(dfy_coint.columns, 2):\n",
    "    co = dfy_coint.loc[x, y]\n",
    "    spred = LR_spred(dfy[x], dfy[y])\n",
    "    lel = spred.iloc[-1]\n",
    "    \n",
    "    if co < 0.02 and abs(lel) > 0.2 and abs(spred.max())>0.3:\n",
    "        fco = 'co={0:.3f}'.format(co)\n",
    "        print(x,y, fco)\n",
    "        plot_spred(dfy, x, y) #, legend = x+'/'+y)"
   ]
  },
  {
   "cell_type": "code",
   "execution_count": null,
   "metadata": {},
   "outputs": [],
   "source": []
  },
  {
   "cell_type": "code",
   "execution_count": null,
   "metadata": {},
   "outputs": [],
   "source": [
    "#return_risk_stock(dfy[-80:], 'BAC')"
   ]
  },
  {
   "cell_type": "code",
   "execution_count": null,
   "metadata": {},
   "outputs": [],
   "source": [
    "df_returns = dfy['GS'].pct_change().dropna()\n",
    "\n",
    "df_returns.plot()\n",
    "cr = (1+df_returns).cumprod()\n",
    "cr.plot()\n",
    "df_returns.std() * np.sqrt(252)\n",
    "df_returns = np.negative(df_returns)\n",
    "\n",
    "#df_returns.rolling(window=5).std().plot(figsize=(20, 10), title=\"30 Day Rolling Standard Deviation\");\n"
   ]
  },
  {
   "cell_type": "code",
   "execution_count": null,
   "metadata": {},
   "outputs": [],
   "source": [
    "#import requests\n",
    "#stock='AAPL'\n",
    "#prices = requests.get(f'https://financialmodelingprep.com/api/v3/historical-price-full/{stock}?serietype=line').json()"
   ]
  },
  {
   "cell_type": "code",
   "execution_count": null,
   "metadata": {},
   "outputs": [],
   "source": [
    "#from yahoofinancials import YahooFinancials\n",
    "#ticker = 'AAPL'\n",
    "#yahoo_financials = YahooFinancials(ticker)\n",
    "#apple_net_income = yahoo_financials.get_net_income()"
   ]
  },
  {
   "cell_type": "code",
   "execution_count": null,
   "metadata": {},
   "outputs": [],
   "source": []
  },
  {
   "cell_type": "code",
   "execution_count": null,
   "metadata": {},
   "outputs": [],
   "source": [
    "#utilsforshort = list((set(utilities) ^ set(utilities_noshort)))"
   ]
  },
  {
   "cell_type": "code",
   "execution_count": null,
   "metadata": {},
   "outputs": [],
   "source": [
    "#dfbuildh,_ = download_yf_tics(build_house, '2018-01-01', '2021-04-09')\n",
    "#dfutil,_ = download_yf_tics(utilsforshort, '2018-01-01', '2021-04-09')"
   ]
  },
  {
   "cell_type": "code",
   "execution_count": null,
   "metadata": {},
   "outputs": [],
   "source": [
    "#random.sample(set(us_tics), 0)"
   ]
  },
  {
   "cell_type": "code",
   "execution_count": null,
   "metadata": {},
   "outputs": [],
   "source": [
    "dfy_ret = dfy[['BAC', 'GS']].pct_change().dropna()\n",
    "minimize(sharpe_formin, [0.25, 0.25], method = 'SLSQP', bounds=[(0.01,0.5)]*2, args = (dfy_ret, ['BAC', 'GS'], []))"
   ]
  },
  {
   "cell_type": "code",
   "execution_count": null,
   "metadata": {},
   "outputs": [],
   "source": [
    "return_risk_portfolio(dfy[-80:], lt, st, res_w)"
   ]
  },
  {
   "cell_type": "code",
   "execution_count": null,
   "metadata": {},
   "outputs": [],
   "source": []
  },
  {
   "cell_type": "code",
   "execution_count": null,
   "metadata": {},
   "outputs": [],
   "source": [
    "plot_spred_d(dfm, 'PHOR', 'AGRO')"
   ]
  },
  {
   "cell_type": "code",
   "execution_count": null,
   "metadata": {},
   "outputs": [],
   "source": [
    "atr(dfm_doclh, 'LKOH')[['date']]"
   ]
  },
  {
   "cell_type": "code",
   "execution_count": null,
   "metadata": {},
   "outputs": [],
   "source": [
    "plot_LR_tics_d(dfy, 'FCX')"
   ]
  },
  {
   "cell_type": "code",
   "execution_count": null,
   "metadata": {},
   "outputs": [],
   "source": []
  },
  {
   "cell_type": "code",
   "execution_count": null,
   "metadata": {},
   "outputs": [],
   "source": [
    "reload(gz_mainlib)\n",
    "reload(gz_plotlib)\n",
    "reload(gz_rwlib_mt)\n",
    "reload(gz_const)\n",
    "\n",
    "from gz_mainlib import *\n",
    "from gz_plotlib import *\n",
    "from gz_rwlib_mt import *\n",
    "from gz_const import *"
   ]
  },
  {
   "cell_type": "code",
   "execution_count": null,
   "metadata": {},
   "outputs": [],
   "source": [
    "#текущие позиции\n",
    "long_tics = ['LGIH', 'KBH', 'LEN', 'PHM', 'DHI']\n",
    "short_tics = ['NEE', 'CNP', 'SO', 'PCG', 'EIX']\n",
    "\n",
    "#беты из офиц данных по отношению к SP500 (3 года  помесячные возвраты)\n",
    "long_betas = [1.555984, 1.828461, 1.516822, 1.439051, 1.644236]\n",
    "short_betas = [0.167677, 0.966905, 0.423607, 1.408714, 0.608383]\n",
    "\n",
    "long_prices = [dfy.iloc[-1][x] for x in long_tics]\n",
    "short_prices = [dfy.iloc[-1][x] for x in short_tics]\n",
    "\n",
    "dfl, dfs = create_position(long_tics, short_tics, \n",
    "                            long_betas, short_betas, long_prices, short_prices, 1700)\n",
    "\n",
    "wlong = dfl['pos'].tolist()\n",
    "wshort = dfs['pos'].tolist()\n",
    "\n",
    "weights = wlong + wshort\n",
    "\n",
    "ret, risk, sharpe_ratio = return_risk_portfolio(dfy[-100:], long_tics, short_tics, weights)\n",
    "\n",
    "#ret, risk, sharpe_ratio = return_risk_portfolio(dfy[-100:], long_tics, short_tics, [1/10]*10)\n",
    "\n",
    "ret, risk"
   ]
  },
  {
   "cell_type": "code",
   "execution_count": null,
   "metadata": {},
   "outputs": [],
   "source": [
    "xlwrite_betapos('_beta1.xlsx', 1700, dfl, dfs)"
   ]
  },
  {
   "cell_type": "code",
   "execution_count": null,
   "metadata": {},
   "outputs": [],
   "source": []
  },
  {
   "cell_type": "code",
   "execution_count": null,
   "metadata": {},
   "outputs": [],
   "source": [
    "[beta(dfyi, x, 'SP500') for x in short_tics]"
   ]
  },
  {
   "cell_type": "code",
   "execution_count": null,
   "metadata": {},
   "outputs": [],
   "source": [
    "[beta(dfyi, x, 'SP500') for x in long_tics]"
   ]
  },
  {
   "cell_type": "code",
   "execution_count": null,
   "metadata": {},
   "outputs": [],
   "source": []
  },
  {
   "cell_type": "code",
   "execution_count": null,
   "metadata": {},
   "outputs": [],
   "source": [
    "#import pandas_datareader.data as web\n",
    "#dflen = web.get_data_yahoo('LEN', '01/01/2018', '01/01/2021', interval='m')\n",
    "#dflen500 = web.get_data_yahoo('^GSPC', '01/01/2018', '01/01/2021', interval='m')"
   ]
  },
  {
   "cell_type": "code",
   "execution_count": null,
   "metadata": {},
   "outputs": [],
   "source": []
  },
  {
   "cell_type": "code",
   "execution_count": null,
   "metadata": {},
   "outputs": [],
   "source": [
    "#ru_tickers\n",
    "#dfm0 = read_multiple_opencloselowhigh_ru_moex(ru_tickers, t1, now)\n",
    "\n",
    "#dfrtsi = read_opencloselowhigh_ru_stoc('moex', 'RTSI', t1, now, cols_rename_moex, cols_out_2, boardid='RTSI')\n",
    "#dfimoex = read_opencloselowhigh_ru_stoc('moex', 'IMOEX', t1, now, cols_rename_moex, cols_out_2, boardid='SNDX')\n",
    "#dfrvi = read_opencloselowhigh_ru_stoc('moex', 'RVI', t1, now, cols_rename_moex, cols_out_2, boardid='RTSI')\n",
    "\n",
    "#dfusdrub = read_opencloselowhigh_ru_stoc('moex', 'USD000UTSTOM', t1, now, cols_rename_moex, cols_out_2, boardid='CETS')\n",
    "#ren = [x.replace('USD000UTSTOM', 'USDRUB') for x in dfusdrub.columns]\n",
    "#dfusdrub.columns = ren\n",
    "#dfeurrub = read_opencloselowhigh_ru_stoc('moex', 'EUR_RUB__TOM', t1, now, cols_rename_moex, cols_out_2, boardid='CETS')\n",
    "#ren = [x.replace('EUR_RUB__TOM', 'EURRUB') for x in dfeurrub.columns]\n",
    "#dfeurrub.columns = ren\n",
    "#dfeurusd = read_opencloselowhigh_ru_stoc('moex', 'EURUSD000TOM', t1, now, cols_rename_moex, cols_out_2, boardid='CETS')\n",
    "#ren = [x.replace('EURUSD000TOM', 'EURUSD') for x in dfeurusd.columns]\n",
    "#dfeurusd.columns = ren\n",
    "\n",
    "#dfdax = read_opencloselowhigh_orig_stoc('yahoo', '^GDAXI', t1, now, cols_rename_yahoo, cols_out_2)\n",
    "#dfdax.columns = ['date', 'DAX_high', 'DAX_low', 'DAX_open', 'DAX_close']\n",
    "\n",
    "#dfetf = read_multiple_opencloselowhigh_ru_moex(['SBSP', 'VTBA', 'FXIT', 'FXUS'], t1, now, boardid='TQTF')\n",
    "\n"
   ]
  },
  {
   "cell_type": "code",
   "execution_count": null,
   "metadata": {},
   "outputs": [],
   "source": [
    "return_risk_stock(dfm[-70:], 'AFKS')"
   ]
  },
  {
   "cell_type": "code",
   "execution_count": null,
   "metadata": {},
   "outputs": [],
   "source": [
    "return_risk_stock(dfm[-70:], 'GMKN')"
   ]
  },
  {
   "cell_type": "code",
   "execution_count": null,
   "metadata": {},
   "outputs": [],
   "source": [
    "ddfc = read_invests_rub('frtin.txt', datetime.datetime(2021,3,30), dfm)\n",
    "ddfc"
   ]
  },
  {
   "cell_type": "code",
   "execution_count": null,
   "metadata": {},
   "outputs": [],
   "source": [
    "reload(gz_mainlib)\n",
    "reload(gz_plotlib)\n",
    "reload(gz_rwlib_mt)\n",
    "reload(gz_const)\n",
    "\n",
    "from gz_mainlib import *\n",
    "from gz_plotlib import *\n",
    "from gz_rwlib_mt import *\n",
    "from gz_const import *"
   ]
  },
  {
   "cell_type": "code",
   "execution_count": null,
   "metadata": {},
   "outputs": [],
   "source": []
  },
  {
   "cell_type": "code",
   "execution_count": null,
   "metadata": {},
   "outputs": [],
   "source": []
  },
  {
   "cell_type": "code",
   "execution_count": null,
   "metadata": {},
   "outputs": [],
   "source": [
    "invest_idea_usd(dfy, ['TSLA', 'AAPL'], ['F', 'MDT'], datetime.datetime(2021,3,3), \n",
    "                datetime.datetime(2021,5,6), vol_short_entry=4000)"
   ]
  },
  {
   "cell_type": "code",
   "execution_count": null,
   "metadata": {},
   "outputs": [],
   "source": []
  },
  {
   "cell_type": "code",
   "execution_count": null,
   "metadata": {},
   "outputs": [],
   "source": [
    "reload(gz_mainlib)\n",
    "reload(gz_plotlib)\n",
    "reload(gz_rwlib_mt)\n",
    "reload(gz_const)\n",
    "\n",
    "from gz_mainlib import *\n",
    "from gz_plotlib import *\n",
    "from gz_rwlib_mt import *\n",
    "from gz_const import *\n",
    "\n",
    "ddii = invest_idea_usd(dflogreit, logistic, l_reits_forshort, datetime.datetime(2021,3,1), \n",
    "                                     datetime.datetime(2021,5,13), vol_long_entry=1000, vol_short_entry=1000)\n",
    "\n",
    "print('Earn:',round(ddii['earn'].sum(), 2), 'Vlong:',  round(ddii.loc[ddii['ls']=='long',  'vcurr'].sum(), 2),\n",
    "                                            'Vshort:', round(ddii.loc[ddii['ls']=='short', 'vcurr'].sum(), 2))\n",
    "ddii"
   ]
  },
  {
   "cell_type": "code",
   "execution_count": null,
   "metadata": {},
   "outputs": [],
   "source": [
    "rolwin = 50\n",
    "tic = 'SPCE'\n",
    "ret = dfy[tic].pct_change().dropna()\n",
    "retmean = ((ret.rolling(window=rolwin)).mean() * 252).dropna()\n",
    "risk = (ret.rolling(window=rolwin).std() * np.sqrt(252)).dropna()\n",
    "sharpe = retmean / risk\n",
    "#plot_d(dfy.loc[retmean.index,'date'], sharpe, title=tic+' sharpe', draw_LRline=False, draw_line0=True)\n",
    "sharpe.mean()"
   ]
  },
  {
   "cell_type": "code",
   "execution_count": null,
   "metadata": {},
   "outputs": [],
   "source": [
    "def plot_rolling_sharpe(df, tic, rolwindow=40, min_sharpe=-1000, max_sharpe=1000,\n",
    "                       draw_returns=True, draw_risk=True):\n",
    "    returns = df[tic].pct_change().dropna()\n",
    "    retmean = ((returns.rolling(window=rolwindow)).mean() * 252).dropna()\n",
    "    risk = (returns.rolling(window=rolwindow).std() * np.sqrt(252)).dropna()\n",
    "    sharpe = retmean / risk\n",
    "    lastsharpe = sharpe.iloc[-rolwindow:].mean()\n",
    "    lastrisk = risk.iloc[-rolwindow:].mean()\n",
    "    lastreturn = retmean.iloc[-rolwindow:].mean()\n",
    "    \n",
    "    if lastsharpe > min_sharpe and lastsharpe < max_sharpe:\n",
    "        figax = plot_d(df.loc[risk.index,'date'], sharpe, title=tic+' sharpe=' + str(round(lastsharpe,2)),\n",
    "                       draw_LRline=False, draw_line0=True)\n",
    "        \n",
    "        if draw_returns:\n",
    "            figax3 = plot_d(df.loc[risk.index,'date'], retmean, title=tic+' returns=' + str(round(lastreturn,2)),\n",
    "                            draw_LRline=False, draw_line0=True)\n",
    "        \n",
    "        if draw_risk:\n",
    "            figax2 = plot_d(df.loc[risk.index,'date'], risk, title=tic+' risk=' + str(round(lastrisk,2)),\n",
    "                            draw_LRline=False, draw_line0=True)\n"
   ]
  },
  {
   "cell_type": "code",
   "execution_count": null,
   "metadata": {},
   "outputs": [],
   "source": [
    "f = plot_rolling_sharpe(dfy, 'SPCE', rolwindow=40)"
   ]
  },
  {
   "cell_type": "code",
   "execution_count": null,
   "metadata": {},
   "outputs": [],
   "source": [
    "for x in us_tics:\n",
    "    figax = plot_rolling_sharpe(dfy, x, rolwindow=20, max_sharpe=0.5)\n",
    "    #plt.close(figax[0])\n",
    "    "
   ]
  },
  {
   "cell_type": "code",
   "execution_count": null,
   "metadata": {},
   "outputs": [],
   "source": [
    "tics = ['SBER', 'GAZP', 'ROSN', 'RUAL', 'GMKN']\n",
    "tics = cols_wo_dates(dfm)\n",
    "dftemp = dfm[['date']+tics].copy()\n",
    "dftemp_ret = dftemp[tics].pct_change().dropna()\n",
    "cumulative_returns = (1 + dftemp_ret).cumprod()\n",
    "\n",
    "for x in range(0, len(tics)-1, 5):\n",
    "    #print(x,x+4)\n",
    "    #print(cumulative_returns.iloc[:,[x,x+4]])\n",
    "    cumulative_returns.iloc[:,x:x+4].plot(figsize=(10, 5), title=\"Cumulative Returns\");\n",
    "\n"
   ]
  },
  {
   "cell_type": "code",
   "execution_count": null,
   "metadata": {},
   "outputs": [],
   "source": []
  },
  {
   "cell_type": "code",
   "execution_count": null,
   "metadata": {},
   "outputs": [],
   "source": [
    "#plot_d(dfy['date'], dfy['SPCE'], title='1', x_intervals=5, g_size=(5,3), draw_grid=False, \n",
    "#       draw_LRline=True, xaxe_date=True, scatter=False)"
   ]
  },
  {
   "cell_type": "code",
   "execution_count": null,
   "metadata": {},
   "outputs": [],
   "source": []
  },
  {
   "cell_type": "code",
   "execution_count": null,
   "metadata": {},
   "outputs": [],
   "source": [
    "plot_norm_d(dfy, ['AAPL', 'SP500', 'TSLA', 'T'])"
   ]
  },
  {
   "cell_type": "code",
   "execution_count": null,
   "metadata": {},
   "outputs": [],
   "source": []
  },
  {
   "cell_type": "code",
   "execution_count": null,
   "metadata": {},
   "outputs": [],
   "source": [
    "#t = yf.Ticker('RRC')\n",
    "#b = t.info #).update({'tic':'RRC'})"
   ]
  },
  {
   "cell_type": "code",
   "execution_count": null,
   "metadata": {},
   "outputs": [],
   "source": [
    "#dict_yfinfo = yfinfo_mt_load(us_tics)"
   ]
  },
  {
   "cell_type": "code",
   "execution_count": null,
   "metadata": {},
   "outputs": [],
   "source": [
    "#ticslist = list(pd.merge(df_5min, df_instr, on='figi').groupby(['ticker']).count().index)"
   ]
  },
  {
   "cell_type": "code",
   "execution_count": null,
   "metadata": {},
   "outputs": [],
   "source": [
    "return_risk_stock(dfy[-70:], 'SPCE')"
   ]
  },
  {
   "cell_type": "code",
   "execution_count": null,
   "metadata": {},
   "outputs": [],
   "source": [
    "hdf5_contain('dat.h5')"
   ]
  },
  {
   "cell_type": "code",
   "execution_count": null,
   "metadata": {},
   "outputs": [],
   "source": [
    "#print(dfm_coint.loc['POLY', 'PLZL'])\n",
    "#plot_spred_d(dfm, 'RUAL', 'GMKN')"
   ]
  },
  {
   "cell_type": "code",
   "execution_count": null,
   "metadata": {},
   "outputs": [],
   "source": [
    "plot_LR_rel2tic_d(dfy, 'HLT', 'DRI')"
   ]
  },
  {
   "cell_type": "code",
   "execution_count": null,
   "metadata": {},
   "outputs": [],
   "source": []
  },
  {
   "cell_type": "code",
   "execution_count": null,
   "metadata": {},
   "outputs": [],
   "source": [
    "'LI' in all_us_ticks"
   ]
  },
  {
   "cell_type": "code",
   "execution_count": null,
   "metadata": {},
   "outputs": [],
   "source": [
    "import yahoo_fin.stock_info as si\n",
    "from yahoo_fin import news\n",
    "\n",
    "reload(gz_mainlib)\n",
    "reload(gz_plotlib)\n",
    "reload(gz_rwlib)\n",
    "reload(gz_const)\n",
    "reload(gz_dwnllib)\n",
    "\n",
    "from gz_mainlib import *\n",
    "from gz_plotlib import *\n",
    "from gz_dwnllib import *\n",
    "from gz_rwlib import *\n",
    "from gz_const import *\n",
    "\n",
    "mainver()\n",
    "plotver()\n",
    "rwver()\n",
    "dwnlver()"
   ]
  },
  {
   "cell_type": "code",
   "execution_count": null,
   "metadata": {},
   "outputs": [],
   "source": [
    "download_yahoo_doclh('AAPL')"
   ]
  },
  {
   "cell_type": "code",
   "execution_count": null,
   "metadata": {},
   "outputs": [],
   "source": [
    "si.get_data('aapl', start_date=datetime.date(2021,6,1))"
   ]
  },
  {
   "cell_type": "code",
   "execution_count": null,
   "metadata": {},
   "outputs": [],
   "source": [
    "si.get_quote_table(\"LGIH\")"
   ]
  },
  {
   "cell_type": "code",
   "execution_count": null,
   "metadata": {},
   "outputs": [],
   "source": [
    "#news.get_yf_rss(\"LGIH\")\n",
    "yfinfo['LGIH']"
   ]
  },
  {
   "cell_type": "code",
   "execution_count": null,
   "metadata": {},
   "outputs": [],
   "source": [
    "si.get_stats_valuation('LGIH')"
   ]
  },
  {
   "cell_type": "code",
   "execution_count": null,
   "metadata": {},
   "outputs": [],
   "source": [
    "quote"
   ]
  },
  {
   "cell_type": "code",
   "execution_count": null,
   "metadata": {},
   "outputs": [],
   "source": [
    "si.get_stats_valuation('TSLA')"
   ]
  },
  {
   "cell_type": "code",
   "execution_count": null,
   "metadata": {},
   "outputs": [],
   "source": [
    "#si.get_balance_sheet('aapl')"
   ]
  },
  {
   "cell_type": "code",
   "execution_count": null,
   "metadata": {},
   "outputs": [],
   "source": [
    "val = val.iloc[:,:2]\n",
    " \n",
    "val.columns = [\"Attribute\", \"Recent\"]"
   ]
  },
  {
   "cell_type": "code",
   "execution_count": null,
   "metadata": {},
   "outputs": [],
   "source": [
    "val"
   ]
  },
  {
   "cell_type": "code",
   "execution_count": null,
   "metadata": {},
   "outputs": [],
   "source": [
    "#sp500_list = si.tickers_sp500()"
   ]
  },
  {
   "cell_type": "code",
   "execution_count": null,
   "metadata": {},
   "outputs": [],
   "source": [
    "msft = yf.Ticker(\"MSFT\")"
   ]
  },
  {
   "cell_type": "code",
   "execution_count": null,
   "metadata": {},
   "outputs": [],
   "source": [
    "hist = msft.history(period=\"max\")"
   ]
  },
  {
   "cell_type": "code",
   "execution_count": null,
   "metadata": {},
   "outputs": [],
   "source": [
    "hist"
   ]
  },
  {
   "cell_type": "code",
   "execution_count": null,
   "metadata": {},
   "outputs": [],
   "source": []
  }
 ],
 "metadata": {
  "kernelspec": {
   "display_name": "Python 3 (ipykernel)",
   "language": "python",
   "name": "python3"
  },
  "language_info": {
   "codemirror_mode": {
    "name": "ipython",
    "version": 3
   },
   "file_extension": ".py",
   "mimetype": "text/x-python",
   "name": "python",
   "nbconvert_exporter": "python",
   "pygments_lexer": "ipython3",
   "version": "3.8.10"
  }
 },
 "nbformat": 4,
 "nbformat_minor": 4
}
