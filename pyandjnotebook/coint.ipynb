{
 "cells": [
  {
   "cell_type": "code",
   "execution_count": 22,
   "metadata": {},
   "outputs": [
    {
     "name": "stdout",
     "output_type": "stream",
     "text": [
      "Main ver: 67\n",
      "Plot ver: 67\n",
      "RW ver: 67\n",
      "Download ver: 67\n",
      "Const ver: 68\n"
     ]
    }
   ],
   "source": [
    "from gz_import import *\n",
    "from gz_mainlib import *\n",
    "from gz_plotlib import *\n",
    "from gz_dwnllib import *\n",
    "from gz_rwlib import *\n",
    "from gz_const import *\n",
    "\n",
    "mainver()\n",
    "plotver()\n",
    "rwver()\n",
    "dwnlver()\n",
    "constver()"
   ]
  },
  {
   "cell_type": "code",
   "execution_count": null,
   "metadata": {},
   "outputs": [],
   "source": []
  },
  {
   "cell_type": "code",
   "execution_count": 23,
   "metadata": {},
   "outputs": [],
   "source": [
    "#df_instruments = pd.read_hdf('instruments.h5', 'instruments')\n",
    "#df_instruments = pd.read_hdf('dat.h5', 'df_instruments')\n",
    "#dict_yfinfo = hdf5_readjson('dat.h5', 'dict_yfinfo')\n",
    "#df_instruments.to_hdf('dat.h5', 'df_instruments')\n",
    "\n",
    "dfy = pd.read_hdf('dat.h5', 'dfy')\n",
    "dfm = pd.read_hdf('dat.h5', 'dfm')\n",
    "dfy_corr = pd.read_hdf('dat.h5', 'dfy_corr')\n",
    "dfm_corr = pd.read_hdf('dat.h5', 'dfm_corr')"
   ]
  },
  {
   "cell_type": "code",
   "execution_count": null,
   "metadata": {},
   "outputs": [],
   "source": []
  },
  {
   "cell_type": "code",
   "execution_count": 12,
   "metadata": {},
   "outputs": [],
   "source": [
    "#hdf5_contain('dat.h5')"
   ]
  },
  {
   "cell_type": "code",
   "execution_count": 24,
   "metadata": {},
   "outputs": [],
   "source": [
    "dfy_coint = pd.DataFrame(data=np.float64(0.0), index = dfy_corr.index, columns=dfy_corr.columns)\n",
    "dfm_coint = pd.DataFrame(data=np.float64(0.0), index = dfm_corr.index, columns=dfm_corr.columns)"
   ]
  },
  {
   "cell_type": "code",
   "execution_count": 20,
   "metadata": {},
   "outputs": [],
   "source": [
    "#print(sorted(dfm.columns))"
   ]
  },
  {
   "cell_type": "code",
   "execution_count": 25,
   "metadata": {},
   "outputs": [
    {
     "name": "stdout",
     "output_type": "stream",
     "text": [
      "Len coint: 15376\n",
      "15374 SBERP ROSNP"
     ]
    }
   ],
   "source": [
    "len_coint = len(list(product(dfm_coint.index, dfm_coint.columns)))\n",
    "print('Len coint:', len_coint)\n",
    "\n",
    "for n,x in enumerate(product(dfm_coint.index, dfm_coint.columns)):\n",
    "    if x[0] != x[1]:    \n",
    "        print('\\r' + str(n) + ' ' + x[0] + ' ' + x[1], end='', flush=True)\n",
    "        dfm_coint.loc[x[0],x[1]] = ts.coint(dfm[x[0]], dfm[x[1]])[1]"
   ]
  },
  {
   "cell_type": "code",
   "execution_count": 26,
   "metadata": {},
   "outputs": [],
   "source": [
    "dfm_coint.to_hdf('dat.h5', 'dfm_coint')"
   ]
  },
  {
   "cell_type": "code",
   "execution_count": 27,
   "metadata": {},
   "outputs": [
    {
     "name": "stdout",
     "output_type": "stream",
     "text": [
      "Len coint: 123201\n",
      "123199 STAG WFCDLQCalc coint time, sec: 2157.90\n"
     ]
    }
   ],
   "source": [
    "time1 = time.monotonic()\n",
    "len_coint = len(list(product(dfy_coint.index, dfy_coint.columns)))\n",
    "print('Len coint:', len_coint)\n",
    "\n",
    "for n,x in enumerate(product(dfy_coint.index, dfy_coint.columns)):\n",
    "    if x[0] != x[1]:    \n",
    "        print('\\r' + str(n) + ' ' + x[0] + ' ' + x[1], end='', flush=True)\n",
    "        dfy_coint.loc[x[0],x[1]] = ts.coint(dfy[x[0]], dfy[x[1]])[1]\n",
    "        \n",
    "time2 = time.monotonic()        \n",
    "\n",
    "print('Calc coint time, sec: {0:.2f}'.format(time2-time1))"
   ]
  },
  {
   "cell_type": "code",
   "execution_count": 28,
   "metadata": {},
   "outputs": [],
   "source": [
    "dfy_coint.to_hdf('dat.h5', 'dfy_coint')"
   ]
  },
  {
   "cell_type": "code",
   "execution_count": null,
   "metadata": {},
   "outputs": [],
   "source": []
  },
  {
   "cell_type": "code",
   "execution_count": null,
   "metadata": {},
   "outputs": [],
   "source": []
  },
  {
   "cell_type": "code",
   "execution_count": null,
   "metadata": {},
   "outputs": [],
   "source": []
  }
 ],
 "metadata": {
  "kernelspec": {
   "display_name": "Python 3",
   "language": "python",
   "name": "python3"
  },
  "language_info": {
   "codemirror_mode": {
    "name": "ipython",
    "version": 3
   },
   "file_extension": ".py",
   "mimetype": "text/x-python",
   "name": "python",
   "nbconvert_exporter": "python",
   "pygments_lexer": "ipython3",
   "version": "3.7.4"
  }
 },
 "nbformat": 4,
 "nbformat_minor": 4
}
