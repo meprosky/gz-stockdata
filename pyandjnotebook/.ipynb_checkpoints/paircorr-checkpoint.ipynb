{
 "cells": [
  {
   "cell_type": "code",
   "execution_count": null,
   "id": "wicked-bibliography",
   "metadata": {},
   "outputs": [],
   "source": [
    "#Блокнот для идей с парными корреляциями\n",
    "\n",
    "from gz_import import *\n",
    "from gz_mainlib import *\n",
    "from gz_plotlib import *\n",
    "from gz_dwnllib import *\n",
    "from gz_rwlib import *\n",
    "from gz_const import *\n",
    "\n",
    "mainver()\n",
    "plotver()\n",
    "rwver()\n",
    "dwnlver()\n",
    "constver()"
   ]
  },
  {
   "cell_type": "code",
   "execution_count": null,
   "id": "humanitarian-gazette",
   "metadata": {},
   "outputs": [],
   "source": [
    "dfy = pd.read_hdf('dat.h5', 'dfy')\n",
    "dfy_doclh = pd.read_hdf('dat.h5', 'dfy_doclh')\n",
    "dfy_corr = pd.read_hdf('dat.h5', 'dfy_corr')"
   ]
  },
  {
   "cell_type": "code",
   "execution_count": null,
   "id": "velvet-dairy",
   "metadata": {},
   "outputs": [],
   "source": [
    "l_corr = []\n",
    "\n",
    "for x,y in permutations(dfy_corr.columns[3:],2):\n",
    "    indstr1 =  get_dictkey(d_industry_tics, x)\n",
    "    indstr2 =  get_dictkey(d_industry_tics, y)\n",
    "    #ret_x,risk_x,_ = return_risk_stock(dfy, x)\n",
    "    #ret_y,risk_y,_ = return_risk_stock(dfy, y)\n",
    "    \n",
    "    corr = dfy_corr.loc[x, y]\n",
    "    \n",
    "    if x != y and corr > 0.8 and indstr1 == indstr2: \n",
    "        \n",
    "        l_corr.append([x,y])\n",
    "        # and risk_x > 0.7 corr < 0.85 and :\n",
    "        #dfy_coint.loc[x,y] < 0.05: # and risk_x > 0.9:\n",
    "        \n",
    "        print(round(dfy_corr.loc[x, y], 2), x, y, indstr1, indstr2) #, round(risk_x,2), round(risk_y,2))\n",
    "        \n",
    "        #plot_LR_rel2tic_d(dfy, x, y)"
   ]
  },
  {
   "cell_type": "code",
   "execution_count": null,
   "id": "decent-passenger",
   "metadata": {},
   "outputs": [],
   "source": [
    "l_corrrest = sorted(list(set(sum(l_corr, []))))"
   ]
  },
  {
   "cell_type": "code",
   "execution_count": null,
   "id": "australian-taste",
   "metadata": {},
   "outputs": [],
   "source": []
  },
  {
   "cell_type": "code",
   "execution_count": null,
   "id": "caroline-checkout",
   "metadata": {},
   "outputs": [],
   "source": [
    "temp = dfy_doclh.copy()\n",
    "temp_shift1 = temp.shift(1)\n",
    "\n",
    "#temp - temp.shift(1)\n",
    "droplist1 = []\n",
    "ren1 = {}\n",
    "\n",
    "for x in temp.columns[1:]:\n",
    "    if '_close' not in x:\n",
    "        droplist1.append(x) \n",
    "    elif '_close' in x:\n",
    "        ren1.update({x:x.replace('_close','')})\n",
    "\n",
    "        \n",
    "droplist2 = []\n",
    "ren2 = {}\n",
    "for x in temp_shift1.columns[1:]:\n",
    "    if '_close' not in x:\n",
    "        droplist2.append(x) \n",
    "    elif '_close' in x:\n",
    "        ren2.update({x:x.replace('_close','')})\n",
    "\n",
    "        \n",
    "temp.drop(droplist1, axis=1, inplace=True)      \n",
    "temp.rename(ren1, axis=1, inplace=True)\n",
    "temp_shift1.drop(droplist2, axis=1, inplace=True)        \n",
    "temp_shift1.rename(ren2, axis=1, inplace=True)\n",
    "1"
   ]
  },
  {
   "cell_type": "code",
   "execution_count": null,
   "id": "based-taste",
   "metadata": {},
   "outputs": [],
   "source": [
    "#set(list(df_res.columns))"
   ]
  },
  {
   "cell_type": "code",
   "execution_count": null,
   "id": "brilliant-shakespeare",
   "metadata": {},
   "outputs": [],
   "source": [
    "#l_dff = set(l_corrrest) ^ set(list(df_res.columns))"
   ]
  },
  {
   "cell_type": "code",
   "execution_count": null,
   "id": "western-bunch",
   "metadata": {},
   "outputs": [],
   "source": [
    "df_res =  temp[['date']].join((temp_shift1.iloc[:,1:] - temp.iloc[:,1:])/ temp.iloc[:,1:]).dropna()\n",
    "#df_res"
   ]
  },
  {
   "cell_type": "code",
   "execution_count": null,
   "id": "continuing-logan",
   "metadata": {},
   "outputs": [],
   "source": [
    "for e in l_corr:\n",
    "    x = e[0]\n",
    "    y = e[1]\n",
    "    \n",
    "    df_res['d_'+ x + '_' + y] = df_res[x] - df_res[y]"
   ]
  },
  {
   "cell_type": "code",
   "execution_count": null,
   "id": "informative-intelligence",
   "metadata": {},
   "outputs": [],
   "source": [
    "df_res"
   ]
  },
  {
   "cell_type": "code",
   "execution_count": null,
   "id": "unnecessary-slide",
   "metadata": {},
   "outputs": [],
   "source": [
    "sorted(df_res.drop(l_dff, axis=1).columns)"
   ]
  },
  {
   "cell_type": "code",
   "execution_count": null,
   "id": "minimal-occupation",
   "metadata": {},
   "outputs": [],
   "source": [
    "l_corr"
   ]
  },
  {
   "cell_type": "code",
   "execution_count": null,
   "id": "proved-backing",
   "metadata": {},
   "outputs": [],
   "source": [
    "len(df_res[df_res['AAPL'] > 0.02][['AAPL']])\n"
   ]
  },
  {
   "cell_type": "code",
   "execution_count": null,
   "id": "spread-appraisal",
   "metadata": {},
   "outputs": [],
   "source": [
    "len(dfy)"
   ]
  },
  {
   "cell_type": "code",
   "execution_count": null,
   "id": "terminal-contamination",
   "metadata": {},
   "outputs": [],
   "source": [
    "d_res = df_res[df_res.iloc[:,1:] > 0.05].count().to_dict()"
   ]
  },
  {
   "cell_type": "code",
   "execution_count": null,
   "id": "serious-airport",
   "metadata": {},
   "outputs": [],
   "source": [
    "#sorted(d_res.items())\n",
    "#df_res[-50:]"
   ]
  },
  {
   "cell_type": "code",
   "execution_count": null,
   "id": "great-regard",
   "metadata": {},
   "outputs": [],
   "source": [
    "df_res2 = df_res[-50:]\n",
    "d_res2 = df_res2[df_res2.iloc[:,1:] < -0.01].count().to_dict()\n",
    "{k: v for k, v in sorted(d_res2.items(), key=lambda item: item[1])}"
   ]
  },
  {
   "cell_type": "code",
   "execution_count": null,
   "id": "stainless-annotation",
   "metadata": {},
   "outputs": [],
   "source": [
    "#yfinfo['JP']\n",
    "download_ticker_info('Z')"
   ]
  },
  {
   "cell_type": "code",
   "execution_count": null,
   "id": "boring-coverage",
   "metadata": {},
   "outputs": [],
   "source": []
  }
 ],
 "metadata": {
  "kernelspec": {
   "display_name": "Python 3 (ipykernel)",
   "language": "python",
   "name": "python3"
  },
  "language_info": {
   "codemirror_mode": {
    "name": "ipython",
    "version": 3
   },
   "file_extension": ".py",
   "mimetype": "text/x-python",
   "name": "python",
   "nbconvert_exporter": "python",
   "pygments_lexer": "ipython3",
   "version": "3.8.10"
  }
 },
 "nbformat": 4,
 "nbformat_minor": 5
}
