{
 "cells": [
  {
   "cell_type": "code",
   "execution_count": null,
   "id": "pressing-dylan",
   "metadata": {},
   "outputs": [],
   "source": [
    "#Блокнот для получения данных через тиньков api \n",
    "from openapi_client import openapi\n",
    "import json\n",
    "import datetime\n",
    "import pytz\n",
    "from pytz import timezone\n",
    "from dateutil.tz import tzutc\n",
    "import pandas as pd\n",
    "from time import sleep\n",
    "import h5py\n",
    "import tables"
   ]
  },
  {
   "cell_type": "code",
   "execution_count": null,
   "id": "prerequisite-executive",
   "metadata": {},
   "outputs": [],
   "source": [
    "def findticker(instrlist, tic):\n",
    "    return list(filter(lambda instr: instr['ticker'] == tic, instrlist))[0]"
   ]
  },
  {
   "cell_type": "code",
   "execution_count": null,
   "id": "artificial-polyester",
   "metadata": {},
   "outputs": [],
   "source": [
    "token = ''  \n",
    "client = openapi.api_client(token)"
   ]
  },
  {
   "cell_type": "code",
   "execution_count": null,
   "id": "junior-variation",
   "metadata": {},
   "outputs": [],
   "source": [
    "stocks = client.market.market_stocks_get()"
   ]
  },
  {
   "cell_type": "code",
   "execution_count": null,
   "id": "limited-taylor",
   "metadata": {},
   "outputs": [],
   "source": [
    "instruments_l = stocks.payload.instruments\n",
    "instruments = [x.to_dict() for x in instruments_l]"
   ]
  },
  {
   "cell_type": "code",
   "execution_count": null,
   "id": "approximate-inquiry",
   "metadata": {},
   "outputs": [],
   "source": [
    "len(instruments_l)"
   ]
  },
  {
   "cell_type": "code",
   "execution_count": null,
   "id": "architectural-devil",
   "metadata": {},
   "outputs": [],
   "source": [
    "instruments_l"
   ]
  },
  {
   "cell_type": "code",
   "execution_count": null,
   "id": "surgical-orleans",
   "metadata": {},
   "outputs": [],
   "source": [
    "itics = ['MGNT', 'FIVE', 'ROSN', 'SNGS', 'RUAL', 'GMKN', 'LKOH', 'TATN', 'NVTK', 'AFKS', 'NLMK', \n",
    "         'TROW', 'T', 'KMI', 'GS', 'AXP', 'EMR', 'HON', 'MA', 'AXP', 'MS', 'V', 'MU', 'QCOM']"
   ]
  },
  {
   "cell_type": "code",
   "execution_count": null,
   "id": "center-lighting",
   "metadata": {},
   "outputs": [],
   "source": [
    "figilist = [findticker(instruments, x)['figi'] for x in itics]"
   ]
  },
  {
   "cell_type": "code",
   "execution_count": null,
   "id": "mobile-architecture",
   "metadata": {},
   "outputs": [],
   "source": []
  },
  {
   "cell_type": "code",
   "execution_count": null,
   "id": "unexpected-reader",
   "metadata": {},
   "outputs": [],
   "source": [
    "#mos = timezone('Europe/Moscow')\n",
    "#datetime.datetime(2021,3,11, 0, 0, 0, tzinfo=tzutc()).astimezone(mos)\n",
    "#datetime.datetime(2021, 3, 11, 7, 30, tzinfo=tzutc())\n",
    "datetime.datetime.utcnow()"
   ]
  },
  {
   "cell_type": "code",
   "execution_count": null,
   "id": "commercial-painting",
   "metadata": {},
   "outputs": [],
   "source": [
    "df_instruments = pd.DataFrame(instruments)\n",
    "df_instruments.to_hdf('2021-07-10 instruments', 'instruments')"
   ]
  },
  {
   "cell_type": "code",
   "execution_count": null,
   "id": "quarterly-twelve",
   "metadata": {},
   "outputs": [],
   "source": [
    "df_instruments.to_hdf('candles5min.h5', 'instruments')"
   ]
  },
  {
   "cell_type": "code",
   "execution_count": null,
   "id": "floppy-pocket",
   "metadata": {},
   "outputs": [],
   "source": [
    "df_instruments"
   ]
  },
  {
   "cell_type": "code",
   "execution_count": null,
   "id": "urban-possibility",
   "metadata": {},
   "outputs": [],
   "source": [
    "#t1 = datetime(2021,3,11, 0, 0, 0, tzinfo=pytz.timezone('Europe/Moscow'))\n",
    "#t2 = datetime(2021,3,12, 0, 0, 0, tzinfo=pytz.timezone('Europe/Moscow'))"
   ]
  },
  {
   "cell_type": "code",
   "execution_count": null,
   "id": "civil-martial",
   "metadata": {},
   "outputs": [],
   "source": [
    "#t1 = datetime.datetime(2021,3,11, 0, 0, 0, tzinfo=tzutc())\n",
    "#t2 = datetime.datetime(2021,3,12, 0, 0, 0, tzinfo=tzutc())"
   ]
  },
  {
   "cell_type": "code",
   "execution_count": null,
   "id": "widespread-significance",
   "metadata": {},
   "outputs": [],
   "source": [
    "#client.market.market_candles_get('BBG004RVFCY3', t1, t2, '10min')"
   ]
  },
  {
   "cell_type": "code",
   "execution_count": null,
   "id": "undefined-bathroom",
   "metadata": {},
   "outputs": [],
   "source": [
    "#d5 = client.market.market_candles_get('BBG004RVFCY3', t1, t2, '10min')"
   ]
  },
  {
   "cell_type": "code",
   "execution_count": null,
   "id": "potential-monkey",
   "metadata": {},
   "outputs": [],
   "source": [
    "#val = d5.payload.candles"
   ]
  },
  {
   "cell_type": "code",
   "execution_count": null,
   "id": "worth-developer",
   "metadata": {},
   "outputs": [],
   "source": [
    "#listdicts = [x.to_dict() for x in val]"
   ]
  },
  {
   "cell_type": "code",
   "execution_count": null,
   "id": "hairy-sharing",
   "metadata": {},
   "outputs": [],
   "source": []
  },
  {
   "cell_type": "code",
   "execution_count": null,
   "id": "fresh-politics",
   "metadata": {},
   "outputs": [],
   "source": [
    "date_start = datetime.datetime(2021,1,1, 0, 0, 0, tzinfo=tzutc())\n",
    "date_end = datetime.datetime(2021,3,19, 0, 0, 0, tzinfo=tzutc())\n",
    "delta = datetime.timedelta(days=1)\n",
    "\n",
    "listdicts = []\n",
    "\n",
    "\n",
    "for x in figilist:\n",
    "    sleep(30)\n",
    "    \n",
    "    print(x)\n",
    "    \n",
    "    date_start = datetime.datetime(2021,1,1, 0, 0, 0, tzinfo=tzutc())\n",
    "    date_end = datetime.datetime(2021,3,19, 0, 0, 0, tzinfo=tzutc())\n",
    "    delta = datetime.timedelta(days=1)\n",
    "    \n",
    "    while date_start <= date_end:\n",
    "        #print(date_start)\n",
    "        t1 = date_start\n",
    "        t2 = date_start + delta  \n",
    "        #print(x)\n",
    "        res = client.market.market_candles_get(x, t1, t2, '5min')\n",
    "        val = res.payload.candles\n",
    "    \n",
    "        templistdicts = [x.to_dict() for x in val]\n",
    "    \n",
    "        listdicts += templistdicts\n",
    "    \n",
    "        date_start += delta\n",
    "        \n",
    "        \n",
    "    "
   ]
  },
  {
   "cell_type": "code",
   "execution_count": null,
   "id": "uniform-thanks",
   "metadata": {},
   "outputs": [],
   "source": [
    "all5min = pd.DataFrame(listdicts)"
   ]
  },
  {
   "cell_type": "code",
   "execution_count": null,
   "id": "hollow-program",
   "metadata": {},
   "outputs": [],
   "source": [
    "all5min.to_hdf('candles5min.h5', 'candles5min')"
   ]
  },
  {
   "cell_type": "code",
   "execution_count": null,
   "id": "promising-basement",
   "metadata": {},
   "outputs": [],
   "source": [
    "instrlist = ticsall_js['instruments']\n",
    "\n",
    "itics = ['MGNT', 'FIVE', 'ROSN', 'SNGS', 'RUAL', 'GMKN', 'LKOH', 'TATN', 'NVTK', 'AFKS', 'NLMK', \n",
    "         'TROW', 'T', 'KMI', 'GS', 'AXP', 'EMR', 'HON', 'MA', 'AXP', 'MS', 'V', 'MU', 'QCOM']\n",
    "\n"
   ]
  },
  {
   "cell_type": "code",
   "execution_count": null,
   "id": "authentic-corporation",
   "metadata": {},
   "outputs": [],
   "source": []
  },
  {
   "cell_type": "code",
   "execution_count": null,
   "id": "directed-northeast",
   "metadata": {},
   "outputs": [],
   "source": [
    "figilist = [findticker(instrlist, x)['figi'] for x in itics]"
   ]
  },
  {
   "cell_type": "code",
   "execution_count": null,
   "id": "interested-charger",
   "metadata": {},
   "outputs": [],
   "source": []
  },
  {
   "cell_type": "code",
   "execution_count": null,
   "id": "confused-terminology",
   "metadata": {},
   "outputs": [],
   "source": []
  },
  {
   "cell_type": "code",
   "execution_count": null,
   "id": "functional-wedding",
   "metadata": {},
   "outputs": [],
   "source": [
    "with open('allinstr2.json', 'w') as f: \n",
    "    json.dump(stocks.payload.to_dict(), f)"
   ]
  },
  {
   "cell_type": "code",
   "execution_count": null,
   "id": "sporting-demographic",
   "metadata": {},
   "outputs": [],
   "source": [
    "with open('allinstr2.json') as f: \n",
    "    data = f.read()  \n",
    "    ticsall_js = json.loads(data) "
   ]
  },
  {
   "cell_type": "code",
   "execution_count": null,
   "id": "criminal-participant",
   "metadata": {},
   "outputs": [],
   "source": []
  }
 ],
 "metadata": {
  "kernelspec": {
   "display_name": "Python 3 (ipykernel)",
   "language": "python",
   "name": "python3"
  },
  "language_info": {
   "codemirror_mode": {
    "name": "ipython",
    "version": 3
   },
   "file_extension": ".py",
   "mimetype": "text/x-python",
   "name": "python",
   "nbconvert_exporter": "python",
   "pygments_lexer": "ipython3",
   "version": "3.8.10"
  }
 },
 "nbformat": 4,
 "nbformat_minor": 5
}
