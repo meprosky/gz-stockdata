{
 "cells": [
  {
   "cell_type": "code",
   "execution_count": 1,
   "metadata": {},
   "outputs": [
    {
     "name": "stdout",
     "output_type": "stream",
     "text": [
      "Main ver: 67\n",
      "Plot ver: 67\n",
      "RW ver: 67\n",
      "Download ver: 71\n",
      "Const ver: 71\n"
     ]
    }
   ],
   "source": [
    "#Вычисление коинтеграции пар тикеров\n",
    "\n",
    "from gz_import import *\n",
    "from gz_mainlib import *\n",
    "from gz_plotlib import *\n",
    "from gz_dwnllib import *\n",
    "from gz_rwlib import *\n",
    "from gz_const import *\n",
    "\n",
    "mainver()\n",
    "plotver()\n",
    "rwver()\n",
    "dwnlver()\n",
    "constver()"
   ]
  },
  {
   "cell_type": "code",
   "execution_count": null,
   "metadata": {},
   "outputs": [],
   "source": []
  },
  {
   "cell_type": "code",
   "execution_count": 2,
   "metadata": {},
   "outputs": [],
   "source": [
    "#df_instruments = pd.read_hdf('instruments.h5', 'instruments')\n",
    "#df_instruments = pd.read_hdf('dat.h5', 'df_instruments')\n",
    "#dict_yfinfo = hdf5_readjson('dat.h5', 'dict_yfinfo')\n",
    "#df_instruments.to_hdf('dat.h5', 'df_instruments')\n",
    "\n",
    "dfy = pd.read_hdf('dat.h5', 'dfy')\n",
    "dfm = pd.read_hdf('dat.h5', 'dfm')\n",
    "dfy_corr = pd.read_hdf('dat.h5', 'dfy_corr')\n",
    "dfm_corr = pd.read_hdf('dat.h5', 'dfm_corr')"
   ]
  },
  {
   "cell_type": "code",
   "execution_count": null,
   "metadata": {},
   "outputs": [],
   "source": []
  },
  {
   "cell_type": "code",
   "execution_count": 12,
   "metadata": {},
   "outputs": [],
   "source": [
    "#hdf5_contain('dat.h5')"
   ]
  },
  {
   "cell_type": "code",
   "execution_count": 3,
   "metadata": {},
   "outputs": [],
   "source": [
    "dfy_coint = pd.DataFrame(data=np.float64(0.0), index = dfy_corr.index, columns=dfy_corr.columns)\n",
    "dfm_coint = pd.DataFrame(data=np.float64(0.0), index = dfm_corr.index, columns=dfm_corr.columns)"
   ]
  },
  {
   "cell_type": "code",
   "execution_count": 4,
   "metadata": {},
   "outputs": [],
   "source": [
    "#print(sorted(dfm.columns))"
   ]
  },
  {
   "cell_type": "code",
   "execution_count": 10,
   "metadata": {},
   "outputs": [
    {
     "name": "stdout",
     "output_type": "stream",
     "text": [
      "Len coint: 14641\n",
      "14639 SBER LKOHPP"
     ]
    }
   ],
   "source": [
    "len_coint = len(list(product(dfm_coint.index, dfm_coint.columns)))\n",
    "print('Len coint:', len_coint)\n",
    "\n",
    "for n,x in enumerate(product(dfm_coint.index, dfm_coint.columns)):\n",
    "    if x[0] != x[1]:    \n",
    "        print('\\r' + str(n) + ' ' + x[0] + ' ' + x[1], end='', flush=True)\n",
    "        dfm_coint.loc[x[0],x[1]] = ts.coint(dfm[x[0]], dfm[x[1]])[1]"
   ]
  },
  {
   "cell_type": "code",
   "execution_count": 13,
   "metadata": {},
   "outputs": [],
   "source": [
    "dfm_coint.to_hdf('dat.h5', 'dfm_coint')"
   ]
  },
  {
   "cell_type": "code",
   "execution_count": 9,
   "metadata": {},
   "outputs": [
    {
     "name": "stdout",
     "output_type": "stream",
     "text": [
      "Len coint: 121801\n",
      "121799 VZ SXTRLQQQCalc coint time, sec: 4097.78\n"
     ]
    }
   ],
   "source": [
    "time1 = time.monotonic()\n",
    "len_coint = len(list(product(dfy_coint.index, dfy_coint.columns)))\n",
    "print('Len coint:', len_coint)\n",
    "\n",
    "for n,x in enumerate(product(dfy_coint.index, dfy_coint.columns)):\n",
    "    if x[0] != x[1]:    \n",
    "        print('\\r' + str(n) + ' ' + x[0] + ' ' + x[1], end='', flush=True)\n",
    "        dfy_coint.loc[x[0],x[1]] = ts.coint(dfy[x[0]], dfy[x[1]])[1]\n",
    "        \n",
    "time2 = time.monotonic()        \n",
    "\n",
    "print('Calc coint time, sec: {0:.2f}'.format(time2-time1))"
   ]
  },
  {
   "cell_type": "code",
   "execution_count": 14,
   "metadata": {},
   "outputs": [],
   "source": [
    "dfy_coint.to_hdf('dat.h5', 'dfy_coint')"
   ]
  },
  {
   "cell_type": "code",
   "execution_count": null,
   "metadata": {},
   "outputs": [],
   "source": []
  },
  {
   "cell_type": "code",
   "execution_count": null,
   "metadata": {},
   "outputs": [],
   "source": []
  },
  {
   "cell_type": "code",
   "execution_count": null,
   "metadata": {},
   "outputs": [],
   "source": []
  }
 ],
 "metadata": {
  "kernelspec": {
   "display_name": "Python 3 (ipykernel)",
   "language": "python",
   "name": "python3"
  },
  "language_info": {
   "codemirror_mode": {
    "name": "ipython",
    "version": 3
   },
   "file_extension": ".py",
   "mimetype": "text/x-python",
   "name": "python",
   "nbconvert_exporter": "python",
   "pygments_lexer": "ipython3",
   "version": "3.8.10"
  }
 },
 "nbformat": 4,
 "nbformat_minor": 4
}
