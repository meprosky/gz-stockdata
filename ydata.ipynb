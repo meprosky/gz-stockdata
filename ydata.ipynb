{
 "cells": [
  {
   "cell_type": "code",
   "execution_count": 1,
   "id": "official-soldier",
   "metadata": {},
   "outputs": [
    {
     "name": "stdout",
     "output_type": "stream",
     "text": [
      "Main ver: 67\n",
      "Plot ver: 67\n",
      "RW ver: 67\n",
      "Download ver: 67\n"
     ]
    }
   ],
   "source": [
    "from gz_import import *\n",
    "from gz_mainlib import *\n",
    "from gz_plotlib import *\n",
    "from gz_dwnllib import *\n",
    "from gz_rwlib import *\n",
    "from gz_const import *\n",
    "\n",
    "mainver()\n",
    "plotver()\n",
    "rwver()\n",
    "dwnlver()"
   ]
  },
  {
   "cell_type": "code",
   "execution_count": 3,
   "id": "absolute-definition",
   "metadata": {},
   "outputs": [],
   "source": [
    "#self._base_url = 'https://query1.finance.yahoo.com'\n",
    "#data = self.session.get(url=url, params=params, proxies=proxy)"
   ]
  },
  {
   "cell_type": "code",
   "execution_count": 3,
   "id": "secure-australia",
   "metadata": {},
   "outputs": [],
   "source": [
    "base_url = 'https://query1.finance.yahoo.com'"
   ]
  },
  {
   "cell_type": "code",
   "execution_count": 4,
   "id": "sunrise-complaint",
   "metadata": {},
   "outputs": [],
   "source": [
    "url = \"{}/v8/finance/chart/{}\".format(base_url, 'AAPL')"
   ]
  },
  {
   "cell_type": "code",
   "execution_count": null,
   "id": "second-halloween",
   "metadata": {},
   "outputs": [],
   "source": []
  },
  {
   "cell_type": "code",
   "execution_count": 2,
   "id": "beautiful-queensland",
   "metadata": {},
   "outputs": [],
   "source": [
    "def download_ticker_info(tic):\n",
    "    scrape_url = 'https://finance.yahoo.com/quote'\n",
    "    ticker_url = '{}/{}'.format(scrape_url, tic)\n",
    "    headers = {'User-Agent': 'Mozilla/5.0 (Macintosh; Intel Mac OS X 10_10_1) AppleWebKit/537.36 (KHTML, like Gecko) \\\n",
    "            Chrome/39.0.2171.95 Safari/537.36'}\n",
    "    \n",
    "    html = requests.get(ticker_url, headers=headers).text\n",
    "    \n",
    "    \n",
    "    #несколько попыток\n",
    "    if 'QuoteSummaryStore' not in html:\n",
    "        html = session.get(ticker_url).text\n",
    "        if 'QuoteSummaryStore' not in html:\n",
    "            html = session.get(ticker_url).text\n",
    "            if 'QuoteSummaryStore' not in html:\n",
    "                return {}\n",
    "    \n",
    "    json_str = html.split('root.App.main =')[1].split('(this)')[0].split(';\\n}')[0].strip()\n",
    "    data = json.loads(json_str)['context']['dispatcher']['stores']['QuoteSummaryStore']\n",
    "    \n",
    "    if 'summaryProfile' not in html:\n",
    "        return {}\n",
    "    \n",
    "    ticprofile = data['summaryProfile']\n",
    "    \n",
    "    return ticprofile\n"
   ]
  },
  {
   "cell_type": "code",
   "execution_count": 3,
   "id": "thrown-terrorist",
   "metadata": {},
   "outputs": [
    {
     "data": {
      "text/plain": [
       "{'zip': '95014',\n",
       " 'sector': 'Technology',\n",
       " 'fullTimeEmployees': 100000,\n",
       " 'longBusinessSummary': 'Apple Inc. designs, manufactures, and markets smartphones, personal computers, tablets, wearables, and accessories worldwide. It also sells various related services. The company offers iPhone, a line of smartphones; Mac, a line of personal computers; iPad, a line of multi-purpose tablets; and wearables, home, and accessories comprising AirPods, Apple TV, Apple Watch, Beats products, HomePod, iPod touch, and other Apple-branded and third-party accessories. It also provides AppleCare support services; cloud services store services; and operates various platforms, including the App Store, that allow customers to discover and download applications and digital content, such as books, music, video, games, and podcasts. In addition, the company offers various services, such as Apple Arcade, a game subscription service; Apple Music, which offers users a curated listening experience with on-demand radio stations; Apple News+, a subscription news and magazine service; Apple TV+, which offers exclusive original content; Apple Card, a co-branded credit card; and Apple Pay, a cashless payment service, as well as licenses its intellectual property. The company serves consumers, and small and mid-sized businesses; and the education, enterprise, and government markets. It sells and delivers third-party applications for its products through the App Store. The company also sells its products through its retail and online stores, and direct sales force; and third-party cellular network carriers, wholesalers, retailers, and resellers. Apple Inc. was founded in 1977 and is headquartered in Cupertino, California.',\n",
       " 'city': 'Cupertino',\n",
       " 'phone': '408-996-1010',\n",
       " 'state': 'CA',\n",
       " 'country': 'United States',\n",
       " 'companyOfficers': [],\n",
       " 'website': 'http://www.apple.com',\n",
       " 'maxAge': 86400,\n",
       " 'address1': 'One Apple Park Way',\n",
       " 'industry': 'Consumer Electronics'}"
      ]
     },
     "execution_count": 3,
     "metadata": {},
     "output_type": "execute_result"
    }
   ],
   "source": [
    "download_ticker_info('AAPL')"
   ]
  },
  {
   "cell_type": "code",
   "execution_count": 10,
   "id": "boxed-genesis",
   "metadata": {},
   "outputs": [],
   "source": [
    "def download_tinfo_add_todict(tic, yfd, que):\n",
    "    #stock = yf.Ticker(tic)\n",
    "    yfinfo =  download_ticker_info(tic)\n",
    "    yfinfo.update({'ticker':tic})\n",
    "    yfd.update({tic:yfinfo})\n",
    "    \n",
    "    if yfinfo == {}:\n",
    "        que.put(tic+' void info.')\n",
    "    else:\n",
    "        que.put(tic+' info ok.')\n",
    "    \n",
    "def load_mt_yahoo_ticsinfo(tics, pool_size=75):\n",
    "    yf_list = []\n",
    "    yf_dict = {}\n",
    "    #один тикер\n",
    "    if type(tics) is str:\n",
    "        tics = [tics]\n",
    "    que = Queue()\n",
    "    error_list = []\n",
    "    t_print = Mythread(print_mt, (que,))  \n",
    "    t_print.start()\n",
    "    t_pool = Threadpool(pool_size)\n",
    "\n",
    "    for tic in tics:\n",
    "        if t_pool.isfull():\n",
    "            t_pool.start_and_wait()\n",
    "        t = Mythread(download_tinfo_add_todict, \n",
    "                     (tic, yf_dict, que), tic)\n",
    "        t_pool.addthread(t)\n",
    "    \n",
    "    #если остались невыполненные работы дорабатываем        \n",
    "    if t_pool.poolsize > 0: \n",
    "        t_pool.start_and_wait()\n",
    "    que.put(100) #сигнал о завершении\n",
    "    sleep(0.1)\n",
    "    return yf_dict #pd.DataFrame(yf_list)"
   ]
  },
  {
   "cell_type": "code",
   "execution_count": 11,
   "id": "tired-symphony",
   "metadata": {},
   "outputs": [],
   "source": [
    "df_instruments = pd.read_hdf('dat.h5', 'df_instruments')\n",
    "all_us_ticks = sorted(df_instruments[df_instruments['currency'] == 'USD']['ticker'].tolist())"
   ]
  },
  {
   "cell_type": "code",
   "execution_count": 9,
   "id": "brutal-attack",
   "metadata": {},
   "outputs": [
    {
     "name": "stdout",
     "output_type": "stream",
     "text": [
      "ZTS info ok..ok..\n",
      "Print thread stopped\n"
     ]
    }
   ],
   "source": [
    "d_tics_info = load_mt_yahoo_ticsinfo(all_us_ticks, pool_size=200)"
   ]
  },
  {
   "cell_type": "code",
   "execution_count": 12,
   "id": "quarterly-elements",
   "metadata": {},
   "outputs": [
    {
     "name": "stdout",
     "output_type": "stream",
     "text": [
      "SPCE info ok.\n",
      "Print thread stopped\n"
     ]
    }
   ],
   "source": [
    "d_tics_info2 = load_mt_yahoo_ticsinfo(['TSLA', 'SPCE'], pool_size=200)"
   ]
  },
  {
   "cell_type": "code",
   "execution_count": 13,
   "id": "civil-justice",
   "metadata": {},
   "outputs": [
    {
     "data": {
      "text/plain": [
       "{'TSLA': {'zip': '94304',\n",
       "  'sector': 'Consumer Cyclical',\n",
       "  'fullTimeEmployees': 70757,\n",
       "  'longBusinessSummary': 'Tesla, Inc. designs, develops, manufactures, leases, and sells electric vehicles, and energy generation and storage systems in the United States, China, and internationally. The company operates in two segments, Automotive, and Energy Generation and Storage. The Automotive segment offers electric vehicles, as well as sells automotive regulatory credits. It provides sedans and sport utility vehicles through direct and used vehicle sales, a network of Tesla Superchargers, and in-app upgrades; and purchase financing and leasing services. This segment is also involved in the provision of non-warranty after-sales vehicle services, sale of used vehicles, retail merchandise, and vehicle insurance, as well as sale of products through its subsidiaries to third party customers; services for electric vehicles through its company-owned service locations, and Tesla mobile service technicians; and vehicle limited warranties and extended service plans. The Energy Generation and Storage segment engages in the design, manufacture, installation, sale, and leasing of solar energy generation and energy storage products, and related services to residential, commercial, and industrial customers and utilities through its website, stores, and galleries, as well as through a network of channel partners. This segment also offers service and repairs to its energy product customers, including under warranty; and various financing options to its solar customers. The company was formerly known as Tesla Motors, Inc. and changed its name to Tesla, Inc. in February 2017. Tesla, Inc. was founded in 2003 and is headquartered in Palo Alto, California.',\n",
       "  'city': 'Palo Alto',\n",
       "  'phone': '650-681-5000',\n",
       "  'state': 'CA',\n",
       "  'country': 'United States',\n",
       "  'companyOfficers': [],\n",
       "  'website': 'http://www.tesla.com',\n",
       "  'maxAge': 86400,\n",
       "  'address1': '3500 Deer Creek Road',\n",
       "  'industry': 'Auto Manufacturers',\n",
       "  'ticker': 'TSLA'},\n",
       " 'SPCE': {'zip': '88011',\n",
       "  'sector': 'Industrials',\n",
       "  'fullTimeEmployees': 823,\n",
       "  'longBusinessSummary': \"Virgin Galactic Holdings, Inc., an integrated aerospace company, develops human spaceflight for private individuals and researchers in the United States. It also manufactures air and space vehicles. The company's spaceship operations include commercial human spaceflight, flying commercial research, and development payloads into space. In addition, it engages in the design and development, manufacturing, ground and flight testing, and post-flight maintenance of spaceflight vehicles. The company was founded in 2017 is headquartered in Las Cruces, New Mexico.\",\n",
       "  'city': 'Las Cruces',\n",
       "  'phone': '575 424 2100',\n",
       "  'state': 'NM',\n",
       "  'country': 'United States',\n",
       "  'companyOfficers': [],\n",
       "  'website': 'http://www.virgingalactic.com',\n",
       "  'maxAge': 86400,\n",
       "  'address1': '166 North Roadrunner Parkway',\n",
       "  'industry': 'Aerospace & Defense',\n",
       "  'address2': 'Suite 1C',\n",
       "  'ticker': 'SPCE'}}"
      ]
     },
     "execution_count": 13,
     "metadata": {},
     "output_type": "execute_result"
    }
   ],
   "source": [
    "d_tics_info2"
   ]
  },
  {
   "cell_type": "code",
   "execution_count": 11,
   "id": "ahead-serial",
   "metadata": {},
   "outputs": [],
   "source": [
    "for x,y in d_tics_info.items():\n",
    "    if x == {}:\n",
    "        print('viod')"
   ]
  },
  {
   "cell_type": "code",
   "execution_count": null,
   "id": "christian-clinic",
   "metadata": {},
   "outputs": [],
   "source": []
  },
  {
   "cell_type": "code",
   "execution_count": 75,
   "id": "appreciated-scientist",
   "metadata": {},
   "outputs": [
    {
     "data": {
      "text/plain": [
       "'/yfinfo'"
      ]
     },
     "execution_count": 75,
     "metadata": {},
     "output_type": "execute_result"
    }
   ],
   "source": [
    "hdf5_writejson('dat.h5', 'yfinfo', d_tics_info)"
   ]
  },
  {
   "cell_type": "code",
   "execution_count": 6,
   "id": "bored-insider",
   "metadata": {},
   "outputs": [
    {
     "data": {
      "text/plain": [
       "['df_brent',\n",
       " 'df_instruments',\n",
       " 'dfm',\n",
       " 'dfm_coint',\n",
       " 'dfm_corr',\n",
       " 'dfm_doclh',\n",
       " 'dfy',\n",
       " 'dfy_coint',\n",
       " 'dfy_corr',\n",
       " 'dfy_doclh',\n",
       " 'l_industry_retrisksharpe',\n",
       " 'us_tics_download',\n",
       " 'us_tics_short',\n",
       " 'yfinfo']"
      ]
     },
     "execution_count": 6,
     "metadata": {},
     "output_type": "execute_result"
    }
   ],
   "source": [
    "hdf5_contain('dat.h5')\n",
    "#yfinfo = hdf5_readjson('dat.h5', 'yfinfo')\n",
    "#hdf5_delete_dataset('dat.h5', 'yfinfo')"
   ]
  },
  {
   "cell_type": "code",
   "execution_count": 79,
   "id": "quiet-criminal",
   "metadata": {},
   "outputs": [],
   "source": [
    "#hdf5_rewrite('dat.h5', 'dat2.h5')"
   ]
  },
  {
   "cell_type": "code",
   "execution_count": null,
   "id": "crude-tower",
   "metadata": {},
   "outputs": [],
   "source": []
  }
 ],
 "metadata": {
  "kernelspec": {
   "display_name": "Python 3",
   "language": "python",
   "name": "python3"
  },
  "language_info": {
   "codemirror_mode": {
    "name": "ipython",
    "version": 3
   },
   "file_extension": ".py",
   "mimetype": "text/x-python",
   "name": "python",
   "nbconvert_exporter": "python",
   "pygments_lexer": "ipython3",
   "version": "3.7.4"
  }
 },
 "nbformat": 4,
 "nbformat_minor": 5
}
